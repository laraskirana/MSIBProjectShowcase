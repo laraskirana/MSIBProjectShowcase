{
  "nbformat": 4,
  "nbformat_minor": 0,
  "metadata": {
    "colab": {
      "provenance": [],
      "collapsed_sections": [
        "srkA8PohOuzZ",
        "YMsrfbraOfgX",
        "QQbRZ-qJfHsL",
        "dHesf3fXpDdf"
      ]
    },
    "kernelspec": {
      "name": "python3",
      "display_name": "Python 3"
    },
    "language_info": {
      "name": "python"
    }
  },
  "cells": [
    {
      "cell_type": "markdown",
      "source": [
        "**Kelompok 6**:\n",
        "1. Aina Grace Aritonang - 2106651263\n",
        "2. Dexcel - 2106726932\n",
        "3. Laras Kirana Anindita - 2106653035\n",
        "4. Shafiyah Audiva Yasmin - 2106706880\n",
        "5. Whitney - 2106700946\n"
      ],
      "metadata": {
        "id": "b2ExlSZTMk8S"
      }
    },
    {
      "cell_type": "markdown",
      "source": [
        "Data diambil dari data Hoax dengan sumber https://www.mafindo.or.id/ , dimana Label \"0\" menyatakan bukan Hoax dan \"1\" menyatakan post Hoax."
      ],
      "metadata": {
        "id": "tVoGMyvdM7QX"
      }
    },
    {
      "cell_type": "markdown",
      "source": [
        "\n",
        "\n",
        "*   Lakukan PreProcessing pada variabel \"teks\" di data.\n",
        "*   Lalukan EDA pada data Hoax tersebut.\n",
        "\n",
        "*   Buat Model klasifikasi Hoax terbaik dengan parameter optimal (dan cross validated)\n",
        "*   Buatlah sebuah laporan Analisa Data tersebut (di Jupyter Notebook) seolah-olah anda adalah seorang Data Scientist Kominfo dan ditugaskan oleh menteri-nya untuk menjelaskan tentang data Hoax yang ada.\n",
        "\n",
        "*   Teknik preprocessing, slicing data, variabel selection & engineering, pemilihan visualisasi, interpretasi, Performa model klasifikasi, dan penyajian report adalah hal-hal yang akan dinilai dari kasus ini.\n",
        "\n",
        "\n",
        "\n",
        "\n",
        "\n"
      ],
      "metadata": {
        "id": "i0JKuc6BNFLX"
      }
    },
    {
      "cell_type": "markdown",
      "source": [
        "Link Google Colab : https://colab.research.google.com/drive/16YcKu_VQXK1NoddCmyCAlfKn8b81MqRh?usp=sharing"
      ],
      "metadata": {
        "id": "GzJiZ1zSGMiO"
      }
    },
    {
      "cell_type": "code",
      "execution_count": null,
      "metadata": {
        "colab": {
          "base_uri": "https://localhost:8080/"
        },
        "id": "umfJpI5hMeF3",
        "outputId": "31b855c1-2a84-4269-9a91-64855ce146ef"
      },
      "outputs": [
        {
          "output_type": "stream",
          "name": "stdout",
          "text": [
            "Requirement already satisfied: graphviz in /usr/local/lib/python3.10/dist-packages (0.20.1)\n",
            "Collecting dtreeviz\n",
            "  Downloading dtreeviz-2.2.2-py3-none-any.whl (91 kB)\n",
            "\u001b[2K     \u001b[90m━━━━━━━━━━━━━━━━━━━━━━━━━━━━━━━━━━━━━━━━\u001b[0m \u001b[32m91.8/91.8 kB\u001b[0m \u001b[31m3.0 MB/s\u001b[0m eta \u001b[36m0:00:00\u001b[0m\n",
            "\u001b[?25hRequirement already satisfied: pandas in /usr/local/lib/python3.10/dist-packages (from dtreeviz) (1.5.3)\n",
            "Requirement already satisfied: numpy in /usr/local/lib/python3.10/dist-packages (from dtreeviz) (1.23.5)\n",
            "Requirement already satisfied: scikit-learn in /usr/local/lib/python3.10/dist-packages (from dtreeviz) (1.2.2)\n",
            "Requirement already satisfied: matplotlib in /usr/local/lib/python3.10/dist-packages (from dtreeviz) (3.7.1)\n",
            "Requirement already satisfied: colour in /usr/local/lib/python3.10/dist-packages (from dtreeviz) (0.1.5)\n",
            "Requirement already satisfied: pytest in /usr/local/lib/python3.10/dist-packages (from dtreeviz) (7.4.3)\n",
            "Requirement already satisfied: contourpy>=1.0.1 in /usr/local/lib/python3.10/dist-packages (from matplotlib->dtreeviz) (1.2.0)\n",
            "Requirement already satisfied: cycler>=0.10 in /usr/local/lib/python3.10/dist-packages (from matplotlib->dtreeviz) (0.12.1)\n",
            "Requirement already satisfied: fonttools>=4.22.0 in /usr/local/lib/python3.10/dist-packages (from matplotlib->dtreeviz) (4.44.3)\n",
            "Requirement already satisfied: kiwisolver>=1.0.1 in /usr/local/lib/python3.10/dist-packages (from matplotlib->dtreeviz) (1.4.5)\n",
            "Requirement already satisfied: packaging>=20.0 in /usr/local/lib/python3.10/dist-packages (from matplotlib->dtreeviz) (23.2)\n",
            "Requirement already satisfied: pillow>=6.2.0 in /usr/local/lib/python3.10/dist-packages (from matplotlib->dtreeviz) (9.4.0)\n",
            "Requirement already satisfied: pyparsing>=2.3.1 in /usr/local/lib/python3.10/dist-packages (from matplotlib->dtreeviz) (3.1.1)\n",
            "Requirement already satisfied: python-dateutil>=2.7 in /usr/local/lib/python3.10/dist-packages (from matplotlib->dtreeviz) (2.8.2)\n",
            "Requirement already satisfied: pytz>=2020.1 in /usr/local/lib/python3.10/dist-packages (from pandas->dtreeviz) (2023.3.post1)\n",
            "Requirement already satisfied: iniconfig in /usr/local/lib/python3.10/dist-packages (from pytest->dtreeviz) (2.0.0)\n",
            "Requirement already satisfied: pluggy<2.0,>=0.12 in /usr/local/lib/python3.10/dist-packages (from pytest->dtreeviz) (1.3.0)\n",
            "Requirement already satisfied: exceptiongroup>=1.0.0rc8 in /usr/local/lib/python3.10/dist-packages (from pytest->dtreeviz) (1.1.3)\n",
            "Requirement already satisfied: tomli>=1.0.0 in /usr/local/lib/python3.10/dist-packages (from pytest->dtreeviz) (2.0.1)\n",
            "Requirement already satisfied: scipy>=1.3.2 in /usr/local/lib/python3.10/dist-packages (from scikit-learn->dtreeviz) (1.11.3)\n",
            "Requirement already satisfied: joblib>=1.1.1 in /usr/local/lib/python3.10/dist-packages (from scikit-learn->dtreeviz) (1.3.2)\n",
            "Requirement already satisfied: threadpoolctl>=2.0.0 in /usr/local/lib/python3.10/dist-packages (from scikit-learn->dtreeviz) (3.2.0)\n",
            "Requirement already satisfied: six>=1.5 in /usr/local/lib/python3.10/dist-packages (from python-dateutil>=2.7->matplotlib->dtreeviz) (1.16.0)\n",
            "Installing collected packages: dtreeviz\n",
            "Successfully installed dtreeviz-2.2.2\n"
          ]
        }
      ],
      "source": [
        "#Install packages yang akan digunakan\n",
        "!pip install graphviz dtreeviz"
      ]
    },
    {
      "cell_type": "code",
      "source": [
        "import warnings; warnings.simplefilter('ignore')\n",
        "import pandas as pd, matplotlib.pyplot as plt\n",
        "import time, numpy as np, seaborn as sns\n",
        "from sklearn import  tree\n",
        "from sklearn.linear_model import LogisticRegression\n",
        "from sklearn import neighbors\n",
        "from sklearn.naive_bayes import GaussianNB\n",
        "from sklearn.ensemble import RandomForestClassifier\n",
        "from dtreeviz.trees import *\n",
        "import graphviz\n",
        "from sklearn import svm, preprocessing\n",
        "from sklearn.gaussian_process.kernels import RBF\n",
        "from sklearn.svm import SVC\n",
        "from sklearn.model_selection import train_test_split\n",
        "from sklearn.metrics import confusion_matrix, classification_report\n",
        "from sklearn.metrics import precision_score, recall_score, f1_score\n",
        "from sklearn.model_selection import cross_val_score\n",
        "sns.set(style=\"ticks\", color_codes=True)\n",
        "\"Done\""
      ],
      "metadata": {
        "colab": {
          "base_uri": "https://localhost:8080/",
          "height": 37
        },
        "id": "gwP0AXKeMnVZ",
        "outputId": "c6dadb85-13a9-4071-a936-6c72b6b8d802"
      },
      "execution_count": null,
      "outputs": [
        {
          "output_type": "execute_result",
          "data": {
            "text/plain": [
              "'Done'"
            ],
            "application/vnd.google.colaboratory.intrinsic+json": {
              "type": "string"
            }
          },
          "metadata": {},
          "execution_count": 10
        }
      ]
    },
    {
      "cell_type": "markdown",
      "source": [
        "# Data Understanding"
      ],
      "metadata": {
        "id": "srkA8PohOuzZ"
      }
    },
    {
      "cell_type": "code",
      "source": [
        "# Loading Data yang diberikan\n",
        "import warnings; warnings.simplefilter('ignore')\n",
        "import pandas as pd\n",
        "\n",
        "fData = 'data/Data-Hoax-Mafindo.csv'\n",
        "try:\n",
        "    data = pd.read_csv(fData)\n",
        "except:\n",
        "    !mkdir data\n",
        "    !wget -P data/ https://raw.githubusercontent.com/taudataanalytics/taudata-Academy/master/data/Data-Hoax-Mafindo.csv\n",
        "    data = pd.read_csv(fData)\n",
        "\n",
        "data.head() #save as data"
      ],
      "metadata": {
        "colab": {
          "base_uri": "https://localhost:8080/",
          "height": 306
        },
        "id": "TNn0BwCiMtVX",
        "outputId": "ea3a7878-0c7f-44e8-91e8-7bf5119f6bef"
      },
      "execution_count": null,
      "outputs": [
        {
          "output_type": "execute_result",
          "data": {
            "text/plain": [
              "    ID  label    tanggal                                              judul  \\\n",
              "0   71      1  17-Aug-20  Pemakaian Masker Menyebabkan Penyakit Legionna...   \n",
              "1  461      1  17-Jul-20  Instruksi Gubernur Jateng tentang penilangan  ...   \n",
              "2  495      1  13-Jul-20  Foto Jim Rohn: Jokowi adalah presiden terbaik ...   \n",
              "3  550      1   8-Jul-20  ini bukan politik, tapi kenyataan Pak Jokowi b...   \n",
              "4  681      1  24-Jun-20       Foto Kadrun kalo lihat foto ini panas dingin   \n",
              "\n",
              "                                              narasi nama file gambar  \n",
              "0  A caller to a radio talk show recently shared ...           71.jpg  \n",
              "1  Yth.Seluruh Anggota Grup Sesuai Instruksi Gube...          461.png  \n",
              "2  Jokowi adalah presiden terbaik dlm sejarah ban...          495.png  \n",
              "3  Maaf Mas2 dan Mbak2, ini bukan politik, tapi k...          550.png  \n",
              "4        Kadrun kalo lihat foto ini panas dingin . .          681.jpg  "
            ],
            "text/html": [
              "\n",
              "  <div id=\"df-b6f8f6ac-496e-4580-af9e-b7f7e3cf5a7b\" class=\"colab-df-container\">\n",
              "    <div>\n",
              "<style scoped>\n",
              "    .dataframe tbody tr th:only-of-type {\n",
              "        vertical-align: middle;\n",
              "    }\n",
              "\n",
              "    .dataframe tbody tr th {\n",
              "        vertical-align: top;\n",
              "    }\n",
              "\n",
              "    .dataframe thead th {\n",
              "        text-align: right;\n",
              "    }\n",
              "</style>\n",
              "<table border=\"1\" class=\"dataframe\">\n",
              "  <thead>\n",
              "    <tr style=\"text-align: right;\">\n",
              "      <th></th>\n",
              "      <th>ID</th>\n",
              "      <th>label</th>\n",
              "      <th>tanggal</th>\n",
              "      <th>judul</th>\n",
              "      <th>narasi</th>\n",
              "      <th>nama file gambar</th>\n",
              "    </tr>\n",
              "  </thead>\n",
              "  <tbody>\n",
              "    <tr>\n",
              "      <th>0</th>\n",
              "      <td>71</td>\n",
              "      <td>1</td>\n",
              "      <td>17-Aug-20</td>\n",
              "      <td>Pemakaian Masker Menyebabkan Penyakit Legionna...</td>\n",
              "      <td>A caller to a radio talk show recently shared ...</td>\n",
              "      <td>71.jpg</td>\n",
              "    </tr>\n",
              "    <tr>\n",
              "      <th>1</th>\n",
              "      <td>461</td>\n",
              "      <td>1</td>\n",
              "      <td>17-Jul-20</td>\n",
              "      <td>Instruksi Gubernur Jateng tentang penilangan  ...</td>\n",
              "      <td>Yth.Seluruh Anggota Grup Sesuai Instruksi Gube...</td>\n",
              "      <td>461.png</td>\n",
              "    </tr>\n",
              "    <tr>\n",
              "      <th>2</th>\n",
              "      <td>495</td>\n",
              "      <td>1</td>\n",
              "      <td>13-Jul-20</td>\n",
              "      <td>Foto Jim Rohn: Jokowi adalah presiden terbaik ...</td>\n",
              "      <td>Jokowi adalah presiden terbaik dlm sejarah ban...</td>\n",
              "      <td>495.png</td>\n",
              "    </tr>\n",
              "    <tr>\n",
              "      <th>3</th>\n",
              "      <td>550</td>\n",
              "      <td>1</td>\n",
              "      <td>8-Jul-20</td>\n",
              "      <td>ini bukan politik, tapi kenyataan Pak Jokowi b...</td>\n",
              "      <td>Maaf Mas2 dan Mbak2, ini bukan politik, tapi k...</td>\n",
              "      <td>550.png</td>\n",
              "    </tr>\n",
              "    <tr>\n",
              "      <th>4</th>\n",
              "      <td>681</td>\n",
              "      <td>1</td>\n",
              "      <td>24-Jun-20</td>\n",
              "      <td>Foto Kadrun kalo lihat foto ini panas dingin</td>\n",
              "      <td>Kadrun kalo lihat foto ini panas dingin . .</td>\n",
              "      <td>681.jpg</td>\n",
              "    </tr>\n",
              "  </tbody>\n",
              "</table>\n",
              "</div>\n",
              "    <div class=\"colab-df-buttons\">\n",
              "\n",
              "  <div class=\"colab-df-container\">\n",
              "    <button class=\"colab-df-convert\" onclick=\"convertToInteractive('df-b6f8f6ac-496e-4580-af9e-b7f7e3cf5a7b')\"\n",
              "            title=\"Convert this dataframe to an interactive table.\"\n",
              "            style=\"display:none;\">\n",
              "\n",
              "  <svg xmlns=\"http://www.w3.org/2000/svg\" height=\"24px\" viewBox=\"0 -960 960 960\">\n",
              "    <path d=\"M120-120v-720h720v720H120Zm60-500h600v-160H180v160Zm220 220h160v-160H400v160Zm0 220h160v-160H400v160ZM180-400h160v-160H180v160Zm440 0h160v-160H620v160ZM180-180h160v-160H180v160Zm440 0h160v-160H620v160Z\"/>\n",
              "  </svg>\n",
              "    </button>\n",
              "\n",
              "  <style>\n",
              "    .colab-df-container {\n",
              "      display:flex;\n",
              "      gap: 12px;\n",
              "    }\n",
              "\n",
              "    .colab-df-convert {\n",
              "      background-color: #E8F0FE;\n",
              "      border: none;\n",
              "      border-radius: 50%;\n",
              "      cursor: pointer;\n",
              "      display: none;\n",
              "      fill: #1967D2;\n",
              "      height: 32px;\n",
              "      padding: 0 0 0 0;\n",
              "      width: 32px;\n",
              "    }\n",
              "\n",
              "    .colab-df-convert:hover {\n",
              "      background-color: #E2EBFA;\n",
              "      box-shadow: 0px 1px 2px rgba(60, 64, 67, 0.3), 0px 1px 3px 1px rgba(60, 64, 67, 0.15);\n",
              "      fill: #174EA6;\n",
              "    }\n",
              "\n",
              "    .colab-df-buttons div {\n",
              "      margin-bottom: 4px;\n",
              "    }\n",
              "\n",
              "    [theme=dark] .colab-df-convert {\n",
              "      background-color: #3B4455;\n",
              "      fill: #D2E3FC;\n",
              "    }\n",
              "\n",
              "    [theme=dark] .colab-df-convert:hover {\n",
              "      background-color: #434B5C;\n",
              "      box-shadow: 0px 1px 3px 1px rgba(0, 0, 0, 0.15);\n",
              "      filter: drop-shadow(0px 1px 2px rgba(0, 0, 0, 0.3));\n",
              "      fill: #FFFFFF;\n",
              "    }\n",
              "  </style>\n",
              "\n",
              "    <script>\n",
              "      const buttonEl =\n",
              "        document.querySelector('#df-b6f8f6ac-496e-4580-af9e-b7f7e3cf5a7b button.colab-df-convert');\n",
              "      buttonEl.style.display =\n",
              "        google.colab.kernel.accessAllowed ? 'block' : 'none';\n",
              "\n",
              "      async function convertToInteractive(key) {\n",
              "        const element = document.querySelector('#df-b6f8f6ac-496e-4580-af9e-b7f7e3cf5a7b');\n",
              "        const dataTable =\n",
              "          await google.colab.kernel.invokeFunction('convertToInteractive',\n",
              "                                                    [key], {});\n",
              "        if (!dataTable) return;\n",
              "\n",
              "        const docLinkHtml = 'Like what you see? Visit the ' +\n",
              "          '<a target=\"_blank\" href=https://colab.research.google.com/notebooks/data_table.ipynb>data table notebook</a>'\n",
              "          + ' to learn more about interactive tables.';\n",
              "        element.innerHTML = '';\n",
              "        dataTable['output_type'] = 'display_data';\n",
              "        await google.colab.output.renderOutput(dataTable, element);\n",
              "        const docLink = document.createElement('div');\n",
              "        docLink.innerHTML = docLinkHtml;\n",
              "        element.appendChild(docLink);\n",
              "      }\n",
              "    </script>\n",
              "  </div>\n",
              "\n",
              "\n",
              "<div id=\"df-a8c70ef6-ceb4-45d9-884e-b514517da5b1\">\n",
              "  <button class=\"colab-df-quickchart\" onclick=\"quickchart('df-a8c70ef6-ceb4-45d9-884e-b514517da5b1')\"\n",
              "            title=\"Suggest charts\"\n",
              "            style=\"display:none;\">\n",
              "\n",
              "<svg xmlns=\"http://www.w3.org/2000/svg\" height=\"24px\"viewBox=\"0 0 24 24\"\n",
              "     width=\"24px\">\n",
              "    <g>\n",
              "        <path d=\"M19 3H5c-1.1 0-2 .9-2 2v14c0 1.1.9 2 2 2h14c1.1 0 2-.9 2-2V5c0-1.1-.9-2-2-2zM9 17H7v-7h2v7zm4 0h-2V7h2v10zm4 0h-2v-4h2v4z\"/>\n",
              "    </g>\n",
              "</svg>\n",
              "  </button>\n",
              "\n",
              "<style>\n",
              "  .colab-df-quickchart {\n",
              "      --bg-color: #E8F0FE;\n",
              "      --fill-color: #1967D2;\n",
              "      --hover-bg-color: #E2EBFA;\n",
              "      --hover-fill-color: #174EA6;\n",
              "      --disabled-fill-color: #AAA;\n",
              "      --disabled-bg-color: #DDD;\n",
              "  }\n",
              "\n",
              "  [theme=dark] .colab-df-quickchart {\n",
              "      --bg-color: #3B4455;\n",
              "      --fill-color: #D2E3FC;\n",
              "      --hover-bg-color: #434B5C;\n",
              "      --hover-fill-color: #FFFFFF;\n",
              "      --disabled-bg-color: #3B4455;\n",
              "      --disabled-fill-color: #666;\n",
              "  }\n",
              "\n",
              "  .colab-df-quickchart {\n",
              "    background-color: var(--bg-color);\n",
              "    border: none;\n",
              "    border-radius: 50%;\n",
              "    cursor: pointer;\n",
              "    display: none;\n",
              "    fill: var(--fill-color);\n",
              "    height: 32px;\n",
              "    padding: 0;\n",
              "    width: 32px;\n",
              "  }\n",
              "\n",
              "  .colab-df-quickchart:hover {\n",
              "    background-color: var(--hover-bg-color);\n",
              "    box-shadow: 0 1px 2px rgba(60, 64, 67, 0.3), 0 1px 3px 1px rgba(60, 64, 67, 0.15);\n",
              "    fill: var(--button-hover-fill-color);\n",
              "  }\n",
              "\n",
              "  .colab-df-quickchart-complete:disabled,\n",
              "  .colab-df-quickchart-complete:disabled:hover {\n",
              "    background-color: var(--disabled-bg-color);\n",
              "    fill: var(--disabled-fill-color);\n",
              "    box-shadow: none;\n",
              "  }\n",
              "\n",
              "  .colab-df-spinner {\n",
              "    border: 2px solid var(--fill-color);\n",
              "    border-color: transparent;\n",
              "    border-bottom-color: var(--fill-color);\n",
              "    animation:\n",
              "      spin 1s steps(1) infinite;\n",
              "  }\n",
              "\n",
              "  @keyframes spin {\n",
              "    0% {\n",
              "      border-color: transparent;\n",
              "      border-bottom-color: var(--fill-color);\n",
              "      border-left-color: var(--fill-color);\n",
              "    }\n",
              "    20% {\n",
              "      border-color: transparent;\n",
              "      border-left-color: var(--fill-color);\n",
              "      border-top-color: var(--fill-color);\n",
              "    }\n",
              "    30% {\n",
              "      border-color: transparent;\n",
              "      border-left-color: var(--fill-color);\n",
              "      border-top-color: var(--fill-color);\n",
              "      border-right-color: var(--fill-color);\n",
              "    }\n",
              "    40% {\n",
              "      border-color: transparent;\n",
              "      border-right-color: var(--fill-color);\n",
              "      border-top-color: var(--fill-color);\n",
              "    }\n",
              "    60% {\n",
              "      border-color: transparent;\n",
              "      border-right-color: var(--fill-color);\n",
              "    }\n",
              "    80% {\n",
              "      border-color: transparent;\n",
              "      border-right-color: var(--fill-color);\n",
              "      border-bottom-color: var(--fill-color);\n",
              "    }\n",
              "    90% {\n",
              "      border-color: transparent;\n",
              "      border-bottom-color: var(--fill-color);\n",
              "    }\n",
              "  }\n",
              "</style>\n",
              "\n",
              "  <script>\n",
              "    async function quickchart(key) {\n",
              "      const quickchartButtonEl =\n",
              "        document.querySelector('#' + key + ' button');\n",
              "      quickchartButtonEl.disabled = true;  // To prevent multiple clicks.\n",
              "      quickchartButtonEl.classList.add('colab-df-spinner');\n",
              "      try {\n",
              "        const charts = await google.colab.kernel.invokeFunction(\n",
              "            'suggestCharts', [key], {});\n",
              "      } catch (error) {\n",
              "        console.error('Error during call to suggestCharts:', error);\n",
              "      }\n",
              "      quickchartButtonEl.classList.remove('colab-df-spinner');\n",
              "      quickchartButtonEl.classList.add('colab-df-quickchart-complete');\n",
              "    }\n",
              "    (() => {\n",
              "      let quickchartButtonEl =\n",
              "        document.querySelector('#df-a8c70ef6-ceb4-45d9-884e-b514517da5b1 button');\n",
              "      quickchartButtonEl.style.display =\n",
              "        google.colab.kernel.accessAllowed ? 'block' : 'none';\n",
              "    })();\n",
              "  </script>\n",
              "</div>\n",
              "    </div>\n",
              "  </div>\n"
            ]
          },
          "metadata": {},
          "execution_count": 11
        }
      ]
    },
    {
      "cell_type": "markdown",
      "source": [
        "**Feature data**:\n",
        "\n",
        "ID - ID Data\n",
        "\n",
        "label - 1 for False news, 0 for True fact\n",
        "\n",
        "tanggal - tanggal narasi ditemukan\n",
        "\n",
        "judul - judul/tagline berita yang tersebar\n",
        "\n",
        "narasi - isi berita\n",
        "\n",
        "nama file gambar - file gambar"
      ],
      "metadata": {
        "id": "9n1HiJKeOyDU"
      }
    },
    {
      "cell_type": "code",
      "source": [
        "#melihat informasi dari tipe data\n",
        "data.info()"
      ],
      "metadata": {
        "colab": {
          "base_uri": "https://localhost:8080/"
        },
        "id": "ZE5q_yY2M0EW",
        "outputId": "0014d949-ca53-41f0-8c37-3ce59b9d3276"
      },
      "execution_count": null,
      "outputs": [
        {
          "output_type": "stream",
          "name": "stdout",
          "text": [
            "<class 'pandas.core.frame.DataFrame'>\n",
            "RangeIndex: 4701 entries, 0 to 4700\n",
            "Data columns (total 6 columns):\n",
            " #   Column            Non-Null Count  Dtype \n",
            "---  ------            --------------  ----- \n",
            " 0   ID                4701 non-null   int64 \n",
            " 1   label             4701 non-null   int64 \n",
            " 2   tanggal           4701 non-null   object\n",
            " 3   judul             4701 non-null   object\n",
            " 4   narasi            4701 non-null   object\n",
            " 5   nama file gambar  4701 non-null   object\n",
            "dtypes: int64(2), object(4)\n",
            "memory usage: 220.5+ KB\n"
          ]
        }
      ]
    },
    {
      "cell_type": "markdown",
      "source": [
        "Karena terdapat dua data yang memiliki tipe integer, maka akan diubah menjadi Category."
      ],
      "metadata": {
        "id": "7GAqY6P5OTSI"
      }
    },
    {
      "cell_type": "code",
      "source": [
        "data['label'] = data['label'].astype('category')\n",
        "data.info()"
      ],
      "metadata": {
        "colab": {
          "base_uri": "https://localhost:8080/"
        },
        "id": "KcGyn2YmM3I3",
        "outputId": "476bce02-798c-4a4e-e365-eeae27b17840"
      },
      "execution_count": null,
      "outputs": [
        {
          "output_type": "stream",
          "name": "stdout",
          "text": [
            "<class 'pandas.core.frame.DataFrame'>\n",
            "RangeIndex: 4701 entries, 0 to 4700\n",
            "Data columns (total 6 columns):\n",
            " #   Column            Non-Null Count  Dtype   \n",
            "---  ------            --------------  -----   \n",
            " 0   ID                4701 non-null   int64   \n",
            " 1   label             4701 non-null   category\n",
            " 2   tanggal           4701 non-null   object  \n",
            " 3   judul             4701 non-null   object  \n",
            " 4   narasi            4701 non-null   object  \n",
            " 5   nama file gambar  4701 non-null   object  \n",
            "dtypes: category(1), int64(1), object(4)\n",
            "memory usage: 188.5+ KB\n"
          ]
        }
      ]
    },
    {
      "cell_type": "code",
      "source": [
        "data.isnull().sum()"
      ],
      "metadata": {
        "colab": {
          "base_uri": "https://localhost:8080/"
        },
        "id": "DqX7RLqaM5w8",
        "outputId": "9f0b6fdf-df5f-4c73-d715-a5726545f757"
      },
      "execution_count": null,
      "outputs": [
        {
          "output_type": "execute_result",
          "data": {
            "text/plain": [
              "ID                  0\n",
              "label               0\n",
              "tanggal             0\n",
              "judul               0\n",
              "narasi              0\n",
              "nama file gambar    0\n",
              "dtype: int64"
            ]
          },
          "metadata": {},
          "execution_count": 14
        }
      ]
    },
    {
      "cell_type": "markdown",
      "source": [
        "Tidak terlihat data memiliki duplikasi."
      ],
      "metadata": {
        "id": "BTYYGdAsObV-"
      }
    },
    {
      "cell_type": "markdown",
      "source": [
        "# Pre-processing Text\n",
        "\n",
        "Akan dimulai tahapan untuk melakukan pre-processing text dengan meng-install packages yang akan digunakan, yaitu Sastrawi, Unidecode, dan Textblob."
      ],
      "metadata": {
        "id": "YMsrfbraOfgX"
      }
    },
    {
      "cell_type": "code",
      "source": [
        "!pip install sastrawi unidecode textblob"
      ],
      "metadata": {
        "colab": {
          "base_uri": "https://localhost:8080/"
        },
        "id": "eAVbzE7zM8yj",
        "outputId": "b843e04b-e65a-4d3b-ec88-97ee1b95a747"
      },
      "execution_count": null,
      "outputs": [
        {
          "output_type": "stream",
          "name": "stdout",
          "text": [
            "Collecting sastrawi\n",
            "  Downloading Sastrawi-1.0.1-py2.py3-none-any.whl (209 kB)\n",
            "\u001b[2K     \u001b[90m━━━━━━━━━━━━━━━━━━━━━━━━━━━━━━━━━━━━━━━━\u001b[0m \u001b[32m209.7/209.7 kB\u001b[0m \u001b[31m3.8 MB/s\u001b[0m eta \u001b[36m0:00:00\u001b[0m\n",
            "\u001b[?25hCollecting unidecode\n",
            "  Downloading Unidecode-1.3.7-py3-none-any.whl (235 kB)\n",
            "\u001b[2K     \u001b[90m━━━━━━━━━━━━━━━━━━━━━━━━━━━━━━━━━━━━━━━━\u001b[0m \u001b[32m235.5/235.5 kB\u001b[0m \u001b[31m26.1 MB/s\u001b[0m eta \u001b[36m0:00:00\u001b[0m\n",
            "\u001b[?25hRequirement already satisfied: textblob in /usr/local/lib/python3.10/dist-packages (0.17.1)\n",
            "Requirement already satisfied: nltk>=3.1 in /usr/local/lib/python3.10/dist-packages (from textblob) (3.8.1)\n",
            "Requirement already satisfied: click in /usr/local/lib/python3.10/dist-packages (from nltk>=3.1->textblob) (8.1.7)\n",
            "Requirement already satisfied: joblib in /usr/local/lib/python3.10/dist-packages (from nltk>=3.1->textblob) (1.3.2)\n",
            "Requirement already satisfied: regex>=2021.8.3 in /usr/local/lib/python3.10/dist-packages (from nltk>=3.1->textblob) (2023.6.3)\n",
            "Requirement already satisfied: tqdm in /usr/local/lib/python3.10/dist-packages (from nltk>=3.1->textblob) (4.66.1)\n",
            "Traceback (most recent call last):\n",
            "  File \"/usr/local/lib/python3.10/dist-packages/pip/_vendor/pkg_resources/__init__.py\", line 3108, in _dep_map\n",
            "    return self.__dep_map\n",
            "  File \"/usr/local/lib/python3.10/dist-packages/pip/_vendor/pkg_resources/__init__.py\", line 2901, in __getattr__\n",
            "    raise AttributeError(attr)\n",
            "AttributeError: _DistInfoDistribution__dep_map\n",
            "\n",
            "During handling of the above exception, another exception occurred:\n",
            "\n",
            "Traceback (most recent call last):\n",
            "  File \"/usr/local/lib/python3.10/dist-packages/pip/_internal/cli/base_command.py\", line 169, in exc_logging_wrapper\n",
            "    status = run_func(*args)\n",
            "  File \"/usr/local/lib/python3.10/dist-packages/pip/_internal/cli/req_command.py\", line 242, in wrapper\n",
            "    return func(self, options, args)\n",
            "  File \"/usr/local/lib/python3.10/dist-packages/pip/_internal/commands/install.py\", line 441, in run\n",
            "    conflicts = self._determine_conflicts(to_install)\n",
            "  File \"/usr/local/lib/python3.10/dist-packages/pip/_internal/commands/install.py\", line 572, in _determine_conflicts\n",
            "    return check_install_conflicts(to_install)\n",
            "  File \"/usr/local/lib/python3.10/dist-packages/pip/_internal/operations/check.py\", line 101, in check_install_conflicts\n",
            "    package_set, _ = create_package_set_from_installed()\n",
            "  File \"/usr/local/lib/python3.10/dist-packages/pip/_internal/operations/check.py\", line 42, in create_package_set_from_installed\n",
            "    dependencies = list(dist.iter_dependencies())\n",
            "  File \"/usr/local/lib/python3.10/dist-packages/pip/_internal/metadata/pkg_resources.py\", line 216, in iter_dependencies\n",
            "    return self._dist.requires(extras)\n",
            "  File \"/usr/local/lib/python3.10/dist-packages/pip/_vendor/pkg_resources/__init__.py\", line 2821, in requires\n",
            "    dm = self._dep_map\n",
            "  File \"/usr/local/lib/python3.10/dist-packages/pip/_vendor/pkg_resources/__init__.py\", line 3110, in _dep_map\n",
            "    self.__dep_map = self._compute_dependencies()\n",
            "  File \"/usr/local/lib/python3.10/dist-packages/pip/_vendor/pkg_resources/__init__.py\", line 3120, in _compute_dependencies\n",
            "    reqs.extend(parse_requirements(req))\n",
            "  File \"/usr/local/lib/python3.10/dist-packages/pip/_vendor/pkg_resources/__init__.py\", line 3173, in __init__\n",
            "    super(Requirement, self).__init__(requirement_string)\n",
            "  File \"/usr/local/lib/python3.10/dist-packages/pip/_vendor/packaging/requirements.py\", line 102, in __init__\n",
            "    req = REQUIREMENT.parseString(requirement_string)\n",
            "  File \"/usr/local/lib/python3.10/dist-packages/pip/_vendor/pyparsing/core.py\", line 1131, in parse_string\n",
            "    loc, tokens = self._parse(instring, 0)\n",
            "  File \"/usr/local/lib/python3.10/dist-packages/pip/_vendor/pyparsing/core.py\", line 817, in _parseNoCache\n",
            "    loc, tokens = self.parseImpl(instring, pre_loc, doActions)\n",
            "  File \"/usr/local/lib/python3.10/dist-packages/pip/_vendor/pyparsing/core.py\", line 3886, in parseImpl\n",
            "    loc, exprtokens = e._parse(instring, loc, doActions)\n",
            "  File \"/usr/local/lib/python3.10/dist-packages/pip/_vendor/pyparsing/core.py\", line 817, in _parseNoCache\n",
            "    loc, tokens = self.parseImpl(instring, pre_loc, doActions)\n",
            "  File \"/usr/local/lib/python3.10/dist-packages/pip/_vendor/pyparsing/core.py\", line 4114, in parseImpl\n",
            "    return e._parse(\n",
            "  File \"/usr/local/lib/python3.10/dist-packages/pip/_vendor/pyparsing/core.py\", line 817, in _parseNoCache\n",
            "    loc, tokens = self.parseImpl(instring, pre_loc, doActions)\n",
            "  File \"/usr/local/lib/python3.10/dist-packages/pip/_vendor/pyparsing/core.py\", line 3864, in parseImpl\n",
            "    loc, resultlist = self.exprs[0]._parse(\n",
            "  File \"/usr/local/lib/python3.10/dist-packages/pip/_vendor/pyparsing/core.py\", line 817, in _parseNoCache\n",
            "    loc, tokens = self.parseImpl(instring, pre_loc, doActions)\n",
            "  File \"/usr/local/lib/python3.10/dist-packages/pip/_vendor/pyparsing/core.py\", line 3886, in parseImpl\n",
            "    loc, exprtokens = e._parse(instring, loc, doActions)\n",
            "  File \"/usr/local/lib/python3.10/dist-packages/pip/_vendor/pyparsing/core.py\", line 817, in _parseNoCache\n",
            "    loc, tokens = self.parseImpl(instring, pre_loc, doActions)\n",
            "  File \"/usr/local/lib/python3.10/dist-packages/pip/_vendor/pyparsing/core.py\", line 4959, in parseImpl\n",
            "    loc, tokens = self_expr._parse(instring, loc, doActions, callPreParse=False)\n",
            "  File \"/usr/local/lib/python3.10/dist-packages/pip/_vendor/pyparsing/core.py\", line 817, in _parseNoCache\n",
            "    loc, tokens = self.parseImpl(instring, pre_loc, doActions)\n",
            "  File \"/usr/local/lib/python3.10/dist-packages/pip/_vendor/pyparsing/core.py\", line 4114, in parseImpl\n",
            "    return e._parse(\n",
            "  File \"/usr/local/lib/python3.10/dist-packages/pip/_vendor/pyparsing/core.py\", line 817, in _parseNoCache\n",
            "    loc, tokens = self.parseImpl(instring, pre_loc, doActions)\n",
            "  File \"/usr/local/lib/python3.10/dist-packages/pip/_vendor/pyparsing/core.py\", line 3886, in parseImpl\n",
            "    loc, exprtokens = e._parse(instring, loc, doActions)\n",
            "  File \"/usr/local/lib/python3.10/dist-packages/pip/_vendor/pyparsing/core.py\", line 817, in _parseNoCache\n",
            "    loc, tokens = self.parseImpl(instring, pre_loc, doActions)\n",
            "  File \"/usr/local/lib/python3.10/dist-packages/pip/_vendor/pyparsing/core.py\", line 4375, in parseImpl\n",
            "    return self.expr._parse(instring, loc, doActions, callPreParse=False)\n",
            "  File \"/usr/local/lib/python3.10/dist-packages/pip/_vendor/pyparsing/core.py\", line 817, in _parseNoCache\n",
            "    loc, tokens = self.parseImpl(instring, pre_loc, doActions)\n",
            "  File \"/usr/local/lib/python3.10/dist-packages/pip/_vendor/pyparsing/core.py\", line 3864, in parseImpl\n",
            "    loc, resultlist = self.exprs[0]._parse(\n",
            "  File \"/usr/local/lib/python3.10/dist-packages/pip/_vendor/pyparsing/core.py\", line 817, in _parseNoCache\n",
            "    loc, tokens = self.parseImpl(instring, pre_loc, doActions)\n",
            "  File \"/usr/local/lib/python3.10/dist-packages/pip/_vendor/pyparsing/core.py\", line 3958, in parseImpl\n",
            "    loc2 = e.try_parse(instring, loc, raise_fatal=True)\n",
            "  File \"/usr/local/lib/python3.10/dist-packages/pip/_vendor/pyparsing/core.py\", line 880, in try_parse\n",
            "    return self._parse(instring, loc, doActions=False)[0]\n",
            "  File \"/usr/local/lib/python3.10/dist-packages/pip/_vendor/pyparsing/core.py\", line 821, in _parseNoCache\n",
            "    loc, tokens = self.parseImpl(instring, pre_loc, doActions)\n",
            "  File \"/usr/local/lib/python3.10/dist-packages/pip/_vendor/pyparsing/core.py\", line 2994, in parseImpl\n",
            "    ret[k] = v\n",
            "KeyboardInterrupt\n",
            "\n",
            "During handling of the above exception, another exception occurred:\n",
            "\n",
            "Traceback (most recent call last):\n",
            "  File \"/usr/lib/python3.10/logging/__init__.py\", line 1732, in isEnabledFor\n",
            "    return self._cache[level]\n",
            "KeyError: 50\n",
            "\n",
            "During handling of the above exception, another exception occurred:\n",
            "\n",
            "Traceback (most recent call last):\n",
            "  File \"/usr/local/bin/pip3\", line 8, in <module>\n",
            "    sys.exit(main())\n",
            "  File \"/usr/local/lib/python3.10/dist-packages/pip/_internal/cli/main.py\", line 79, in main\n",
            "    return command.main(cmd_args)\n",
            "  File \"/usr/local/lib/python3.10/dist-packages/pip/_internal/cli/base_command.py\", line 101, in main\n",
            "    return self._main(args)\n",
            "  File \"/usr/local/lib/python3.10/dist-packages/pip/_internal/cli/base_command.py\", line 223, in _main\n",
            "    return run(options, args)\n",
            "  File \"/usr/local/lib/python3.10/dist-packages/pip/_internal/cli/base_command.py\", line 206, in exc_logging_wrapper\n",
            "    logger.critical(\"Operation cancelled by user\")\n",
            "  File \"/usr/lib/python3.10/logging/__init__.py\", line 1523, in critical\n",
            "    if self.isEnabledFor(CRITICAL):\n",
            "  File \"/usr/lib/python3.10/logging/__init__.py\", line 1740, in isEnabledFor\n",
            "    level >= self.getEffectiveLevel()\n",
            "  File \"/usr/lib/python3.10/logging/__init__.py\", line 1718, in getEffectiveLevel\n",
            "    while logger:\n",
            "KeyboardInterrupt\n",
            "^C\n"
          ]
        }
      ]
    },
    {
      "cell_type": "code",
      "source": [
        "import warnings; warnings.simplefilter('ignore')\n",
        "import itertools, re, nltk, pickle\n",
        "import time, numpy as np, matplotlib.pyplot as plt, pandas as pd, seaborn as sns\n",
        "from matplotlib.colors import ListedColormap\n",
        "from textblob import TextBlob\n",
        "from Sastrawi.Stemmer.StemmerFactory import StemmerFactory\n",
        "from unidecode import unidecode\n",
        "from nltk.tag import CRFTagger\n",
        "from html import unescape\n",
        "from Sastrawi.StopWordRemover.StopWordRemoverFactory import StopWordRemoverFactory\n",
        "from tqdm import tqdm"
      ],
      "metadata": {
        "id": "OlTXJrTINARt",
        "outputId": "d3750894-ff9f-42ae-d856-19782ff74285",
        "colab": {
          "base_uri": "https://localhost:8080/",
          "height": 397
        }
      },
      "execution_count": null,
      "outputs": [
        {
          "output_type": "error",
          "ename": "ModuleNotFoundError",
          "evalue": "ignored",
          "traceback": [
            "\u001b[0;31m---------------------------------------------------------------------------\u001b[0m",
            "\u001b[0;31mModuleNotFoundError\u001b[0m                       Traceback (most recent call last)",
            "\u001b[0;32m<ipython-input-2-de07eaa93c49>\u001b[0m in \u001b[0;36m<cell line: 6>\u001b[0;34m()\u001b[0m\n\u001b[1;32m      4\u001b[0m \u001b[0;32mfrom\u001b[0m \u001b[0mmatplotlib\u001b[0m\u001b[0;34m.\u001b[0m\u001b[0mcolors\u001b[0m \u001b[0;32mimport\u001b[0m \u001b[0mListedColormap\u001b[0m\u001b[0;34m\u001b[0m\u001b[0;34m\u001b[0m\u001b[0m\n\u001b[1;32m      5\u001b[0m \u001b[0;32mfrom\u001b[0m \u001b[0mtextblob\u001b[0m \u001b[0;32mimport\u001b[0m \u001b[0mTextBlob\u001b[0m\u001b[0;34m\u001b[0m\u001b[0;34m\u001b[0m\u001b[0m\n\u001b[0;32m----> 6\u001b[0;31m \u001b[0;32mfrom\u001b[0m \u001b[0mSastrawi\u001b[0m\u001b[0;34m.\u001b[0m\u001b[0mStemmer\u001b[0m\u001b[0;34m.\u001b[0m\u001b[0mStemmerFactory\u001b[0m \u001b[0;32mimport\u001b[0m \u001b[0mStemmerFactory\u001b[0m\u001b[0;34m\u001b[0m\u001b[0;34m\u001b[0m\u001b[0m\n\u001b[0m\u001b[1;32m      7\u001b[0m \u001b[0;32mfrom\u001b[0m \u001b[0munidecode\u001b[0m \u001b[0;32mimport\u001b[0m \u001b[0munidecode\u001b[0m\u001b[0;34m\u001b[0m\u001b[0;34m\u001b[0m\u001b[0m\n\u001b[1;32m      8\u001b[0m \u001b[0;32mfrom\u001b[0m \u001b[0mnltk\u001b[0m\u001b[0;34m.\u001b[0m\u001b[0mtag\u001b[0m \u001b[0;32mimport\u001b[0m \u001b[0mCRFTagger\u001b[0m\u001b[0;34m\u001b[0m\u001b[0;34m\u001b[0m\u001b[0m\n",
            "\u001b[0;31mModuleNotFoundError\u001b[0m: No module named 'Sastrawi'",
            "",
            "\u001b[0;31m---------------------------------------------------------------------------\u001b[0;32m\nNOTE: If your import is failing due to a missing package, you can\nmanually install dependencies using either !pip or !apt.\n\nTo view examples of installing some common dependencies, click the\n\"Open Examples\" button below.\n\u001b[0;31m---------------------------------------------------------------------------\u001b[0m\n"
          ],
          "errorDetails": {
            "actions": [
              {
                "action": "open_url",
                "actionText": "Open Examples",
                "url": "/notebooks/snippets/importing_libraries.ipynb"
              }
            ]
          }
        }
      ]
    },
    {
      "cell_type": "code",
      "source": [
        "data['label'].value_counts() #value count pada data"
      ],
      "metadata": {
        "id": "I4HvxWb3NLdC"
      },
      "execution_count": null,
      "outputs": []
    },
    {
      "cell_type": "markdown",
      "source": [
        "Karena text pada judul dan narasi terlihat masih belum seragam sehingga akan di **Lowercase** untuk kolom judul dan narasi."
      ],
      "metadata": {
        "id": "zcbB-LjwPPEr"
      }
    },
    {
      "cell_type": "code",
      "source": [
        "data['narasi'] = data['narasi'].str.lower()\n",
        "data['judul'] = data ['judul'].str.lower()"
      ],
      "metadata": {
        "id": "Ty4rPczdNRyz"
      },
      "execution_count": null,
      "outputs": []
    },
    {
      "cell_type": "code",
      "source": [
        "#melihat judul dan narasi yang telah di lowercase\n",
        "data['judul'].head()\n",
        "data['narasi'].head()"
      ],
      "metadata": {
        "id": "QDyg4UfUPbVK"
      },
      "execution_count": null,
      "outputs": []
    },
    {
      "cell_type": "markdown",
      "source": [
        "Terlihat bahwa seluruh text telah di lowercase."
      ],
      "metadata": {
        "id": "sBJi7OcoPovv"
      }
    },
    {
      "cell_type": "markdown",
      "source": [
        "**Stopwords**\n",
        "\n",
        " Tujuan utama penggunaan stopwords adalah untuk meningkatkan kualitas analisis teks dengan memfokuskan perhatian pada kata-kata yang lebih informatif dan penting."
      ],
      "metadata": {
        "id": "qxv4DdUzPuMa"
      }
    },
    {
      "cell_type": "code",
      "source": [
        "import nltk #module nltk digunakan untuk stopwords\n",
        "nltk.download('punkt')"
      ],
      "metadata": {
        "id": "dJsDWkydOb8V"
      },
      "execution_count": null,
      "outputs": []
    },
    {
      "cell_type": "code",
      "source": [
        "import string\n",
        "import re #untuk regular expression\n",
        "\n",
        "# import word_tokenize & FreqDist from NLTK\n",
        "from nltk.tokenize import word_tokenize\n",
        "from nltk.probability import FreqDist"
      ],
      "metadata": {
        "id": "9EeL9Gv2N14Y"
      },
      "execution_count": null,
      "outputs": []
    },
    {
      "cell_type": "code",
      "source": [
        "factory = StopWordRemoverFactory()\n",
        "stemmer = StemmerFactory().create_stemmer()\n",
        "sns.set(style=\"ticks\", color_codes=True)\n",
        "random_state = 170\n",
        "'Done'"
      ],
      "metadata": {
        "id": "5p4ofPUgNxJB"
      },
      "execution_count": null,
      "outputs": []
    },
    {
      "cell_type": "code",
      "source": [
        "#Inisiasi StopWords untuk menghilangkan kata yang tidak memiliki arti\n",
        "Sastrawi_StopWords_id = factory.get_stop_words()\n",
        "\n",
        "print(Sastrawi_StopWords_id)\n",
        "print(len(Sastrawi_StopWords_id))\n",
        "\n",
        "Sastrawi_StopWords_id = set(Sastrawi_StopWords_id)"
      ],
      "metadata": {
        "id": "XAzRBWtMNnSC"
      },
      "execution_count": null,
      "outputs": []
    },
    {
      "cell_type": "code",
      "source": [
        "def remove_special(text):\n",
        "    # remove tab, new line, ans back slice\n",
        "    text = text.replace('\\\\t',\" \").replace('\\\\n',\" \").replace('\\\\u',\" \").replace('\\\\',\"\")\n",
        "    # remove non ASCII (emoticon, chinese word, .etc)\n",
        "    text = text.encode('ascii', 'replace').decode('ascii')\n",
        "    # remove mention, link, hashtag\n",
        "    text = ' '.join(re.sub(\"([@#][A-Za-z0-9]+)|(\\w+:\\/\\/\\S+)\",\" \", text).split())\n",
        "    # remove incomplete URL\n",
        "    return text.replace(\"http://\", \" \").replace(\"https://\", \" \")\n",
        "\n",
        "#remove number\n",
        "def remove_number(text):\n",
        "    return  re.sub(r\"\\d+\", \"\", text)\n",
        "\n",
        "#remove punctuation\n",
        "def remove_punctuation(text):\n",
        "    return text.translate(str.maketrans(\"\",\"\",string.punctuation))\n",
        "\n",
        "#remove whitespace leading & trailing\n",
        "def remove_whitespace_LT(text):\n",
        "    return text.strip()\n",
        "\n",
        "#remove multiple whitespace into single whitespace\n",
        "def remove_whitespace_multiple(text):\n",
        "    return re.sub('\\s+',' ',text)\n",
        "\n",
        "# remove single char\n",
        "def remove_singl_char(text):\n",
        "    return re.sub(r\"\\b[a-zA-Z]\\b\", \"\", text)\n",
        "\n",
        "# NLTK word rokenize\n",
        "def word_tokenize_wrapper(text):\n",
        "    return word_tokenize(text)"
      ],
      "metadata": {
        "id": "prbziA4_N_dq"
      },
      "execution_count": null,
      "outputs": []
    },
    {
      "cell_type": "code",
      "source": [
        "#menghilangkan simbol-simbol yang tidak di inginkan\n",
        "data['narasi'] = data['narasi'].apply(remove_special)\n",
        "data['narasi'] = data['narasi'].apply(remove_number)\n",
        "data['narasi'] = data['narasi'].apply(remove_punctuation)\n",
        "data['narasi'] = data['narasi'].apply(remove_whitespace_LT)\n",
        "data['narasi'] = data['narasi'].apply(remove_whitespace_multiple)\n",
        "data['narasi'] = data['narasi'].apply(remove_singl_char)"
      ],
      "metadata": {
        "id": "GAR4u83hOAxU"
      },
      "execution_count": null,
      "outputs": []
    },
    {
      "cell_type": "code",
      "source": [
        "data['judul'] = data['judul'].apply(remove_special)\n",
        "data['judul'] = data['judul'].apply(remove_number)\n",
        "data['judul'] = data['judul'].apply(remove_punctuation)\n",
        "data['judul'] = data['judul'].apply(remove_whitespace_LT)\n",
        "data['judul'] = data['judul'].apply(remove_whitespace_multiple)\n",
        "data['judul'] = data['judul'].apply(remove_singl_char)"
      ],
      "metadata": {
        "id": "Sag-7EEPODfG"
      },
      "execution_count": null,
      "outputs": []
    },
    {
      "cell_type": "markdown",
      "source": [
        "**Tokenisasi** adalah proses mengubah teks menjadi potongan-potongan yang lebih kecil\n"
      ],
      "metadata": {
        "id": "bXxXBzlYQsme"
      }
    },
    {
      "cell_type": "code",
      "source": [
        "data['tokenized_narasi'] = data['narasi'].apply(word_tokenize_wrapper)\n",
        "data['tokenized_judul'] = data['judul'].apply(word_tokenize_wrapper)"
      ],
      "metadata": {
        "id": "XYGM1g3UOU46"
      },
      "execution_count": null,
      "outputs": []
    },
    {
      "cell_type": "code",
      "source": [
        "data[['narasi','tokenized_narasi']].head() #lihat narasi yang sudah di tokenisasi"
      ],
      "metadata": {
        "id": "OidNg78nOhTa"
      },
      "execution_count": null,
      "outputs": []
    },
    {
      "cell_type": "code",
      "source": [
        "data[['judul','tokenized_judul']].head() #lihat judul yang telah di tokenisasi"
      ],
      "metadata": {
        "id": "InG9wMLMOi3H"
      },
      "execution_count": null,
      "outputs": []
    },
    {
      "cell_type": "code",
      "source": [
        "#menggabungkan tabel yang telah tertokenisasi dan belum\n",
        "data_judul = data[['judul', 'tokenized_judul']]\n",
        "data_narasi = data[['narasi', 'tokenized_narasi']]"
      ],
      "metadata": {
        "id": "sKOtETw3OseM"
      },
      "execution_count": null,
      "outputs": []
    },
    {
      "cell_type": "markdown",
      "source": [
        "Setelah tadi menginisiasi stopwords, akan dilanjutkan dengan proses **Stopwords** terhadap text yang telah melewati proses tokenisasi dan pembersihan simbol-simbol."
      ],
      "metadata": {
        "id": "T1y0UfLSRQTj"
      }
    },
    {
      "cell_type": "code",
      "source": [
        "from nltk.corpus import stopwords\n",
        "nltk.download('stopwords')"
      ],
      "metadata": {
        "id": "THDvIGQnPBn-"
      },
      "execution_count": null,
      "outputs": []
    },
    {
      "cell_type": "code",
      "source": [
        "# stopword indonesia from NTLK library\n",
        "list_stopwords = stopwords.words('indonesian')\n",
        "\n",
        "list_stopwords.extend([\"yg\", \"dg\", \"rt\", \"dgn\", \"ny\", \"d\", 'klo',\n",
        "                       'kalo', 'amp', 'biar', 'bikin', 'bilang',\n",
        "                       'gak', 'ga', 'krn', 'nya', 'nih', 'sih',\n",
        "                       'si', 'tau', 'tdk', 'tuh', 'utk', 'ya',\n",
        "                       'jd', 'jgn', 'sdh', 'aja', 'n', 't',\n",
        "                       'nyg', 'hehe', 'pen', 'u', 'nan', 'loh', 'rt',\n",
        "                       '&amp', 'yah'])\n",
        "\n",
        "txt_stopword = Sastrawi_StopWords_id\n",
        "\n",
        "list_stopwords = set(list_stopwords)"
      ],
      "metadata": {
        "id": "DANvUrqDReH4"
      },
      "execution_count": null,
      "outputs": []
    },
    {
      "cell_type": "code",
      "source": [
        "def stopwords_removal(words):\n",
        "    return [word for word in words if word not in list_stopwords]"
      ],
      "metadata": {
        "id": "E1izw9QQPNU2"
      },
      "execution_count": null,
      "outputs": []
    },
    {
      "cell_type": "code",
      "source": [
        "data_narasi['stopword_applied'] = data_narasi['tokenized_narasi'].apply(stopwords_removal)\n",
        "data_judul['stopword_applied'] = data_judul['tokenized_judul'].apply(stopwords_removal)"
      ],
      "metadata": {
        "id": "QlOn7ycaPQHl"
      },
      "execution_count": null,
      "outputs": []
    },
    {
      "cell_type": "code",
      "source": [
        "data_narasi[['tokenized_narasi', 'stopword_applied']].head() #lihat data narasi telah ditokenisasi dan stopwords"
      ],
      "metadata": {
        "id": "pG50VGOnPYhe"
      },
      "execution_count": null,
      "outputs": []
    },
    {
      "cell_type": "code",
      "source": [
        "data_judul[['tokenized_judul', 'stopword_applied']].head() #lihat data judul telah tokenisasi dan stopwords"
      ],
      "metadata": {
        "id": "5beDbdkmPbs8"
      },
      "execution_count": null,
      "outputs": []
    },
    {
      "cell_type": "markdown",
      "source": [
        "**Slang** adalah proses menghilangkan atau mengubah frasa tidak resmi yang sering digunakan dalam percakapan sehari-hari dan biasanya tidak terdapat dalam kamus formal. Dilakukan untuk mencegah ambiguitas."
      ],
      "metadata": {
        "id": "Y0r441-rRqRL"
      }
    },
    {
      "cell_type": "code",
      "source": [
        "#menggambil kamus slang (bahasa non baku) menggunakan github\n",
        "slangS = pd.read_csv('https://raw.githubusercontent.com/nasalsabila/kamus-alay/master/colloquial-indonesian-lexicon.csv')"
      ],
      "metadata": {
        "id": "9LKvc1D5PhI6"
      },
      "execution_count": null,
      "outputs": []
    },
    {
      "cell_type": "code",
      "source": [
        "baku = {}\n",
        "\n",
        "for index, row in slangS.iterrows():\n",
        "    if row[0] not in baku:\n",
        "        baku[row[0]] = row[1]\n",
        "\n",
        "def normalized_term(document):\n",
        "    return [baku[term] if term in baku else term for term in document]"
      ],
      "metadata": {
        "id": "29APlcGDPpi2"
      },
      "execution_count": null,
      "outputs": []
    },
    {
      "cell_type": "code",
      "source": [
        "#Menerapkan slang pada kolom judul dan narasi\n",
        "data_narasi['baku_narasi'] = data_narasi['stopword_applied'].apply(normalized_term)\n",
        "data_judul['baku_judul'] = data_judul['stopword_applied'].apply(normalized_term)"
      ],
      "metadata": {
        "id": "gO8JHUPxPqfW"
      },
      "execution_count": null,
      "outputs": []
    },
    {
      "cell_type": "code",
      "source": [
        "#lihat tabel narasi yang telah tokenisasi, stopwords, dan slang\n",
        "data_narasi[['tokenized_narasi', 'stopword_applied', 'baku_narasi']].head()"
      ],
      "metadata": {
        "id": "46z1-vjyPw56"
      },
      "execution_count": null,
      "outputs": []
    },
    {
      "cell_type": "code",
      "source": [
        "data_judul[['tokenized_judul', 'stopword_applied', 'baku_judul']].head() #lihat untuk judul"
      ],
      "metadata": {
        "id": "FW3pZowNP0V-"
      },
      "execution_count": null,
      "outputs": []
    },
    {
      "cell_type": "markdown",
      "source": [
        "Setelah data melewati proses stopword, tokenized, dan slang akan dilakukan **stemmer** (menghilangkan imbuhan untuk dipetakan kepada sebuah kata baku), **lemminaisation** (menghasilkan kata baku bergantung konteks), dan **TF-IDF**."
      ],
      "metadata": {
        "id": "7kRG8vRJSnJ0"
      }
    },
    {
      "cell_type": "code",
      "source": [
        "!pip install swifter # Digunakan packages swifter dengan tujuan mengoptimalkan kinerja ketika Anda bekerja dengan DataFrame besar menggunakan operasi Pandas"
      ],
      "metadata": {
        "id": "HiCP330qUx6m"
      },
      "execution_count": null,
      "outputs": []
    },
    {
      "cell_type": "code",
      "source": [
        "from Sastrawi.Stemmer.StemmerFactory import StemmerFactory\n",
        "import swifter"
      ],
      "metadata": {
        "id": "nXO9KtvMS46c"
      },
      "execution_count": null,
      "outputs": []
    },
    {
      "cell_type": "markdown",
      "source": [
        "**Stemmer** adalah mengurangi kata-kata dalam teks ke bentuk dasarnya atau kata dasar dan mengelompokkan variasi kata ke dalam bentuk yang lebih sederhana"
      ],
      "metadata": {
        "id": "B1TiIYZqS-4a"
      }
    },
    {
      "cell_type": "code",
      "source": [
        "def stemmed_wrapper(term):\n",
        "    return stemmer.stem(term)\n",
        "\n",
        "term_dict = {}\n",
        "\n",
        "for document in data_narasi['baku_narasi']:\n",
        "    for term in document:\n",
        "        if term not in term_dict:\n",
        "            term_dict[term] = ' '\n",
        "\n",
        "for document in data_judul['baku_judul']:\n",
        "    for term in document:\n",
        "        if term not in term_dict:\n",
        "            term_dict[term] = ' '\n",
        "\n",
        "print(len(term_dict))\n",
        "print(\"------------------------\")\n",
        "\n",
        "for term in term_dict:\n",
        "    term_dict[term] = stemmed_wrapper(term)\n",
        "    print(term,\":\" ,term_dict[term])\n",
        "\n",
        "print(term_dict)\n",
        "print(\"------------------------\")\n",
        "\n",
        "\n",
        "# apply stemmed term to dataframe\n",
        "def get_stemmed_term(document):\n",
        "    return [term_dict[term] for term in document]\n",
        "\n",
        "data_narasi['narasi_tokens_stemmed'] = data_narasi['baku_narasi'].swifter.apply(get_stemmed_term)\n",
        "data_judul['judul_tokens_stemmed'] = data_judul['baku_judul'].swifter.apply(get_stemmed_term)\n",
        "print(data_narasi['narasi_tokens_stemmed'])\n",
        "print(data_judul['judul_tokens_stemmed'])"
      ],
      "metadata": {
        "id": "hXBJm2J0UB7G"
      },
      "execution_count": null,
      "outputs": []
    },
    {
      "cell_type": "code",
      "source": [
        "#lihat data narasi telah melewati proses stemmed\n",
        "data_narasi[['narasi','tokenized_narasi', 'stopword_applied', 'baku_narasi','narasi_tokens_stemmed']].head()"
      ],
      "metadata": {
        "id": "snBSt5tYnZYJ"
      },
      "execution_count": null,
      "outputs": []
    },
    {
      "cell_type": "code",
      "source": [
        "#lihat data judul telah melewati stemmed\n",
        "data_judul[['judul','tokenized_judul', 'stopword_applied', 'baku_judul','judul_tokens_stemmed']].head()"
      ],
      "metadata": {
        "id": "FA4T0JhYnsY3"
      },
      "execution_count": null,
      "outputs": []
    },
    {
      "cell_type": "markdown",
      "source": [
        "Normalisasi atau perbaikan format whitespace (spasi, tab, newline) dalam suatu teks. Fungsi ini menggunakan ekspresi reguler untuk mencari pola spasi berlebih dan menggantinya dengan satu spasi."
      ],
      "metadata": {
        "id": "HrrJt42TUTHG"
      }
    },
    {
      "cell_type": "code",
      "source": [
        "def _normalize_whitespace(text):\n",
        "    corrected = str(text)\n",
        "    corrected = re.sub(r\"//t\",r\"\\t\", corrected)\n",
        "    corrected = re.sub(r\"( )\\1+\",r\"\\1\", corrected)\n",
        "    corrected = re.sub(r\"(\\n)\\1+\",r\"\\1\", corrected)\n",
        "    corrected = re.sub(r\"(\\r)\\1+\",r\"\\1\", corrected)\n",
        "    corrected = re.sub(r\"(\\t)\\1+\",r\"\\1\", corrected)\n",
        "    return corrected.strip(\" \")"
      ],
      "metadata": {
        "id": "bsXMxBlUjhsv"
      },
      "execution_count": null,
      "outputs": []
    },
    {
      "cell_type": "code",
      "source": [
        "data_narasi['narasi_tokens_stemmed_normal'] = data_narasi['narasi_tokens_stemmed'].apply(_normalize_whitespace)\n",
        "data_narasi['narasi_tokens_stemmed_normal']"
      ],
      "metadata": {
        "id": "wkiIf-SSk0JP"
      },
      "execution_count": null,
      "outputs": []
    },
    {
      "cell_type": "code",
      "source": [
        "data_judul['judul_tokens_stemmed_normal'] = data_judul['judul_tokens_stemmed'].apply(_normalize_whitespace)\n",
        "data_judul['judul_tokens_stemmed_normal']"
      ],
      "metadata": {
        "id": "QilhM08fk3S7"
      },
      "execution_count": null,
      "outputs": []
    },
    {
      "cell_type": "code",
      "source": [
        "#lihat data sampai tahap proses normalisasi\n",
        "data_narasi[['narasi','tokenized_narasi', 'stopword_applied', 'baku_narasi','narasi_tokens_stemmed','narasi_tokens_stemmed_normal']].head()"
      ],
      "metadata": {
        "id": "eL08Y4FVoBNx"
      },
      "execution_count": null,
      "outputs": []
    },
    {
      "cell_type": "code",
      "source": [
        "#data judul telah melewati proses normalisasi\n",
        "data_judul[['judul','tokenized_judul', 'stopword_applied', 'baku_judul','judul_tokens_stemmed','judul_tokens_stemmed_normal']].head()"
      ],
      "metadata": {
        "id": "S9SkgVbqn7Xp"
      },
      "execution_count": null,
      "outputs": []
    },
    {
      "cell_type": "markdown",
      "source": [
        "**Lematization** adalah proses mengubah kata-kata dalam teks ke bentuk dasarnya atau kata dasar. Lemmatization lebih kompleks karena melibatkan analisis morfologi kata dan menggunakan kamus atau aturan gramatikal untuk menemukan bentuk dasar."
      ],
      "metadata": {
        "id": "GhlcDgPAXKUG"
      }
    },
    {
      "cell_type": "code",
      "source": [
        "import nltk\n",
        "nltk.download('wordnet')\n",
        "\n",
        "wn= nltk.WordNetLemmatizer()\n",
        "def lemmatization(text):\n",
        "    text = ' '.join(wn.lemmatize(word) for word in text.split() if word in text)\n",
        "    return text"
      ],
      "metadata": {
        "id": "l4Kc4as6j5o5"
      },
      "execution_count": null,
      "outputs": []
    },
    {
      "cell_type": "code",
      "source": [
        "# Buat kolom tambahan untuk data description yang telah dilemmatization\n",
        "data_narasi['narasi_tokens_stemmed_normal_lemma'] = data_narasi['narasi_tokens_stemmed_normal'].apply(lemmatization)\n",
        "data_narasi['narasi_tokens_stemmed_normal_lemma']"
      ],
      "metadata": {
        "id": "taqOy7yGk_Jx"
      },
      "execution_count": null,
      "outputs": []
    },
    {
      "cell_type": "code",
      "source": [
        "# Buat kolom tambahan untuk data description yang telah dilemmatization\n",
        "data_judul['judul_tokens_stemmed_normal_lemma'] = data_judul['judul_tokens_stemmed_normal'].apply(lemmatization)\n",
        "data_judul['judul_tokens_stemmed_normal_lemma']"
      ],
      "metadata": {
        "id": "MB7Uc8ZKlBbW"
      },
      "execution_count": null,
      "outputs": []
    },
    {
      "cell_type": "code",
      "source": [
        "#lihat data yang telah melewati tahap lemmatisasi\n",
        "data_narasi[['narasi','tokenized_narasi', 'stopword_applied', 'baku_narasi','narasi_tokens_stemmed','narasi_tokens_stemmed_normal','narasi_tokens_stemmed_normal_lemma']].head()"
      ],
      "metadata": {
        "id": "F-f8tgrWoN9o"
      },
      "execution_count": null,
      "outputs": []
    },
    {
      "cell_type": "code",
      "source": [
        "data_judul[['judul','tokenized_judul', 'stopword_applied', 'baku_judul','judul_tokens_stemmed','judul_tokens_stemmed_normal','judul_tokens_stemmed_normal_lemma']].head()"
      ],
      "metadata": {
        "id": "Y0-ua8x8oXND"
      },
      "execution_count": null,
      "outputs": []
    },
    {
      "cell_type": "code",
      "source": [
        "#Mengubah text menjadi list\n",
        "import ast\n",
        "\n",
        "def convert_text_list(texts):\n",
        "    texts = ast.literal_eval(texts)\n",
        "    return [text for text in texts]"
      ],
      "metadata": {
        "id": "e38QOqxto23F"
      },
      "execution_count": null,
      "outputs": []
    },
    {
      "cell_type": "code",
      "source": [
        "data_narasi['list_narasi_tokens_stemmed_normal_lemma'] = data_narasi['narasi_tokens_stemmed_normal_lemma'].apply(convert_text_list)\n",
        "print(data_narasi['list_narasi_tokens_stemmed_normal_lemma'][90])\n",
        "print(\"\\ntype : \", type(data_narasi['list_narasi_tokens_stemmed_normal_lemma'][90]))"
      ],
      "metadata": {
        "id": "I24aiAYepKgl"
      },
      "execution_count": null,
      "outputs": []
    },
    {
      "cell_type": "code",
      "source": [
        "data_judul['list_judul_tokens_stemmed_normal_lemma'] = data_judul['judul_tokens_stemmed_normal_lemma'].apply(convert_text_list)\n",
        "print(data_judul['list_judul_tokens_stemmed_normal_lemma'][90])\n",
        "print(\"\\ntype : \", type(data_judul['list_judul_tokens_stemmed_normal_lemma'][90]))"
      ],
      "metadata": {
        "id": "XsGyy-k6pN5H"
      },
      "execution_count": null,
      "outputs": []
    },
    {
      "cell_type": "markdown",
      "source": [
        "**TF-IDF** atau *Term Frequency-Inverse Document Frequency* adalah suatu metode yang digunakan untuk mengevaluasi seberapa penting suatu kata dalam suatu dokumen terhadap seluruh koleksi dokumen."
      ],
      "metadata": {
        "id": "nKbEdpXbX15P"
      }
    },
    {
      "cell_type": "markdown",
      "source": [
        "*Term Frequency* adalah ukuran seberapa sering suatu kata muncul dalam suatu dokumen. Dihitung dengan cara menghitung jumlah kemunculan suatu kata dalam dokumen tersebut dan kemudian dibagi dengan total jumlah kata dalam dokumen."
      ],
      "metadata": {
        "id": "I7edWoU6YPKA"
      }
    },
    {
      "cell_type": "code",
      "source": [
        "#Term freq untuk melihat frekuensi kemunculan term i pada dokumen j dibagi dengan total term pada dokumen j\n",
        "def calc_TF(document):\n",
        "    TF_dict = {}\n",
        "    for term in document:\n",
        "        if term in TF_dict:\n",
        "            TF_dict[term] += 1\n",
        "        else:\n",
        "            TF_dict[term] = 1\n",
        "    #menghitung tf untuk setiap kata\n",
        "    for term in TF_dict:\n",
        "        TF_dict[term] = TF_dict[term] / len(document)\n",
        "    return TF_dict"
      ],
      "metadata": {
        "id": "P1UIRvc8pgNj"
      },
      "execution_count": null,
      "outputs": []
    },
    {
      "cell_type": "code",
      "source": [
        "data_narasi[\"TF_dict_narasi\"] = data_narasi['list_narasi_tokens_stemmed_normal_lemma'].apply(calc_TF)\n",
        "data_narasi[\"TF_dict_narasi\"].head()"
      ],
      "metadata": {
        "id": "40Xje1UPptx3"
      },
      "execution_count": null,
      "outputs": []
    },
    {
      "cell_type": "code",
      "source": [
        "data_judul[\"TF_dict_judul\"] = data_judul['list_judul_tokens_stemmed_normal_lemma'].apply(calc_TF)\n",
        "data_judul[\"TF_dict_judul\"].head()"
      ],
      "metadata": {
        "id": "ZwRSbq1yp7O6"
      },
      "execution_count": null,
      "outputs": []
    },
    {
      "cell_type": "markdown",
      "source": [
        "Dapat dilihat bahwa untuk setiap baris dari kolom judul dan narasi dapat dihitung frekuensi munculnya (seberapa banyak kata tersebut muncul)."
      ],
      "metadata": {
        "id": "H37cbYWvYidF"
      }
    },
    {
      "cell_type": "markdown",
      "source": [
        "Sementara itu, proses **IDF** adalah ukuran seberapa unik suatu kata dalam seluruh koleksi dokumen. Ini dihitung dengan cara menghitung jumlah dokumen yang mengandung kata tersebut, kemudian mengambil logaritma terbalik dari rasio jumlah total dokumen dengan jumlah dokumen yang mengandung kata tersebut."
      ],
      "metadata": {
        "id": "ILv-fpbXYsV7"
      }
    },
    {
      "cell_type": "code",
      "source": [
        "#Inverse Document Frequency (IDF) berfungsi mengurangi bobot suatu term jika kemunculannya banyak tersebar diseluruh dokumen\n",
        "\n",
        "def calc_DF(tfDict):\n",
        "    count_DF = {}\n",
        "    for document in tfDict:\n",
        "        for term in document:\n",
        "            if term in count_DF:\n",
        "                count_DF[term] += 1\n",
        "            else:\n",
        "                count_DF[term] = 1\n",
        "    return count_DF"
      ],
      "metadata": {
        "id": "l1grmIkuqCSx"
      },
      "execution_count": null,
      "outputs": []
    },
    {
      "cell_type": "code",
      "source": [
        "DFnarasi = calc_DF(data_narasi[\"TF_dict_narasi\"])"
      ],
      "metadata": {
        "id": "FSaDyoE_qWw7"
      },
      "execution_count": null,
      "outputs": []
    },
    {
      "cell_type": "code",
      "source": [
        "n_document = len(data_narasi)\n",
        "\n",
        "def calc_IDF(__n_document, __DF):\n",
        "    IDF_Dict = {}\n",
        "    for term in __DF:\n",
        "        IDF_Dict[term] = np.log(__n_document / (__DF[term] + 1))\n",
        "    return IDF_Dict\n",
        "\n",
        "#Simpan IDFnarasi\n",
        "IDFnarasi = calc_IDF(n_document, DFnarasi)\n",
        "IDFnarasi"
      ],
      "metadata": {
        "id": "EpFOejjXrDnz"
      },
      "execution_count": null,
      "outputs": []
    },
    {
      "cell_type": "code",
      "source": [
        "DFjudul = calc_DF(data_judul[\"TF_dict_judul\"])\n",
        "DFjudul"
      ],
      "metadata": {
        "id": "WeUO5Fwiqj-C"
      },
      "execution_count": null,
      "outputs": []
    },
    {
      "cell_type": "code",
      "source": [
        "n_document = len(data_judul)\n",
        "\n",
        "def calc_IDF(__n_document, __DF):\n",
        "    IDF_Dict = {}\n",
        "    for term in __DF:\n",
        "        IDF_Dict[term] = np.log(__n_document / (__DF[term] + 1))\n",
        "    return IDF_Dict\n",
        "\n",
        "#Simpan IDFjudul\n",
        "IDFjudul = calc_IDF(n_document, DFjudul)\n",
        "IDFjudul"
      ],
      "metadata": {
        "id": "LX6fbzwYrPbT"
      },
      "execution_count": null,
      "outputs": []
    },
    {
      "cell_type": "markdown",
      "source": [
        "Dari proses IDF sendiri kita dapat menilai seberapa unik suatu kata, berdasarkan perhitunga yang muncul di atas."
      ],
      "metadata": {
        "id": "DQm5BWp3Y54i"
      }
    },
    {
      "cell_type": "markdown",
      "source": [
        "Proses keduanya akan menghasilkan skor yang mengukur pentingnya suatu kata dalam suatu dokumen relatif terhadap koleksi dokumen secara keseluruhan. Semakin tinggi skor TF-IDF suatu kata dalam suatu dokumen, semakin penting kata tersebut dalam dokumen tersebut.\n",
        "\n",
        "**TF - IDF**"
      ],
      "metadata": {
        "id": "OMV1wAkbY_na"
      }
    },
    {
      "cell_type": "code",
      "source": [
        "#Menghitung TF-IDF narasi\n",
        "def calc_TF_IDF(TF):\n",
        "    TF_IDF_Dict = {}\n",
        "    for key in TF:\n",
        "        TF_IDF_Dict[key] = TF[key] * IDFnarasi[key]\n",
        "    return TF_IDF_Dict"
      ],
      "metadata": {
        "id": "YdidljDoqv7V"
      },
      "execution_count": null,
      "outputs": []
    },
    {
      "cell_type": "code",
      "source": [
        "#Simpan TF-IDF dict narasi\n",
        "data_narasi[\"TF-IDF_dict_narasi\"] = data_narasi[\"TF_dict_narasi\"].apply(calc_TF_IDF)\n",
        "data_narasi[\"TF-IDF_dict_narasi\"]"
      ],
      "metadata": {
        "id": "hMJ6ceT7qywv"
      },
      "execution_count": null,
      "outputs": []
    },
    {
      "cell_type": "code",
      "source": [
        "#Menghitung TF-IDF judul\n",
        "def calc_TF_IDF(TF):\n",
        "    TF_IDF_Dict = {}\n",
        "    for key in TF:\n",
        "        TF_IDF_Dict[key] = TF[key] * IDFjudul[key]\n",
        "    return TF_IDF_Dict"
      ],
      "metadata": {
        "id": "_Z0GnXXruQZH"
      },
      "execution_count": null,
      "outputs": []
    },
    {
      "cell_type": "code",
      "source": [
        "#Simpan TF-IDF dict judul\n",
        "data_judul[\"TF-IDF_dict_judul\"] = data_judul[\"TF_dict_judul\"].apply(calc_TF_IDF)\n",
        "data_judul[\"TF-IDF_dict_judul\"]"
      ],
      "metadata": {
        "id": "LtyyXDBPuSHY"
      },
      "execution_count": null,
      "outputs": []
    },
    {
      "cell_type": "markdown",
      "source": [
        "Data Text telah melewati hasil **Pre-Processing** dengan step yang digunakan ada tokenisasi, menghilangkan simbol-simbol, stopwords, slang, stemmer, lematization, dan TF-IDF. Oleh karena itu, data text akan di save ke csv baru untuk dilakukan EDA dan Modelling lebih lanjut."
      ],
      "metadata": {
        "id": "pdsApcgRbMUh"
      }
    },
    {
      "cell_type": "markdown",
      "source": [
        "Selanjutnya, karena terdapat banyak kolom yang telah melewati pre-processing maka akan dipilih beberapa kolom saja yang akan melewati proses EDA dan Modelling agar tidak membingungkan.\n",
        "\n",
        "Maka dari itu, untuk kolom narasi hanya diambil 'narasi','narasi_tokens_stemmed_normal_lemma','TF-IDF_dict_naras' dan selebihnya di drop (hal berlaku sama untuk kolom judul)."
      ],
      "metadata": {
        "id": "3tBdesD5z4yn"
      }
    },
    {
      "cell_type": "code",
      "source": [
        "narasi = data_narasi.drop(['tokenized_narasi','stopword_applied','baku_narasi','narasi_tokens_stemmed','narasi_tokens_stemmed_normal','list_narasi_tokens_stemmed_normal_lemma','TF_dict_narasi'], axis=1)\n",
        "narasi"
      ],
      "metadata": {
        "id": "uFjlKI2Cz_Ox"
      },
      "execution_count": null,
      "outputs": []
    },
    {
      "cell_type": "code",
      "source": [
        "judul = data_judul.drop(['tokenized_judul','stopword_applied','baku_judul','judul_tokens_stemmed','judul_tokens_stemmed_normal','list_judul_tokens_stemmed_normal_lemma','TF_dict_judul'], axis=1)\n",
        "judul"
      ],
      "metadata": {
        "id": "ZCkyHP7N06qT"
      },
      "execution_count": null,
      "outputs": []
    },
    {
      "cell_type": "markdown",
      "source": [
        "Jangan lupa munculkan kembali kolom tabel untuk keperluan modelling"
      ],
      "metadata": {
        "id": "VHggRo4q6OAB"
      }
    },
    {
      "cell_type": "code",
      "source": [
        "label = data['label']\n",
        "label = pd.DataFrame(label)\n",
        "label"
      ],
      "metadata": {
        "id": "iK8iqx8D4abf"
      },
      "execution_count": null,
      "outputs": []
    },
    {
      "cell_type": "markdown",
      "source": [
        "Combine ke-3 kolom, yaitu Judul, Narasi, dan Tabel yang sudah dibersihkan dan dipilih."
      ],
      "metadata": {
        "id": "IGr5Qv_36SZn"
      }
    },
    {
      "cell_type": "code",
      "source": [
        "dfcombined = pd.concat([label, judul, narasi], axis=1)\n",
        "dfcombined.head()"
      ],
      "metadata": {
        "id": "G3G-FMPj4g9F"
      },
      "execution_count": null,
      "outputs": []
    },
    {
      "cell_type": "code",
      "source": [
        "dfcombined.to_csv(\"PreproComplete.csv\")"
      ],
      "metadata": {
        "id": "VT11H_Oizdyr"
      },
      "execution_count": null,
      "outputs": []
    },
    {
      "cell_type": "markdown",
      "source": [
        "Save combined df ke csv agar memudahkan visualisasi tanpa memerlukan \"run all\""
      ],
      "metadata": {
        "id": "HGSLM2DWe_3x"
      }
    },
    {
      "cell_type": "markdown",
      "source": [
        "# EDA"
      ],
      "metadata": {
        "id": "QQbRZ-qJfHsL"
      }
    },
    {
      "cell_type": "markdown",
      "source": [
        "**Exploratory Data Analysis** adalah suatu pendekatan dalam statistika dan ilmu data yang bertujuan untuk menyelidiki dan memahami struktur, pola, dan karakteristik dasar dari suatu dataset tanpa membuat asumsi atau pengujian hipotesis yang kuat.\n"
      ],
      "metadata": {
        "id": "lmkfyoELlEGE"
      }
    },
    {
      "cell_type": "markdown",
      "source": [
        "Agar proses EDA dan Modelling selanjutnya tidak running dari awal, digunakan modul Gdown untuk membantu."
      ],
      "metadata": {
        "id": "GDwfq6pBpS2Y"
      }
    },
    {
      "cell_type": "code",
      "source": [
        "#Digunakan modul gdown untuk mengambil data dari Google Drive\n",
        "!gdown 1dV-NW__z6zdMAG6WF3VYyGe8NKq1KXis"
      ],
      "metadata": {
        "colab": {
          "base_uri": "https://localhost:8080/"
        },
        "id": "pv6f_c37fGes",
        "outputId": "40aba6e7-0b09-4fba-f2c8-eb36dea4b023"
      },
      "execution_count": null,
      "outputs": [
        {
          "output_type": "stream",
          "name": "stdout",
          "text": [
            "Downloading...\n",
            "From: https://drive.google.com/uc?id=1dV-NW__z6zdMAG6WF3VYyGe8NKq1KXis\n",
            "To: /content/PreprocessingAllincLABEL_complete.csv\n",
            "100% 17.7M/17.7M [00:00<00:00, 50.2MB/s]\n"
          ]
        }
      ]
    },
    {
      "cell_type": "code",
      "source": [
        "dfs = pd.read_csv(\"PreproComplete.csv\")\n",
        "dfs"
      ],
      "metadata": {
        "colab": {
          "base_uri": "https://localhost:8080/",
          "height": 1000
        },
        "id": "ldEXovMNIUZX",
        "outputId": "f3c0dcae-7685-4edf-dda7-c99229da5d2a"
      },
      "execution_count": null,
      "outputs": [
        {
          "output_type": "execute_result",
          "data": {
            "text/plain": [
              "      Unnamed: 0  label                                              judul  \\\n",
              "0              0      1  pemakaian masker menyebabkan penyakit legionna...   \n",
              "1              1      1  instruksi gubernur jateng tentang penilangan b...   \n",
              "2              2      1  foto jim rohn jokowi adalah presiden terbaik d...   \n",
              "3              3      1  ini bukan politik tapi kenyataan pak jokowi be...   \n",
              "4              4      1       foto kadrun kalo lihat foto ini panas dingin   \n",
              "...          ...    ...                                                ...   \n",
              "4696        4696      0                                banserpdip berdamai   \n",
              "4697        4697      1  erdogan tak mau duduk di kursi tamu yang lebih...   \n",
              "4698        4698      1  imigran china sengaja membawa virus tujuannya ...   \n",
              "4699        4699      1               bukti kecurangan jokowi bagi sembako   \n",
              "4700        4700      1  anak kecil bersembunyi di kolong meja saat ber...   \n",
              "\n",
              "                      judul_tokens_stemmed_normal_lemma  \\\n",
              "0     ['pakai', 'masker', 'sebab', 'sakit', 'legionn...   \n",
              "1     ['instruksi', 'gubernur', 'jateng', 'tilang', ...   \n",
              "2     ['foto', 'jim', 'rohn', 'jokowi', 'presiden', ...   \n",
              "3     ['politik', 'nyata', 'jokowi', 'hasil', 'pulan...   \n",
              "4     ['foto', 'kadrun', 'lihat', 'foto', 'panas', '...   \n",
              "...                                                 ...   \n",
              "4696                            ['banserpdip', 'damai']   \n",
              "4697  ['erdogan', 'duduk', 'kursi', 'tamu', 'kursi',...   \n",
              "4698  ['imigran', 'china', 'sengaja', 'bawa', 'virus...   \n",
              "4699           ['bukti', 'curang', 'jokowi', 'sembako']   \n",
              "4700  ['anak', 'sembunyi', 'kolong', 'meja', 'temu',...   \n",
              "\n",
              "                                      TF-IDF_dict_judul  \\\n",
              "0     {'pakai': 0.8624791609265196, 'masker': 1.0640...   \n",
              "1     {'instruksi': 0.6223720562354573, 'gubernur': ...   \n",
              "2     {'foto': 0.256665257269125, 'jim': 0.735691824...   \n",
              "3     {'politik': 0.63860892554688, 'nyata': 0.48273...   \n",
              "4     {'foto': 0.8555508575637498, 'kadrun': 1.04305...   \n",
              "...                                                 ...   \n",
              "4696  {'banserpdip': 3.8811916752320927, 'damai': 3....   \n",
              "4697  {'erdogan': 0.8529462687480185, 'duduk': 0.852...   \n",
              "4698  {'imigran': 0.8557615773237538, 'china': 0.433...   \n",
              "4699  {'bukti': 1.3912896932819914, 'curang': 1.2993...   \n",
              "4700  {'anak': 0.45955087973907516, 'sembunyi': 0.79...   \n",
              "\n",
              "                                                 narasi  \\\n",
              "0      caller to  radio talk show recently shared th...   \n",
              "1     ythseluruh anggota grup sesuai instruksi guber...   \n",
              "2     jokowi adalah presiden terbaik dlm sejarah ban...   \n",
              "3     maaf mas dan mbak ini bukan politik tapi kenya...   \n",
              "4               kadrun kalo lihat foto ini panas dingin   \n",
              "...                                                 ...   \n",
              "4696  ratusan massa dari barisan serba guna banser d...   \n",
              "4697  erdogan datang ke vatikan menjumpai baba pop v...   \n",
              "4698  imigran cn sengaja membawa virus dan mereka te...   \n",
              "4699  beredar dimana mana jadi viral video ini apa t...   \n",
              "4700  naluri anak kecil itu tajam boooss saat didata...   \n",
              "\n",
              "                     narasi_tokens_stemmed_normal_lemma  \\\n",
              "0     ['caller', 'tapi', 'radio', 'talk', 'show', 'r...   \n",
              "1     ['ythseluruh', 'anggota', 'grup', 'sesuai', 'i...   \n",
              "2     ['jokowi', 'presiden', 'baik', 'dalam', 'sejar...   \n",
              "3     ['maaf', 'mas', 'mbak', 'politik', 'nyata', 'j...   \n",
              "4        ['kadrun', 'lihat', 'foto', 'panas', 'dingin']   \n",
              "...                                                 ...   \n",
              "4696  ['ratus', 'massa', 'baris', 'serba', 'banser',...   \n",
              "4697  ['erdogan', 'vatikan', 'jumpa', 'baba', 'pop',...   \n",
              "4698  ['imigran', 'cn', 'sengaja', 'bawa', 'virus', ...   \n",
              "4699  ['edar', 'mana', 'viral', 'video', 'tindak', '...   \n",
              "4700  ['naluri', 'anak', 'tajam', 'boooss', 'datang'...   \n",
              "\n",
              "                                     TF-IDF_dict_narasi  \n",
              "0     {'caller': 0.09702979188080232, 'tapi': 0.1467...  \n",
              "1     {'ythseluruh': 0.49046121615706806, 'anggota':...  \n",
              "2     {'jokowi': 0.2359594187363993, 'presiden': 0.2...  \n",
              "3     {'maaf': 0.06035873627648455, 'mas': 0.0713172...  \n",
              "4     {'kadrun': 1.149496065984384, 'lihat': 0.79337...  \n",
              "...                                                 ...  \n",
              "4696  {'ratus': 0.3831777198332725, 'massa': 0.39364...  \n",
              "4697  {'erdogan': 0.5859948036219128, 'vatikan': 0.3...  \n",
              "4698  {'imigran': 0.3331885530898038, 'cn': 0.735691...  \n",
              "4699  {'edar': 0.34719239093157944, 'mana': 0.443017...  \n",
              "4700  {'naluri': 0.7762383350464186, 'anak': 0.31179...  \n",
              "\n",
              "[4701 rows x 8 columns]"
            ],
            "text/html": [
              "\n",
              "  <div id=\"df-30317db8-2e6e-43f2-824d-8a52c7319cfb\" class=\"colab-df-container\">\n",
              "    <div>\n",
              "<style scoped>\n",
              "    .dataframe tbody tr th:only-of-type {\n",
              "        vertical-align: middle;\n",
              "    }\n",
              "\n",
              "    .dataframe tbody tr th {\n",
              "        vertical-align: top;\n",
              "    }\n",
              "\n",
              "    .dataframe thead th {\n",
              "        text-align: right;\n",
              "    }\n",
              "</style>\n",
              "<table border=\"1\" class=\"dataframe\">\n",
              "  <thead>\n",
              "    <tr style=\"text-align: right;\">\n",
              "      <th></th>\n",
              "      <th>Unnamed: 0</th>\n",
              "      <th>label</th>\n",
              "      <th>judul</th>\n",
              "      <th>judul_tokens_stemmed_normal_lemma</th>\n",
              "      <th>TF-IDF_dict_judul</th>\n",
              "      <th>narasi</th>\n",
              "      <th>narasi_tokens_stemmed_normal_lemma</th>\n",
              "      <th>TF-IDF_dict_narasi</th>\n",
              "    </tr>\n",
              "  </thead>\n",
              "  <tbody>\n",
              "    <tr>\n",
              "      <th>0</th>\n",
              "      <td>0</td>\n",
              "      <td>1</td>\n",
              "      <td>pemakaian masker menyebabkan penyakit legionna...</td>\n",
              "      <td>['pakai', 'masker', 'sebab', 'sakit', 'legionn...</td>\n",
              "      <td>{'pakai': 0.8624791609265196, 'masker': 1.0640...</td>\n",
              "      <td>caller to  radio talk show recently shared th...</td>\n",
              "      <td>['caller', 'tapi', 'radio', 'talk', 'show', 'r...</td>\n",
              "      <td>{'caller': 0.09702979188080232, 'tapi': 0.1467...</td>\n",
              "    </tr>\n",
              "    <tr>\n",
              "      <th>1</th>\n",
              "      <td>1</td>\n",
              "      <td>1</td>\n",
              "      <td>instruksi gubernur jateng tentang penilangan b...</td>\n",
              "      <td>['instruksi', 'gubernur', 'jateng', 'tilang', ...</td>\n",
              "      <td>{'instruksi': 0.6223720562354573, 'gubernur': ...</td>\n",
              "      <td>ythseluruh anggota grup sesuai instruksi guber...</td>\n",
              "      <td>['ythseluruh', 'anggota', 'grup', 'sesuai', 'i...</td>\n",
              "      <td>{'ythseluruh': 0.49046121615706806, 'anggota':...</td>\n",
              "    </tr>\n",
              "    <tr>\n",
              "      <th>2</th>\n",
              "      <td>2</td>\n",
              "      <td>1</td>\n",
              "      <td>foto jim rohn jokowi adalah presiden terbaik d...</td>\n",
              "      <td>['foto', 'jim', 'rohn', 'jokowi', 'presiden', ...</td>\n",
              "      <td>{'foto': 0.256665257269125, 'jim': 0.735691824...</td>\n",
              "      <td>jokowi adalah presiden terbaik dlm sejarah ban...</td>\n",
              "      <td>['jokowi', 'presiden', 'baik', 'dalam', 'sejar...</td>\n",
              "      <td>{'jokowi': 0.2359594187363993, 'presiden': 0.2...</td>\n",
              "    </tr>\n",
              "    <tr>\n",
              "      <th>3</th>\n",
              "      <td>3</td>\n",
              "      <td>1</td>\n",
              "      <td>ini bukan politik tapi kenyataan pak jokowi be...</td>\n",
              "      <td>['politik', 'nyata', 'jokowi', 'hasil', 'pulan...</td>\n",
              "      <td>{'politik': 0.63860892554688, 'nyata': 0.48273...</td>\n",
              "      <td>maaf mas dan mbak ini bukan politik tapi kenya...</td>\n",
              "      <td>['maaf', 'mas', 'mbak', 'politik', 'nyata', 'j...</td>\n",
              "      <td>{'maaf': 0.06035873627648455, 'mas': 0.0713172...</td>\n",
              "    </tr>\n",
              "    <tr>\n",
              "      <th>4</th>\n",
              "      <td>4</td>\n",
              "      <td>1</td>\n",
              "      <td>foto kadrun kalo lihat foto ini panas dingin</td>\n",
              "      <td>['foto', 'kadrun', 'lihat', 'foto', 'panas', '...</td>\n",
              "      <td>{'foto': 0.8555508575637498, 'kadrun': 1.04305...</td>\n",
              "      <td>kadrun kalo lihat foto ini panas dingin</td>\n",
              "      <td>['kadrun', 'lihat', 'foto', 'panas', 'dingin']</td>\n",
              "      <td>{'kadrun': 1.149496065984384, 'lihat': 0.79337...</td>\n",
              "    </tr>\n",
              "    <tr>\n",
              "      <th>...</th>\n",
              "      <td>...</td>\n",
              "      <td>...</td>\n",
              "      <td>...</td>\n",
              "      <td>...</td>\n",
              "      <td>...</td>\n",
              "      <td>...</td>\n",
              "      <td>...</td>\n",
              "      <td>...</td>\n",
              "    </tr>\n",
              "    <tr>\n",
              "      <th>4696</th>\n",
              "      <td>4696</td>\n",
              "      <td>0</td>\n",
              "      <td>banserpdip berdamai</td>\n",
              "      <td>['banserpdip', 'damai']</td>\n",
              "      <td>{'banserpdip': 3.8811916752320927, 'damai': 3....</td>\n",
              "      <td>ratusan massa dari barisan serba guna banser d...</td>\n",
              "      <td>['ratus', 'massa', 'baris', 'serba', 'banser',...</td>\n",
              "      <td>{'ratus': 0.3831777198332725, 'massa': 0.39364...</td>\n",
              "    </tr>\n",
              "    <tr>\n",
              "      <th>4697</th>\n",
              "      <td>4697</td>\n",
              "      <td>1</td>\n",
              "      <td>erdogan tak mau duduk di kursi tamu yang lebih...</td>\n",
              "      <td>['erdogan', 'duduk', 'kursi', 'tamu', 'kursi',...</td>\n",
              "      <td>{'erdogan': 0.8529462687480185, 'duduk': 0.852...</td>\n",
              "      <td>erdogan datang ke vatikan menjumpai baba pop v...</td>\n",
              "      <td>['erdogan', 'vatikan', 'jumpa', 'baba', 'pop',...</td>\n",
              "      <td>{'erdogan': 0.5859948036219128, 'vatikan': 0.3...</td>\n",
              "    </tr>\n",
              "    <tr>\n",
              "      <th>4698</th>\n",
              "      <td>4698</td>\n",
              "      <td>1</td>\n",
              "      <td>imigran china sengaja membawa virus tujuannya ...</td>\n",
              "      <td>['imigran', 'china', 'sengaja', 'bawa', 'virus...</td>\n",
              "      <td>{'imigran': 0.8557615773237538, 'china': 0.433...</td>\n",
              "      <td>imigran cn sengaja membawa virus dan mereka te...</td>\n",
              "      <td>['imigran', 'cn', 'sengaja', 'bawa', 'virus', ...</td>\n",
              "      <td>{'imigran': 0.3331885530898038, 'cn': 0.735691...</td>\n",
              "    </tr>\n",
              "    <tr>\n",
              "      <th>4699</th>\n",
              "      <td>4699</td>\n",
              "      <td>1</td>\n",
              "      <td>bukti kecurangan jokowi bagi sembako</td>\n",
              "      <td>['bukti', 'curang', 'jokowi', 'sembako']</td>\n",
              "      <td>{'bukti': 1.3912896932819914, 'curang': 1.2993...</td>\n",
              "      <td>beredar dimana mana jadi viral video ini apa t...</td>\n",
              "      <td>['edar', 'mana', 'viral', 'video', 'tindak', '...</td>\n",
              "      <td>{'edar': 0.34719239093157944, 'mana': 0.443017...</td>\n",
              "    </tr>\n",
              "    <tr>\n",
              "      <th>4700</th>\n",
              "      <td>4700</td>\n",
              "      <td>1</td>\n",
              "      <td>anak kecil bersembunyi di kolong meja saat ber...</td>\n",
              "      <td>['anak', 'sembunyi', 'kolong', 'meja', 'temu',...</td>\n",
              "      <td>{'anak': 0.45955087973907516, 'sembunyi': 0.79...</td>\n",
              "      <td>naluri anak kecil itu tajam boooss saat didata...</td>\n",
              "      <td>['naluri', 'anak', 'tajam', 'boooss', 'datang'...</td>\n",
              "      <td>{'naluri': 0.7762383350464186, 'anak': 0.31179...</td>\n",
              "    </tr>\n",
              "  </tbody>\n",
              "</table>\n",
              "<p>4701 rows × 8 columns</p>\n",
              "</div>\n",
              "    <div class=\"colab-df-buttons\">\n",
              "\n",
              "  <div class=\"colab-df-container\">\n",
              "    <button class=\"colab-df-convert\" onclick=\"convertToInteractive('df-30317db8-2e6e-43f2-824d-8a52c7319cfb')\"\n",
              "            title=\"Convert this dataframe to an interactive table.\"\n",
              "            style=\"display:none;\">\n",
              "\n",
              "  <svg xmlns=\"http://www.w3.org/2000/svg\" height=\"24px\" viewBox=\"0 -960 960 960\">\n",
              "    <path d=\"M120-120v-720h720v720H120Zm60-500h600v-160H180v160Zm220 220h160v-160H400v160Zm0 220h160v-160H400v160ZM180-400h160v-160H180v160Zm440 0h160v-160H620v160ZM180-180h160v-160H180v160Zm440 0h160v-160H620v160Z\"/>\n",
              "  </svg>\n",
              "    </button>\n",
              "\n",
              "  <style>\n",
              "    .colab-df-container {\n",
              "      display:flex;\n",
              "      gap: 12px;\n",
              "    }\n",
              "\n",
              "    .colab-df-convert {\n",
              "      background-color: #E8F0FE;\n",
              "      border: none;\n",
              "      border-radius: 50%;\n",
              "      cursor: pointer;\n",
              "      display: none;\n",
              "      fill: #1967D2;\n",
              "      height: 32px;\n",
              "      padding: 0 0 0 0;\n",
              "      width: 32px;\n",
              "    }\n",
              "\n",
              "    .colab-df-convert:hover {\n",
              "      background-color: #E2EBFA;\n",
              "      box-shadow: 0px 1px 2px rgba(60, 64, 67, 0.3), 0px 1px 3px 1px rgba(60, 64, 67, 0.15);\n",
              "      fill: #174EA6;\n",
              "    }\n",
              "\n",
              "    .colab-df-buttons div {\n",
              "      margin-bottom: 4px;\n",
              "    }\n",
              "\n",
              "    [theme=dark] .colab-df-convert {\n",
              "      background-color: #3B4455;\n",
              "      fill: #D2E3FC;\n",
              "    }\n",
              "\n",
              "    [theme=dark] .colab-df-convert:hover {\n",
              "      background-color: #434B5C;\n",
              "      box-shadow: 0px 1px 3px 1px rgba(0, 0, 0, 0.15);\n",
              "      filter: drop-shadow(0px 1px 2px rgba(0, 0, 0, 0.3));\n",
              "      fill: #FFFFFF;\n",
              "    }\n",
              "  </style>\n",
              "\n",
              "    <script>\n",
              "      const buttonEl =\n",
              "        document.querySelector('#df-30317db8-2e6e-43f2-824d-8a52c7319cfb button.colab-df-convert');\n",
              "      buttonEl.style.display =\n",
              "        google.colab.kernel.accessAllowed ? 'block' : 'none';\n",
              "\n",
              "      async function convertToInteractive(key) {\n",
              "        const element = document.querySelector('#df-30317db8-2e6e-43f2-824d-8a52c7319cfb');\n",
              "        const dataTable =\n",
              "          await google.colab.kernel.invokeFunction('convertToInteractive',\n",
              "                                                    [key], {});\n",
              "        if (!dataTable) return;\n",
              "\n",
              "        const docLinkHtml = 'Like what you see? Visit the ' +\n",
              "          '<a target=\"_blank\" href=https://colab.research.google.com/notebooks/data_table.ipynb>data table notebook</a>'\n",
              "          + ' to learn more about interactive tables.';\n",
              "        element.innerHTML = '';\n",
              "        dataTable['output_type'] = 'display_data';\n",
              "        await google.colab.output.renderOutput(dataTable, element);\n",
              "        const docLink = document.createElement('div');\n",
              "        docLink.innerHTML = docLinkHtml;\n",
              "        element.appendChild(docLink);\n",
              "      }\n",
              "    </script>\n",
              "  </div>\n",
              "\n",
              "\n",
              "<div id=\"df-1644329a-d3d5-41ef-855d-1e32834e1e78\">\n",
              "  <button class=\"colab-df-quickchart\" onclick=\"quickchart('df-1644329a-d3d5-41ef-855d-1e32834e1e78')\"\n",
              "            title=\"Suggest charts\"\n",
              "            style=\"display:none;\">\n",
              "\n",
              "<svg xmlns=\"http://www.w3.org/2000/svg\" height=\"24px\"viewBox=\"0 0 24 24\"\n",
              "     width=\"24px\">\n",
              "    <g>\n",
              "        <path d=\"M19 3H5c-1.1 0-2 .9-2 2v14c0 1.1.9 2 2 2h14c1.1 0 2-.9 2-2V5c0-1.1-.9-2-2-2zM9 17H7v-7h2v7zm4 0h-2V7h2v10zm4 0h-2v-4h2v4z\"/>\n",
              "    </g>\n",
              "</svg>\n",
              "  </button>\n",
              "\n",
              "<style>\n",
              "  .colab-df-quickchart {\n",
              "      --bg-color: #E8F0FE;\n",
              "      --fill-color: #1967D2;\n",
              "      --hover-bg-color: #E2EBFA;\n",
              "      --hover-fill-color: #174EA6;\n",
              "      --disabled-fill-color: #AAA;\n",
              "      --disabled-bg-color: #DDD;\n",
              "  }\n",
              "\n",
              "  [theme=dark] .colab-df-quickchart {\n",
              "      --bg-color: #3B4455;\n",
              "      --fill-color: #D2E3FC;\n",
              "      --hover-bg-color: #434B5C;\n",
              "      --hover-fill-color: #FFFFFF;\n",
              "      --disabled-bg-color: #3B4455;\n",
              "      --disabled-fill-color: #666;\n",
              "  }\n",
              "\n",
              "  .colab-df-quickchart {\n",
              "    background-color: var(--bg-color);\n",
              "    border: none;\n",
              "    border-radius: 50%;\n",
              "    cursor: pointer;\n",
              "    display: none;\n",
              "    fill: var(--fill-color);\n",
              "    height: 32px;\n",
              "    padding: 0;\n",
              "    width: 32px;\n",
              "  }\n",
              "\n",
              "  .colab-df-quickchart:hover {\n",
              "    background-color: var(--hover-bg-color);\n",
              "    box-shadow: 0 1px 2px rgba(60, 64, 67, 0.3), 0 1px 3px 1px rgba(60, 64, 67, 0.15);\n",
              "    fill: var(--button-hover-fill-color);\n",
              "  }\n",
              "\n",
              "  .colab-df-quickchart-complete:disabled,\n",
              "  .colab-df-quickchart-complete:disabled:hover {\n",
              "    background-color: var(--disabled-bg-color);\n",
              "    fill: var(--disabled-fill-color);\n",
              "    box-shadow: none;\n",
              "  }\n",
              "\n",
              "  .colab-df-spinner {\n",
              "    border: 2px solid var(--fill-color);\n",
              "    border-color: transparent;\n",
              "    border-bottom-color: var(--fill-color);\n",
              "    animation:\n",
              "      spin 1s steps(1) infinite;\n",
              "  }\n",
              "\n",
              "  @keyframes spin {\n",
              "    0% {\n",
              "      border-color: transparent;\n",
              "      border-bottom-color: var(--fill-color);\n",
              "      border-left-color: var(--fill-color);\n",
              "    }\n",
              "    20% {\n",
              "      border-color: transparent;\n",
              "      border-left-color: var(--fill-color);\n",
              "      border-top-color: var(--fill-color);\n",
              "    }\n",
              "    30% {\n",
              "      border-color: transparent;\n",
              "      border-left-color: var(--fill-color);\n",
              "      border-top-color: var(--fill-color);\n",
              "      border-right-color: var(--fill-color);\n",
              "    }\n",
              "    40% {\n",
              "      border-color: transparent;\n",
              "      border-right-color: var(--fill-color);\n",
              "      border-top-color: var(--fill-color);\n",
              "    }\n",
              "    60% {\n",
              "      border-color: transparent;\n",
              "      border-right-color: var(--fill-color);\n",
              "    }\n",
              "    80% {\n",
              "      border-color: transparent;\n",
              "      border-right-color: var(--fill-color);\n",
              "      border-bottom-color: var(--fill-color);\n",
              "    }\n",
              "    90% {\n",
              "      border-color: transparent;\n",
              "      border-bottom-color: var(--fill-color);\n",
              "    }\n",
              "  }\n",
              "</style>\n",
              "\n",
              "  <script>\n",
              "    async function quickchart(key) {\n",
              "      const quickchartButtonEl =\n",
              "        document.querySelector('#' + key + ' button');\n",
              "      quickchartButtonEl.disabled = true;  // To prevent multiple clicks.\n",
              "      quickchartButtonEl.classList.add('colab-df-spinner');\n",
              "      try {\n",
              "        const charts = await google.colab.kernel.invokeFunction(\n",
              "            'suggestCharts', [key], {});\n",
              "      } catch (error) {\n",
              "        console.error('Error during call to suggestCharts:', error);\n",
              "      }\n",
              "      quickchartButtonEl.classList.remove('colab-df-spinner');\n",
              "      quickchartButtonEl.classList.add('colab-df-quickchart-complete');\n",
              "    }\n",
              "    (() => {\n",
              "      let quickchartButtonEl =\n",
              "        document.querySelector('#df-1644329a-d3d5-41ef-855d-1e32834e1e78 button');\n",
              "      quickchartButtonEl.style.display =\n",
              "        google.colab.kernel.accessAllowed ? 'block' : 'none';\n",
              "    })();\n",
              "  </script>\n",
              "</div>\n",
              "    </div>\n",
              "  </div>\n"
            ]
          },
          "metadata": {},
          "execution_count": 7
        }
      ]
    },
    {
      "cell_type": "code",
      "source": [
        "#Cek missing values\n",
        "dfs.isnull()"
      ],
      "metadata": {
        "colab": {
          "base_uri": "https://localhost:8080/",
          "height": 441
        },
        "id": "ggtMamAINw0i",
        "outputId": "0c0fe973-dc28-42a6-8e00-e3b43a52bb86"
      },
      "execution_count": null,
      "outputs": [
        {
          "output_type": "execute_result",
          "data": {
            "text/plain": [
              "      Unnamed: 0  label  judul  judul_tokens_stemmed_normal_lemma  \\\n",
              "0          False  False  False                              False   \n",
              "1          False  False  False                              False   \n",
              "2          False  False  False                              False   \n",
              "3          False  False  False                              False   \n",
              "4          False  False  False                              False   \n",
              "...          ...    ...    ...                                ...   \n",
              "4696       False  False  False                              False   \n",
              "4697       False  False  False                              False   \n",
              "4698       False  False  False                              False   \n",
              "4699       False  False  False                              False   \n",
              "4700       False  False  False                              False   \n",
              "\n",
              "      TF-IDF_dict_judul  narasi  narasi_tokens_stemmed_normal_lemma  \\\n",
              "0                 False   False                               False   \n",
              "1                 False   False                               False   \n",
              "2                 False   False                               False   \n",
              "3                 False   False                               False   \n",
              "4                 False   False                               False   \n",
              "...                 ...     ...                                 ...   \n",
              "4696              False   False                               False   \n",
              "4697              False   False                               False   \n",
              "4698              False   False                               False   \n",
              "4699              False   False                               False   \n",
              "4700              False   False                               False   \n",
              "\n",
              "      TF-IDF_dict_narasi  \n",
              "0                  False  \n",
              "1                  False  \n",
              "2                  False  \n",
              "3                  False  \n",
              "4                  False  \n",
              "...                  ...  \n",
              "4696               False  \n",
              "4697               False  \n",
              "4698               False  \n",
              "4699               False  \n",
              "4700               False  \n",
              "\n",
              "[4701 rows x 8 columns]"
            ],
            "text/html": [
              "\n",
              "  <div id=\"df-d8a41417-616b-4ec9-962e-d75f03179d8a\" class=\"colab-df-container\">\n",
              "    <div>\n",
              "<style scoped>\n",
              "    .dataframe tbody tr th:only-of-type {\n",
              "        vertical-align: middle;\n",
              "    }\n",
              "\n",
              "    .dataframe tbody tr th {\n",
              "        vertical-align: top;\n",
              "    }\n",
              "\n",
              "    .dataframe thead th {\n",
              "        text-align: right;\n",
              "    }\n",
              "</style>\n",
              "<table border=\"1\" class=\"dataframe\">\n",
              "  <thead>\n",
              "    <tr style=\"text-align: right;\">\n",
              "      <th></th>\n",
              "      <th>Unnamed: 0</th>\n",
              "      <th>label</th>\n",
              "      <th>judul</th>\n",
              "      <th>judul_tokens_stemmed_normal_lemma</th>\n",
              "      <th>TF-IDF_dict_judul</th>\n",
              "      <th>narasi</th>\n",
              "      <th>narasi_tokens_stemmed_normal_lemma</th>\n",
              "      <th>TF-IDF_dict_narasi</th>\n",
              "    </tr>\n",
              "  </thead>\n",
              "  <tbody>\n",
              "    <tr>\n",
              "      <th>0</th>\n",
              "      <td>False</td>\n",
              "      <td>False</td>\n",
              "      <td>False</td>\n",
              "      <td>False</td>\n",
              "      <td>False</td>\n",
              "      <td>False</td>\n",
              "      <td>False</td>\n",
              "      <td>False</td>\n",
              "    </tr>\n",
              "    <tr>\n",
              "      <th>1</th>\n",
              "      <td>False</td>\n",
              "      <td>False</td>\n",
              "      <td>False</td>\n",
              "      <td>False</td>\n",
              "      <td>False</td>\n",
              "      <td>False</td>\n",
              "      <td>False</td>\n",
              "      <td>False</td>\n",
              "    </tr>\n",
              "    <tr>\n",
              "      <th>2</th>\n",
              "      <td>False</td>\n",
              "      <td>False</td>\n",
              "      <td>False</td>\n",
              "      <td>False</td>\n",
              "      <td>False</td>\n",
              "      <td>False</td>\n",
              "      <td>False</td>\n",
              "      <td>False</td>\n",
              "    </tr>\n",
              "    <tr>\n",
              "      <th>3</th>\n",
              "      <td>False</td>\n",
              "      <td>False</td>\n",
              "      <td>False</td>\n",
              "      <td>False</td>\n",
              "      <td>False</td>\n",
              "      <td>False</td>\n",
              "      <td>False</td>\n",
              "      <td>False</td>\n",
              "    </tr>\n",
              "    <tr>\n",
              "      <th>4</th>\n",
              "      <td>False</td>\n",
              "      <td>False</td>\n",
              "      <td>False</td>\n",
              "      <td>False</td>\n",
              "      <td>False</td>\n",
              "      <td>False</td>\n",
              "      <td>False</td>\n",
              "      <td>False</td>\n",
              "    </tr>\n",
              "    <tr>\n",
              "      <th>...</th>\n",
              "      <td>...</td>\n",
              "      <td>...</td>\n",
              "      <td>...</td>\n",
              "      <td>...</td>\n",
              "      <td>...</td>\n",
              "      <td>...</td>\n",
              "      <td>...</td>\n",
              "      <td>...</td>\n",
              "    </tr>\n",
              "    <tr>\n",
              "      <th>4696</th>\n",
              "      <td>False</td>\n",
              "      <td>False</td>\n",
              "      <td>False</td>\n",
              "      <td>False</td>\n",
              "      <td>False</td>\n",
              "      <td>False</td>\n",
              "      <td>False</td>\n",
              "      <td>False</td>\n",
              "    </tr>\n",
              "    <tr>\n",
              "      <th>4697</th>\n",
              "      <td>False</td>\n",
              "      <td>False</td>\n",
              "      <td>False</td>\n",
              "      <td>False</td>\n",
              "      <td>False</td>\n",
              "      <td>False</td>\n",
              "      <td>False</td>\n",
              "      <td>False</td>\n",
              "    </tr>\n",
              "    <tr>\n",
              "      <th>4698</th>\n",
              "      <td>False</td>\n",
              "      <td>False</td>\n",
              "      <td>False</td>\n",
              "      <td>False</td>\n",
              "      <td>False</td>\n",
              "      <td>False</td>\n",
              "      <td>False</td>\n",
              "      <td>False</td>\n",
              "    </tr>\n",
              "    <tr>\n",
              "      <th>4699</th>\n",
              "      <td>False</td>\n",
              "      <td>False</td>\n",
              "      <td>False</td>\n",
              "      <td>False</td>\n",
              "      <td>False</td>\n",
              "      <td>False</td>\n",
              "      <td>False</td>\n",
              "      <td>False</td>\n",
              "    </tr>\n",
              "    <tr>\n",
              "      <th>4700</th>\n",
              "      <td>False</td>\n",
              "      <td>False</td>\n",
              "      <td>False</td>\n",
              "      <td>False</td>\n",
              "      <td>False</td>\n",
              "      <td>False</td>\n",
              "      <td>False</td>\n",
              "      <td>False</td>\n",
              "    </tr>\n",
              "  </tbody>\n",
              "</table>\n",
              "<p>4701 rows × 8 columns</p>\n",
              "</div>\n",
              "    <div class=\"colab-df-buttons\">\n",
              "\n",
              "  <div class=\"colab-df-container\">\n",
              "    <button class=\"colab-df-convert\" onclick=\"convertToInteractive('df-d8a41417-616b-4ec9-962e-d75f03179d8a')\"\n",
              "            title=\"Convert this dataframe to an interactive table.\"\n",
              "            style=\"display:none;\">\n",
              "\n",
              "  <svg xmlns=\"http://www.w3.org/2000/svg\" height=\"24px\" viewBox=\"0 -960 960 960\">\n",
              "    <path d=\"M120-120v-720h720v720H120Zm60-500h600v-160H180v160Zm220 220h160v-160H400v160Zm0 220h160v-160H400v160ZM180-400h160v-160H180v160Zm440 0h160v-160H620v160ZM180-180h160v-160H180v160Zm440 0h160v-160H620v160Z\"/>\n",
              "  </svg>\n",
              "    </button>\n",
              "\n",
              "  <style>\n",
              "    .colab-df-container {\n",
              "      display:flex;\n",
              "      gap: 12px;\n",
              "    }\n",
              "\n",
              "    .colab-df-convert {\n",
              "      background-color: #E8F0FE;\n",
              "      border: none;\n",
              "      border-radius: 50%;\n",
              "      cursor: pointer;\n",
              "      display: none;\n",
              "      fill: #1967D2;\n",
              "      height: 32px;\n",
              "      padding: 0 0 0 0;\n",
              "      width: 32px;\n",
              "    }\n",
              "\n",
              "    .colab-df-convert:hover {\n",
              "      background-color: #E2EBFA;\n",
              "      box-shadow: 0px 1px 2px rgba(60, 64, 67, 0.3), 0px 1px 3px 1px rgba(60, 64, 67, 0.15);\n",
              "      fill: #174EA6;\n",
              "    }\n",
              "\n",
              "    .colab-df-buttons div {\n",
              "      margin-bottom: 4px;\n",
              "    }\n",
              "\n",
              "    [theme=dark] .colab-df-convert {\n",
              "      background-color: #3B4455;\n",
              "      fill: #D2E3FC;\n",
              "    }\n",
              "\n",
              "    [theme=dark] .colab-df-convert:hover {\n",
              "      background-color: #434B5C;\n",
              "      box-shadow: 0px 1px 3px 1px rgba(0, 0, 0, 0.15);\n",
              "      filter: drop-shadow(0px 1px 2px rgba(0, 0, 0, 0.3));\n",
              "      fill: #FFFFFF;\n",
              "    }\n",
              "  </style>\n",
              "\n",
              "    <script>\n",
              "      const buttonEl =\n",
              "        document.querySelector('#df-d8a41417-616b-4ec9-962e-d75f03179d8a button.colab-df-convert');\n",
              "      buttonEl.style.display =\n",
              "        google.colab.kernel.accessAllowed ? 'block' : 'none';\n",
              "\n",
              "      async function convertToInteractive(key) {\n",
              "        const element = document.querySelector('#df-d8a41417-616b-4ec9-962e-d75f03179d8a');\n",
              "        const dataTable =\n",
              "          await google.colab.kernel.invokeFunction('convertToInteractive',\n",
              "                                                    [key], {});\n",
              "        if (!dataTable) return;\n",
              "\n",
              "        const docLinkHtml = 'Like what you see? Visit the ' +\n",
              "          '<a target=\"_blank\" href=https://colab.research.google.com/notebooks/data_table.ipynb>data table notebook</a>'\n",
              "          + ' to learn more about interactive tables.';\n",
              "        element.innerHTML = '';\n",
              "        dataTable['output_type'] = 'display_data';\n",
              "        await google.colab.output.renderOutput(dataTable, element);\n",
              "        const docLink = document.createElement('div');\n",
              "        docLink.innerHTML = docLinkHtml;\n",
              "        element.appendChild(docLink);\n",
              "      }\n",
              "    </script>\n",
              "  </div>\n",
              "\n",
              "\n",
              "<div id=\"df-6258e308-19df-4c24-a9de-e4a335a33c82\">\n",
              "  <button class=\"colab-df-quickchart\" onclick=\"quickchart('df-6258e308-19df-4c24-a9de-e4a335a33c82')\"\n",
              "            title=\"Suggest charts\"\n",
              "            style=\"display:none;\">\n",
              "\n",
              "<svg xmlns=\"http://www.w3.org/2000/svg\" height=\"24px\"viewBox=\"0 0 24 24\"\n",
              "     width=\"24px\">\n",
              "    <g>\n",
              "        <path d=\"M19 3H5c-1.1 0-2 .9-2 2v14c0 1.1.9 2 2 2h14c1.1 0 2-.9 2-2V5c0-1.1-.9-2-2-2zM9 17H7v-7h2v7zm4 0h-2V7h2v10zm4 0h-2v-4h2v4z\"/>\n",
              "    </g>\n",
              "</svg>\n",
              "  </button>\n",
              "\n",
              "<style>\n",
              "  .colab-df-quickchart {\n",
              "      --bg-color: #E8F0FE;\n",
              "      --fill-color: #1967D2;\n",
              "      --hover-bg-color: #E2EBFA;\n",
              "      --hover-fill-color: #174EA6;\n",
              "      --disabled-fill-color: #AAA;\n",
              "      --disabled-bg-color: #DDD;\n",
              "  }\n",
              "\n",
              "  [theme=dark] .colab-df-quickchart {\n",
              "      --bg-color: #3B4455;\n",
              "      --fill-color: #D2E3FC;\n",
              "      --hover-bg-color: #434B5C;\n",
              "      --hover-fill-color: #FFFFFF;\n",
              "      --disabled-bg-color: #3B4455;\n",
              "      --disabled-fill-color: #666;\n",
              "  }\n",
              "\n",
              "  .colab-df-quickchart {\n",
              "    background-color: var(--bg-color);\n",
              "    border: none;\n",
              "    border-radius: 50%;\n",
              "    cursor: pointer;\n",
              "    display: none;\n",
              "    fill: var(--fill-color);\n",
              "    height: 32px;\n",
              "    padding: 0;\n",
              "    width: 32px;\n",
              "  }\n",
              "\n",
              "  .colab-df-quickchart:hover {\n",
              "    background-color: var(--hover-bg-color);\n",
              "    box-shadow: 0 1px 2px rgba(60, 64, 67, 0.3), 0 1px 3px 1px rgba(60, 64, 67, 0.15);\n",
              "    fill: var(--button-hover-fill-color);\n",
              "  }\n",
              "\n",
              "  .colab-df-quickchart-complete:disabled,\n",
              "  .colab-df-quickchart-complete:disabled:hover {\n",
              "    background-color: var(--disabled-bg-color);\n",
              "    fill: var(--disabled-fill-color);\n",
              "    box-shadow: none;\n",
              "  }\n",
              "\n",
              "  .colab-df-spinner {\n",
              "    border: 2px solid var(--fill-color);\n",
              "    border-color: transparent;\n",
              "    border-bottom-color: var(--fill-color);\n",
              "    animation:\n",
              "      spin 1s steps(1) infinite;\n",
              "  }\n",
              "\n",
              "  @keyframes spin {\n",
              "    0% {\n",
              "      border-color: transparent;\n",
              "      border-bottom-color: var(--fill-color);\n",
              "      border-left-color: var(--fill-color);\n",
              "    }\n",
              "    20% {\n",
              "      border-color: transparent;\n",
              "      border-left-color: var(--fill-color);\n",
              "      border-top-color: var(--fill-color);\n",
              "    }\n",
              "    30% {\n",
              "      border-color: transparent;\n",
              "      border-left-color: var(--fill-color);\n",
              "      border-top-color: var(--fill-color);\n",
              "      border-right-color: var(--fill-color);\n",
              "    }\n",
              "    40% {\n",
              "      border-color: transparent;\n",
              "      border-right-color: var(--fill-color);\n",
              "      border-top-color: var(--fill-color);\n",
              "    }\n",
              "    60% {\n",
              "      border-color: transparent;\n",
              "      border-right-color: var(--fill-color);\n",
              "    }\n",
              "    80% {\n",
              "      border-color: transparent;\n",
              "      border-right-color: var(--fill-color);\n",
              "      border-bottom-color: var(--fill-color);\n",
              "    }\n",
              "    90% {\n",
              "      border-color: transparent;\n",
              "      border-bottom-color: var(--fill-color);\n",
              "    }\n",
              "  }\n",
              "</style>\n",
              "\n",
              "  <script>\n",
              "    async function quickchart(key) {\n",
              "      const quickchartButtonEl =\n",
              "        document.querySelector('#' + key + ' button');\n",
              "      quickchartButtonEl.disabled = true;  // To prevent multiple clicks.\n",
              "      quickchartButtonEl.classList.add('colab-df-spinner');\n",
              "      try {\n",
              "        const charts = await google.colab.kernel.invokeFunction(\n",
              "            'suggestCharts', [key], {});\n",
              "      } catch (error) {\n",
              "        console.error('Error during call to suggestCharts:', error);\n",
              "      }\n",
              "      quickchartButtonEl.classList.remove('colab-df-spinner');\n",
              "      quickchartButtonEl.classList.add('colab-df-quickchart-complete');\n",
              "    }\n",
              "    (() => {\n",
              "      let quickchartButtonEl =\n",
              "        document.querySelector('#df-6258e308-19df-4c24-a9de-e4a335a33c82 button');\n",
              "      quickchartButtonEl.style.display =\n",
              "        google.colab.kernel.accessAllowed ? 'block' : 'none';\n",
              "    })();\n",
              "  </script>\n",
              "</div>\n",
              "    </div>\n",
              "  </div>\n"
            ]
          },
          "metadata": {},
          "execution_count": 8
        }
      ]
    },
    {
      "cell_type": "code",
      "source": [
        "#Cek missing values\n",
        "dfs.isna"
      ],
      "metadata": {
        "colab": {
          "base_uri": "https://localhost:8080/"
        },
        "id": "ZcVrZBdcPWHd",
        "outputId": "f98a2fc0-5e8a-49ed-8e7d-75922f061417"
      },
      "execution_count": null,
      "outputs": [
        {
          "output_type": "execute_result",
          "data": {
            "text/plain": [
              "<bound method DataFrame.isna of       Unnamed: 0  label                                              judul  \\\n",
              "0              0      1  pemakaian masker menyebabkan penyakit legionna...   \n",
              "1              1      1  instruksi gubernur jateng tentang penilangan b...   \n",
              "2              2      1  foto jim rohn jokowi adalah presiden terbaik d...   \n",
              "3              3      1  ini bukan politik tapi kenyataan pak jokowi be...   \n",
              "4              4      1       foto kadrun kalo lihat foto ini panas dingin   \n",
              "...          ...    ...                                                ...   \n",
              "4696        4696      0                                banserpdip berdamai   \n",
              "4697        4697      1  erdogan tak mau duduk di kursi tamu yang lebih...   \n",
              "4698        4698      1  imigran china sengaja membawa virus tujuannya ...   \n",
              "4699        4699      1               bukti kecurangan jokowi bagi sembako   \n",
              "4700        4700      1  anak kecil bersembunyi di kolong meja saat ber...   \n",
              "\n",
              "                      judul_tokens_stemmed_normal_lemma  \\\n",
              "0     ['pakai', 'masker', 'sebab', 'sakit', 'legionn...   \n",
              "1     ['instruksi', 'gubernur', 'jateng', 'tilang', ...   \n",
              "2     ['foto', 'jim', 'rohn', 'jokowi', 'presiden', ...   \n",
              "3     ['politik', 'nyata', 'jokowi', 'hasil', 'pulan...   \n",
              "4     ['foto', 'kadrun', 'lihat', 'foto', 'panas', '...   \n",
              "...                                                 ...   \n",
              "4696                            ['banserpdip', 'damai']   \n",
              "4697  ['erdogan', 'duduk', 'kursi', 'tamu', 'kursi',...   \n",
              "4698  ['imigran', 'china', 'sengaja', 'bawa', 'virus...   \n",
              "4699           ['bukti', 'curang', 'jokowi', 'sembako']   \n",
              "4700  ['anak', 'sembunyi', 'kolong', 'meja', 'temu',...   \n",
              "\n",
              "                                      TF-IDF_dict_judul  \\\n",
              "0     {'pakai': 0.8624791609265196, 'masker': 1.0640...   \n",
              "1     {'instruksi': 0.6223720562354573, 'gubernur': ...   \n",
              "2     {'foto': 0.256665257269125, 'jim': 0.735691824...   \n",
              "3     {'politik': 0.63860892554688, 'nyata': 0.48273...   \n",
              "4     {'foto': 0.8555508575637498, 'kadrun': 1.04305...   \n",
              "...                                                 ...   \n",
              "4696  {'banserpdip': 3.8811916752320927, 'damai': 3....   \n",
              "4697  {'erdogan': 0.8529462687480185, 'duduk': 0.852...   \n",
              "4698  {'imigran': 0.8557615773237538, 'china': 0.433...   \n",
              "4699  {'bukti': 1.3912896932819914, 'curang': 1.2993...   \n",
              "4700  {'anak': 0.45955087973907516, 'sembunyi': 0.79...   \n",
              "\n",
              "                                                 narasi  \\\n",
              "0      caller to  radio talk show recently shared th...   \n",
              "1     ythseluruh anggota grup sesuai instruksi guber...   \n",
              "2     jokowi adalah presiden terbaik dlm sejarah ban...   \n",
              "3     maaf mas dan mbak ini bukan politik tapi kenya...   \n",
              "4               kadrun kalo lihat foto ini panas dingin   \n",
              "...                                                 ...   \n",
              "4696  ratusan massa dari barisan serba guna banser d...   \n",
              "4697  erdogan datang ke vatikan menjumpai baba pop v...   \n",
              "4698  imigran cn sengaja membawa virus dan mereka te...   \n",
              "4699  beredar dimana mana jadi viral video ini apa t...   \n",
              "4700  naluri anak kecil itu tajam boooss saat didata...   \n",
              "\n",
              "                     narasi_tokens_stemmed_normal_lemma  \\\n",
              "0     ['caller', 'tapi', 'radio', 'talk', 'show', 'r...   \n",
              "1     ['ythseluruh', 'anggota', 'grup', 'sesuai', 'i...   \n",
              "2     ['jokowi', 'presiden', 'baik', 'dalam', 'sejar...   \n",
              "3     ['maaf', 'mas', 'mbak', 'politik', 'nyata', 'j...   \n",
              "4        ['kadrun', 'lihat', 'foto', 'panas', 'dingin']   \n",
              "...                                                 ...   \n",
              "4696  ['ratus', 'massa', 'baris', 'serba', 'banser',...   \n",
              "4697  ['erdogan', 'vatikan', 'jumpa', 'baba', 'pop',...   \n",
              "4698  ['imigran', 'cn', 'sengaja', 'bawa', 'virus', ...   \n",
              "4699  ['edar', 'mana', 'viral', 'video', 'tindak', '...   \n",
              "4700  ['naluri', 'anak', 'tajam', 'boooss', 'datang'...   \n",
              "\n",
              "                                     TF-IDF_dict_narasi  \n",
              "0     {'caller': 0.09702979188080232, 'tapi': 0.1467...  \n",
              "1     {'ythseluruh': 0.49046121615706806, 'anggota':...  \n",
              "2     {'jokowi': 0.2359594187363993, 'presiden': 0.2...  \n",
              "3     {'maaf': 0.06035873627648455, 'mas': 0.0713172...  \n",
              "4     {'kadrun': 1.149496065984384, 'lihat': 0.79337...  \n",
              "...                                                 ...  \n",
              "4696  {'ratus': 0.3831777198332725, 'massa': 0.39364...  \n",
              "4697  {'erdogan': 0.5859948036219128, 'vatikan': 0.3...  \n",
              "4698  {'imigran': 0.3331885530898038, 'cn': 0.735691...  \n",
              "4699  {'edar': 0.34719239093157944, 'mana': 0.443017...  \n",
              "4700  {'naluri': 0.7762383350464186, 'anak': 0.31179...  \n",
              "\n",
              "[4701 rows x 8 columns]>"
            ]
          },
          "metadata": {},
          "execution_count": 9
        }
      ]
    },
    {
      "cell_type": "markdown",
      "source": [
        "Dapat dilihat tidak ada missing values pada beberapa kolom pada data."
      ],
      "metadata": {
        "id": "Kon_fx3NpeFV"
      }
    },
    {
      "cell_type": "code",
      "source": [
        "#Akan didrop kolom yang mengandung vektor untuk keperluan visualisasi\n",
        "dfy=dfs.drop(columns=[\"Unnamed: 0\",\"label\",\"TF-IDF_dict_narasi\",\"TF-IDF_dict_judul\",\"judul\",\"narasi\"],axis=1)\n",
        "dfy"
      ],
      "metadata": {
        "colab": {
          "base_uri": "https://localhost:8080/",
          "height": 423
        },
        "id": "8uk6FgXDHIet",
        "outputId": "5787eaab-6ecc-4684-d5a1-c195d3ab0fec"
      },
      "execution_count": null,
      "outputs": [
        {
          "output_type": "execute_result",
          "data": {
            "text/plain": [
              "                      judul_tokens_stemmed_normal_lemma  \\\n",
              "0     ['pakai', 'masker', 'sebab', 'sakit', 'legionn...   \n",
              "1     ['instruksi', 'gubernur', 'jateng', 'tilang', ...   \n",
              "2     ['foto', 'jim', 'rohn', 'jokowi', 'presiden', ...   \n",
              "3     ['politik', 'nyata', 'jokowi', 'hasil', 'pulan...   \n",
              "4     ['foto', 'kadrun', 'lihat', 'foto', 'panas', '...   \n",
              "...                                                 ...   \n",
              "4696                            ['banserpdip', 'damai']   \n",
              "4697  ['erdogan', 'duduk', 'kursi', 'tamu', 'kursi',...   \n",
              "4698  ['imigran', 'china', 'sengaja', 'bawa', 'virus...   \n",
              "4699           ['bukti', 'curang', 'jokowi', 'sembako']   \n",
              "4700  ['anak', 'sembunyi', 'kolong', 'meja', 'temu',...   \n",
              "\n",
              "                     narasi_tokens_stemmed_normal_lemma  \n",
              "0     ['caller', 'tapi', 'radio', 'talk', 'show', 'r...  \n",
              "1     ['ythseluruh', 'anggota', 'grup', 'sesuai', 'i...  \n",
              "2     ['jokowi', 'presiden', 'baik', 'dalam', 'sejar...  \n",
              "3     ['maaf', 'mas', 'mbak', 'politik', 'nyata', 'j...  \n",
              "4        ['kadrun', 'lihat', 'foto', 'panas', 'dingin']  \n",
              "...                                                 ...  \n",
              "4696  ['ratus', 'massa', 'baris', 'serba', 'banser',...  \n",
              "4697  ['erdogan', 'vatikan', 'jumpa', 'baba', 'pop',...  \n",
              "4698  ['imigran', 'cn', 'sengaja', 'bawa', 'virus', ...  \n",
              "4699  ['edar', 'mana', 'viral', 'video', 'tindak', '...  \n",
              "4700  ['naluri', 'anak', 'tajam', 'boooss', 'datang'...  \n",
              "\n",
              "[4701 rows x 2 columns]"
            ],
            "text/html": [
              "\n",
              "  <div id=\"df-c96fc622-2f11-47f0-a831-45fb8d948ecb\" class=\"colab-df-container\">\n",
              "    <div>\n",
              "<style scoped>\n",
              "    .dataframe tbody tr th:only-of-type {\n",
              "        vertical-align: middle;\n",
              "    }\n",
              "\n",
              "    .dataframe tbody tr th {\n",
              "        vertical-align: top;\n",
              "    }\n",
              "\n",
              "    .dataframe thead th {\n",
              "        text-align: right;\n",
              "    }\n",
              "</style>\n",
              "<table border=\"1\" class=\"dataframe\">\n",
              "  <thead>\n",
              "    <tr style=\"text-align: right;\">\n",
              "      <th></th>\n",
              "      <th>judul_tokens_stemmed_normal_lemma</th>\n",
              "      <th>narasi_tokens_stemmed_normal_lemma</th>\n",
              "    </tr>\n",
              "  </thead>\n",
              "  <tbody>\n",
              "    <tr>\n",
              "      <th>0</th>\n",
              "      <td>['pakai', 'masker', 'sebab', 'sakit', 'legionn...</td>\n",
              "      <td>['caller', 'tapi', 'radio', 'talk', 'show', 'r...</td>\n",
              "    </tr>\n",
              "    <tr>\n",
              "      <th>1</th>\n",
              "      <td>['instruksi', 'gubernur', 'jateng', 'tilang', ...</td>\n",
              "      <td>['ythseluruh', 'anggota', 'grup', 'sesuai', 'i...</td>\n",
              "    </tr>\n",
              "    <tr>\n",
              "      <th>2</th>\n",
              "      <td>['foto', 'jim', 'rohn', 'jokowi', 'presiden', ...</td>\n",
              "      <td>['jokowi', 'presiden', 'baik', 'dalam', 'sejar...</td>\n",
              "    </tr>\n",
              "    <tr>\n",
              "      <th>3</th>\n",
              "      <td>['politik', 'nyata', 'jokowi', 'hasil', 'pulan...</td>\n",
              "      <td>['maaf', 'mas', 'mbak', 'politik', 'nyata', 'j...</td>\n",
              "    </tr>\n",
              "    <tr>\n",
              "      <th>4</th>\n",
              "      <td>['foto', 'kadrun', 'lihat', 'foto', 'panas', '...</td>\n",
              "      <td>['kadrun', 'lihat', 'foto', 'panas', 'dingin']</td>\n",
              "    </tr>\n",
              "    <tr>\n",
              "      <th>...</th>\n",
              "      <td>...</td>\n",
              "      <td>...</td>\n",
              "    </tr>\n",
              "    <tr>\n",
              "      <th>4696</th>\n",
              "      <td>['banserpdip', 'damai']</td>\n",
              "      <td>['ratus', 'massa', 'baris', 'serba', 'banser',...</td>\n",
              "    </tr>\n",
              "    <tr>\n",
              "      <th>4697</th>\n",
              "      <td>['erdogan', 'duduk', 'kursi', 'tamu', 'kursi',...</td>\n",
              "      <td>['erdogan', 'vatikan', 'jumpa', 'baba', 'pop',...</td>\n",
              "    </tr>\n",
              "    <tr>\n",
              "      <th>4698</th>\n",
              "      <td>['imigran', 'china', 'sengaja', 'bawa', 'virus...</td>\n",
              "      <td>['imigran', 'cn', 'sengaja', 'bawa', 'virus', ...</td>\n",
              "    </tr>\n",
              "    <tr>\n",
              "      <th>4699</th>\n",
              "      <td>['bukti', 'curang', 'jokowi', 'sembako']</td>\n",
              "      <td>['edar', 'mana', 'viral', 'video', 'tindak', '...</td>\n",
              "    </tr>\n",
              "    <tr>\n",
              "      <th>4700</th>\n",
              "      <td>['anak', 'sembunyi', 'kolong', 'meja', 'temu',...</td>\n",
              "      <td>['naluri', 'anak', 'tajam', 'boooss', 'datang'...</td>\n",
              "    </tr>\n",
              "  </tbody>\n",
              "</table>\n",
              "<p>4701 rows × 2 columns</p>\n",
              "</div>\n",
              "    <div class=\"colab-df-buttons\">\n",
              "\n",
              "  <div class=\"colab-df-container\">\n",
              "    <button class=\"colab-df-convert\" onclick=\"convertToInteractive('df-c96fc622-2f11-47f0-a831-45fb8d948ecb')\"\n",
              "            title=\"Convert this dataframe to an interactive table.\"\n",
              "            style=\"display:none;\">\n",
              "\n",
              "  <svg xmlns=\"http://www.w3.org/2000/svg\" height=\"24px\" viewBox=\"0 -960 960 960\">\n",
              "    <path d=\"M120-120v-720h720v720H120Zm60-500h600v-160H180v160Zm220 220h160v-160H400v160Zm0 220h160v-160H400v160ZM180-400h160v-160H180v160Zm440 0h160v-160H620v160ZM180-180h160v-160H180v160Zm440 0h160v-160H620v160Z\"/>\n",
              "  </svg>\n",
              "    </button>\n",
              "\n",
              "  <style>\n",
              "    .colab-df-container {\n",
              "      display:flex;\n",
              "      gap: 12px;\n",
              "    }\n",
              "\n",
              "    .colab-df-convert {\n",
              "      background-color: #E8F0FE;\n",
              "      border: none;\n",
              "      border-radius: 50%;\n",
              "      cursor: pointer;\n",
              "      display: none;\n",
              "      fill: #1967D2;\n",
              "      height: 32px;\n",
              "      padding: 0 0 0 0;\n",
              "      width: 32px;\n",
              "    }\n",
              "\n",
              "    .colab-df-convert:hover {\n",
              "      background-color: #E2EBFA;\n",
              "      box-shadow: 0px 1px 2px rgba(60, 64, 67, 0.3), 0px 1px 3px 1px rgba(60, 64, 67, 0.15);\n",
              "      fill: #174EA6;\n",
              "    }\n",
              "\n",
              "    .colab-df-buttons div {\n",
              "      margin-bottom: 4px;\n",
              "    }\n",
              "\n",
              "    [theme=dark] .colab-df-convert {\n",
              "      background-color: #3B4455;\n",
              "      fill: #D2E3FC;\n",
              "    }\n",
              "\n",
              "    [theme=dark] .colab-df-convert:hover {\n",
              "      background-color: #434B5C;\n",
              "      box-shadow: 0px 1px 3px 1px rgba(0, 0, 0, 0.15);\n",
              "      filter: drop-shadow(0px 1px 2px rgba(0, 0, 0, 0.3));\n",
              "      fill: #FFFFFF;\n",
              "    }\n",
              "  </style>\n",
              "\n",
              "    <script>\n",
              "      const buttonEl =\n",
              "        document.querySelector('#df-c96fc622-2f11-47f0-a831-45fb8d948ecb button.colab-df-convert');\n",
              "      buttonEl.style.display =\n",
              "        google.colab.kernel.accessAllowed ? 'block' : 'none';\n",
              "\n",
              "      async function convertToInteractive(key) {\n",
              "        const element = document.querySelector('#df-c96fc622-2f11-47f0-a831-45fb8d948ecb');\n",
              "        const dataTable =\n",
              "          await google.colab.kernel.invokeFunction('convertToInteractive',\n",
              "                                                    [key], {});\n",
              "        if (!dataTable) return;\n",
              "\n",
              "        const docLinkHtml = 'Like what you see? Visit the ' +\n",
              "          '<a target=\"_blank\" href=https://colab.research.google.com/notebooks/data_table.ipynb>data table notebook</a>'\n",
              "          + ' to learn more about interactive tables.';\n",
              "        element.innerHTML = '';\n",
              "        dataTable['output_type'] = 'display_data';\n",
              "        await google.colab.output.renderOutput(dataTable, element);\n",
              "        const docLink = document.createElement('div');\n",
              "        docLink.innerHTML = docLinkHtml;\n",
              "        element.appendChild(docLink);\n",
              "      }\n",
              "    </script>\n",
              "  </div>\n",
              "\n",
              "\n",
              "<div id=\"df-a1be6666-cf04-4146-9da0-914b566eb842\">\n",
              "  <button class=\"colab-df-quickchart\" onclick=\"quickchart('df-a1be6666-cf04-4146-9da0-914b566eb842')\"\n",
              "            title=\"Suggest charts\"\n",
              "            style=\"display:none;\">\n",
              "\n",
              "<svg xmlns=\"http://www.w3.org/2000/svg\" height=\"24px\"viewBox=\"0 0 24 24\"\n",
              "     width=\"24px\">\n",
              "    <g>\n",
              "        <path d=\"M19 3H5c-1.1 0-2 .9-2 2v14c0 1.1.9 2 2 2h14c1.1 0 2-.9 2-2V5c0-1.1-.9-2-2-2zM9 17H7v-7h2v7zm4 0h-2V7h2v10zm4 0h-2v-4h2v4z\"/>\n",
              "    </g>\n",
              "</svg>\n",
              "  </button>\n",
              "\n",
              "<style>\n",
              "  .colab-df-quickchart {\n",
              "      --bg-color: #E8F0FE;\n",
              "      --fill-color: #1967D2;\n",
              "      --hover-bg-color: #E2EBFA;\n",
              "      --hover-fill-color: #174EA6;\n",
              "      --disabled-fill-color: #AAA;\n",
              "      --disabled-bg-color: #DDD;\n",
              "  }\n",
              "\n",
              "  [theme=dark] .colab-df-quickchart {\n",
              "      --bg-color: #3B4455;\n",
              "      --fill-color: #D2E3FC;\n",
              "      --hover-bg-color: #434B5C;\n",
              "      --hover-fill-color: #FFFFFF;\n",
              "      --disabled-bg-color: #3B4455;\n",
              "      --disabled-fill-color: #666;\n",
              "  }\n",
              "\n",
              "  .colab-df-quickchart {\n",
              "    background-color: var(--bg-color);\n",
              "    border: none;\n",
              "    border-radius: 50%;\n",
              "    cursor: pointer;\n",
              "    display: none;\n",
              "    fill: var(--fill-color);\n",
              "    height: 32px;\n",
              "    padding: 0;\n",
              "    width: 32px;\n",
              "  }\n",
              "\n",
              "  .colab-df-quickchart:hover {\n",
              "    background-color: var(--hover-bg-color);\n",
              "    box-shadow: 0 1px 2px rgba(60, 64, 67, 0.3), 0 1px 3px 1px rgba(60, 64, 67, 0.15);\n",
              "    fill: var(--button-hover-fill-color);\n",
              "  }\n",
              "\n",
              "  .colab-df-quickchart-complete:disabled,\n",
              "  .colab-df-quickchart-complete:disabled:hover {\n",
              "    background-color: var(--disabled-bg-color);\n",
              "    fill: var(--disabled-fill-color);\n",
              "    box-shadow: none;\n",
              "  }\n",
              "\n",
              "  .colab-df-spinner {\n",
              "    border: 2px solid var(--fill-color);\n",
              "    border-color: transparent;\n",
              "    border-bottom-color: var(--fill-color);\n",
              "    animation:\n",
              "      spin 1s steps(1) infinite;\n",
              "  }\n",
              "\n",
              "  @keyframes spin {\n",
              "    0% {\n",
              "      border-color: transparent;\n",
              "      border-bottom-color: var(--fill-color);\n",
              "      border-left-color: var(--fill-color);\n",
              "    }\n",
              "    20% {\n",
              "      border-color: transparent;\n",
              "      border-left-color: var(--fill-color);\n",
              "      border-top-color: var(--fill-color);\n",
              "    }\n",
              "    30% {\n",
              "      border-color: transparent;\n",
              "      border-left-color: var(--fill-color);\n",
              "      border-top-color: var(--fill-color);\n",
              "      border-right-color: var(--fill-color);\n",
              "    }\n",
              "    40% {\n",
              "      border-color: transparent;\n",
              "      border-right-color: var(--fill-color);\n",
              "      border-top-color: var(--fill-color);\n",
              "    }\n",
              "    60% {\n",
              "      border-color: transparent;\n",
              "      border-right-color: var(--fill-color);\n",
              "    }\n",
              "    80% {\n",
              "      border-color: transparent;\n",
              "      border-right-color: var(--fill-color);\n",
              "      border-bottom-color: var(--fill-color);\n",
              "    }\n",
              "    90% {\n",
              "      border-color: transparent;\n",
              "      border-bottom-color: var(--fill-color);\n",
              "    }\n",
              "  }\n",
              "</style>\n",
              "\n",
              "  <script>\n",
              "    async function quickchart(key) {\n",
              "      const quickchartButtonEl =\n",
              "        document.querySelector('#' + key + ' button');\n",
              "      quickchartButtonEl.disabled = true;  // To prevent multiple clicks.\n",
              "      quickchartButtonEl.classList.add('colab-df-spinner');\n",
              "      try {\n",
              "        const charts = await google.colab.kernel.invokeFunction(\n",
              "            'suggestCharts', [key], {});\n",
              "      } catch (error) {\n",
              "        console.error('Error during call to suggestCharts:', error);\n",
              "      }\n",
              "      quickchartButtonEl.classList.remove('colab-df-spinner');\n",
              "      quickchartButtonEl.classList.add('colab-df-quickchart-complete');\n",
              "    }\n",
              "    (() => {\n",
              "      let quickchartButtonEl =\n",
              "        document.querySelector('#df-a1be6666-cf04-4146-9da0-914b566eb842 button');\n",
              "      quickchartButtonEl.style.display =\n",
              "        google.colab.kernel.accessAllowed ? 'block' : 'none';\n",
              "    })();\n",
              "  </script>\n",
              "</div>\n",
              "    </div>\n",
              "  </div>\n"
            ]
          },
          "metadata": {},
          "execution_count": 17
        }
      ]
    },
    {
      "cell_type": "code",
      "source": [
        "#Data akan disimpan dalam bentuk txt untuk kebutuhan visualisasi\n",
        "dfy.to_csv(\"newbersih.txt\", index=False, encoding='utf8', header=False)"
      ],
      "metadata": {
        "id": "sCOSeMk7NHdR"
      },
      "execution_count": null,
      "outputs": []
    },
    {
      "cell_type": "code",
      "source": [
        "#Visualisasi Word Cloud dengan Voyant untuk semua keyword tanpa peduli label 1/0\n",
        "from IPython.display import Image, display\n",
        "import requests\n",
        "\n",
        "imgasli = \"https://raw.githubusercontent.com/ainagracee/VisualisasiKlasifikasi/main/visualisasi%20asli.png\"\n",
        "judulteks = \"Visualisasi Voyant Word Cloud Tanpa Label Hoax 1/0\"\n",
        "print(judulteks)\n",
        "display(Image(requests.get(imgasli).content))"
      ],
      "metadata": {
        "colab": {
          "base_uri": "https://localhost:8080/",
          "height": 510
        },
        "id": "MSd273ZaRRsA",
        "outputId": "9110ea52-cc7a-420b-de87-38d5c8b59d79"
      },
      "execution_count": null,
      "outputs": [
        {
          "output_type": "stream",
          "name": "stdout",
          "text": [
            "Visualisasi Voyant Word Cloud Tanpa Label Hoax 1/0\n"
          ]
        },
        {
          "output_type": "display_data",
          "data": {
            "image/png": "[encoded data removed]",
            "text/plain": [
              "<IPython.core.display.Image object>"
            ]
          },
          "metadata": {}
        }
      ]
    },
    {
      "cell_type": "markdown",
      "source": [
        "Dapat terlihat bahwa kata yang paling banyak muncul adalah yang paling terbesar dalam gambar, yaitu Indonesia, Jokowi, Orang, Foto, Video, dan selebihnya dapat dilihat pada visualisasi di atas. Artinya, dari sumber data Hoax yang kita ambil melalui link https://www.mafindo.or.id/ adalah pemberitaan terbanyak atau tersering (tren) adalah kata-kata yang muncul pada visualisasi di atas."
      ],
      "metadata": {
        "id": "lXSFk4jgPDVe"
      }
    },
    {
      "cell_type": "code",
      "source": [
        "#Akan didrop kolom yang mengandung vektor untuk keperluan visualisasi\n",
        "dfz=dfs.drop(columns=[\"Unnamed: 0\",\"TF-IDF_dict_narasi\",\"TF-IDF_dict_judul\",\"judul\",\"narasi\"],axis=1)\n",
        "dfz"
      ],
      "metadata": {
        "colab": {
          "base_uri": "https://localhost:8080/",
          "height": 423
        },
        "id": "IgZrS5-bE94a",
        "outputId": "3ae77181-d651-4b71-a0d6-af173a4ef61d"
      },
      "execution_count": null,
      "outputs": [
        {
          "output_type": "execute_result",
          "data": {
            "text/plain": [
              "      label                  judul_tokens_stemmed_normal_lemma  \\\n",
              "0         1  ['pakai', 'masker', 'sebab', 'sakit', 'legionn...   \n",
              "1         1  ['instruksi', 'gubernur', 'jateng', 'tilang', ...   \n",
              "2         1  ['foto', 'jim', 'rohn', 'jokowi', 'presiden', ...   \n",
              "3         1  ['politik', 'nyata', 'jokowi', 'hasil', 'pulan...   \n",
              "4         1  ['foto', 'kadrun', 'lihat', 'foto', 'panas', '...   \n",
              "...     ...                                                ...   \n",
              "4695      1  ['tulis', 'partai', 'komunis', 'indonesia', 'g...   \n",
              "4697      1  ['erdogan', 'duduk', 'kursi', 'tamu', 'kursi',...   \n",
              "4698      1  ['imigran', 'china', 'sengaja', 'bawa', 'virus...   \n",
              "4699      1           ['bukti', 'curang', 'jokowi', 'sembako']   \n",
              "4700      1  ['anak', 'sembunyi', 'kolong', 'meja', 'temu',...   \n",
              "\n",
              "                     narasi_tokens_stemmed_normal_lemma  \n",
              "0     ['caller', 'tapi', 'radio', 'talk', 'show', 'r...  \n",
              "1     ['ythseluruh', 'anggota', 'grup', 'sesuai', 'i...  \n",
              "2     ['jokowi', 'presiden', 'baik', 'dalam', 'sejar...  \n",
              "3     ['maaf', 'mas', 'mbak', 'politik', 'nyata', 'j...  \n",
              "4        ['kadrun', 'lihat', 'foto', 'panas', 'dingin']  \n",
              "...                                                 ...  \n",
              "4695        ['anggap', 'indonesia', 'pimpin', 'jokowi']  \n",
              "4697  ['erdogan', 'vatikan', 'jumpa', 'baba', 'pop',...  \n",
              "4698  ['imigran', 'cn', 'sengaja', 'bawa', 'virus', ...  \n",
              "4699  ['edar', 'mana', 'viral', 'video', 'tindak', '...  \n",
              "4700  ['naluri', 'anak', 'tajam', 'boooss', 'datang'...  \n",
              "\n",
              "[3850 rows x 3 columns]"
            ],
            "text/html": [
              "\n",
              "  <div id=\"df-ead15a04-409b-47d0-9785-98b9b8f84d4f\" class=\"colab-df-container\">\n",
              "    <div>\n",
              "<style scoped>\n",
              "    .dataframe tbody tr th:only-of-type {\n",
              "        vertical-align: middle;\n",
              "    }\n",
              "\n",
              "    .dataframe tbody tr th {\n",
              "        vertical-align: top;\n",
              "    }\n",
              "\n",
              "    .dataframe thead th {\n",
              "        text-align: right;\n",
              "    }\n",
              "</style>\n",
              "<table border=\"1\" class=\"dataframe\">\n",
              "  <thead>\n",
              "    <tr style=\"text-align: right;\">\n",
              "      <th></th>\n",
              "      <th>label</th>\n",
              "      <th>judul_tokens_stemmed_normal_lemma</th>\n",
              "      <th>narasi_tokens_stemmed_normal_lemma</th>\n",
              "    </tr>\n",
              "  </thead>\n",
              "  <tbody>\n",
              "    <tr>\n",
              "      <th>0</th>\n",
              "      <td>1</td>\n",
              "      <td>['pakai', 'masker', 'sebab', 'sakit', 'legionn...</td>\n",
              "      <td>['caller', 'tapi', 'radio', 'talk', 'show', 'r...</td>\n",
              "    </tr>\n",
              "    <tr>\n",
              "      <th>1</th>\n",
              "      <td>1</td>\n",
              "      <td>['instruksi', 'gubernur', 'jateng', 'tilang', ...</td>\n",
              "      <td>['ythseluruh', 'anggota', 'grup', 'sesuai', 'i...</td>\n",
              "    </tr>\n",
              "    <tr>\n",
              "      <th>2</th>\n",
              "      <td>1</td>\n",
              "      <td>['foto', 'jim', 'rohn', 'jokowi', 'presiden', ...</td>\n",
              "      <td>['jokowi', 'presiden', 'baik', 'dalam', 'sejar...</td>\n",
              "    </tr>\n",
              "    <tr>\n",
              "      <th>3</th>\n",
              "      <td>1</td>\n",
              "      <td>['politik', 'nyata', 'jokowi', 'hasil', 'pulan...</td>\n",
              "      <td>['maaf', 'mas', 'mbak', 'politik', 'nyata', 'j...</td>\n",
              "    </tr>\n",
              "    <tr>\n",
              "      <th>4</th>\n",
              "      <td>1</td>\n",
              "      <td>['foto', 'kadrun', 'lihat', 'foto', 'panas', '...</td>\n",
              "      <td>['kadrun', 'lihat', 'foto', 'panas', 'dingin']</td>\n",
              "    </tr>\n",
              "    <tr>\n",
              "      <th>...</th>\n",
              "      <td>...</td>\n",
              "      <td>...</td>\n",
              "      <td>...</td>\n",
              "    </tr>\n",
              "    <tr>\n",
              "      <th>4695</th>\n",
              "      <td>1</td>\n",
              "      <td>['tulis', 'partai', 'komunis', 'indonesia', 'g...</td>\n",
              "      <td>['anggap', 'indonesia', 'pimpin', 'jokowi']</td>\n",
              "    </tr>\n",
              "    <tr>\n",
              "      <th>4697</th>\n",
              "      <td>1</td>\n",
              "      <td>['erdogan', 'duduk', 'kursi', 'tamu', 'kursi',...</td>\n",
              "      <td>['erdogan', 'vatikan', 'jumpa', 'baba', 'pop',...</td>\n",
              "    </tr>\n",
              "    <tr>\n",
              "      <th>4698</th>\n",
              "      <td>1</td>\n",
              "      <td>['imigran', 'china', 'sengaja', 'bawa', 'virus...</td>\n",
              "      <td>['imigran', 'cn', 'sengaja', 'bawa', 'virus', ...</td>\n",
              "    </tr>\n",
              "    <tr>\n",
              "      <th>4699</th>\n",
              "      <td>1</td>\n",
              "      <td>['bukti', 'curang', 'jokowi', 'sembako']</td>\n",
              "      <td>['edar', 'mana', 'viral', 'video', 'tindak', '...</td>\n",
              "    </tr>\n",
              "    <tr>\n",
              "      <th>4700</th>\n",
              "      <td>1</td>\n",
              "      <td>['anak', 'sembunyi', 'kolong', 'meja', 'temu',...</td>\n",
              "      <td>['naluri', 'anak', 'tajam', 'boooss', 'datang'...</td>\n",
              "    </tr>\n",
              "  </tbody>\n",
              "</table>\n",
              "<p>3850 rows × 3 columns</p>\n",
              "</div>\n",
              "    <div class=\"colab-df-buttons\">\n",
              "\n",
              "  <div class=\"colab-df-container\">\n",
              "    <button class=\"colab-df-convert\" onclick=\"convertToInteractive('df-ead15a04-409b-47d0-9785-98b9b8f84d4f')\"\n",
              "            title=\"Convert this dataframe to an interactive table.\"\n",
              "            style=\"display:none;\">\n",
              "\n",
              "  <svg xmlns=\"http://www.w3.org/2000/svg\" height=\"24px\" viewBox=\"0 -960 960 960\">\n",
              "    <path d=\"M120-120v-720h720v720H120Zm60-500h600v-160H180v160Zm220 220h160v-160H400v160Zm0 220h160v-160H400v160ZM180-400h160v-160H180v160Zm440 0h160v-160H620v160ZM180-180h160v-160H180v160Zm440 0h160v-160H620v160Z\"/>\n",
              "  </svg>\n",
              "    </button>\n",
              "\n",
              "  <style>\n",
              "    .colab-df-container {\n",
              "      display:flex;\n",
              "      gap: 12px;\n",
              "    }\n",
              "\n",
              "    .colab-df-convert {\n",
              "      background-color: #E8F0FE;\n",
              "      border: none;\n",
              "      border-radius: 50%;\n",
              "      cursor: pointer;\n",
              "      display: none;\n",
              "      fill: #1967D2;\n",
              "      height: 32px;\n",
              "      padding: 0 0 0 0;\n",
              "      width: 32px;\n",
              "    }\n",
              "\n",
              "    .colab-df-convert:hover {\n",
              "      background-color: #E2EBFA;\n",
              "      box-shadow: 0px 1px 2px rgba(60, 64, 67, 0.3), 0px 1px 3px 1px rgba(60, 64, 67, 0.15);\n",
              "      fill: #174EA6;\n",
              "    }\n",
              "\n",
              "    .colab-df-buttons div {\n",
              "      margin-bottom: 4px;\n",
              "    }\n",
              "\n",
              "    [theme=dark] .colab-df-convert {\n",
              "      background-color: #3B4455;\n",
              "      fill: #D2E3FC;\n",
              "    }\n",
              "\n",
              "    [theme=dark] .colab-df-convert:hover {\n",
              "      background-color: #434B5C;\n",
              "      box-shadow: 0px 1px 3px 1px rgba(0, 0, 0, 0.15);\n",
              "      filter: drop-shadow(0px 1px 2px rgba(0, 0, 0, 0.3));\n",
              "      fill: #FFFFFF;\n",
              "    }\n",
              "  </style>\n",
              "\n",
              "    <script>\n",
              "      const buttonEl =\n",
              "        document.querySelector('#df-ead15a04-409b-47d0-9785-98b9b8f84d4f button.colab-df-convert');\n",
              "      buttonEl.style.display =\n",
              "        google.colab.kernel.accessAllowed ? 'block' : 'none';\n",
              "\n",
              "      async function convertToInteractive(key) {\n",
              "        const element = document.querySelector('#df-ead15a04-409b-47d0-9785-98b9b8f84d4f');\n",
              "        const dataTable =\n",
              "          await google.colab.kernel.invokeFunction('convertToInteractive',\n",
              "                                                    [key], {});\n",
              "        if (!dataTable) return;\n",
              "\n",
              "        const docLinkHtml = 'Like what you see? Visit the ' +\n",
              "          '<a target=\"_blank\" href=https://colab.research.google.com/notebooks/data_table.ipynb>data table notebook</a>'\n",
              "          + ' to learn more about interactive tables.';\n",
              "        element.innerHTML = '';\n",
              "        dataTable['output_type'] = 'display_data';\n",
              "        await google.colab.output.renderOutput(dataTable, element);\n",
              "        const docLink = document.createElement('div');\n",
              "        docLink.innerHTML = docLinkHtml;\n",
              "        element.appendChild(docLink);\n",
              "      }\n",
              "    </script>\n",
              "  </div>\n",
              "\n",
              "\n",
              "<div id=\"df-a897265a-6adb-45a2-93aa-0b1649874279\">\n",
              "  <button class=\"colab-df-quickchart\" onclick=\"quickchart('df-a897265a-6adb-45a2-93aa-0b1649874279')\"\n",
              "            title=\"Suggest charts\"\n",
              "            style=\"display:none;\">\n",
              "\n",
              "<svg xmlns=\"http://www.w3.org/2000/svg\" height=\"24px\"viewBox=\"0 0 24 24\"\n",
              "     width=\"24px\">\n",
              "    <g>\n",
              "        <path d=\"M19 3H5c-1.1 0-2 .9-2 2v14c0 1.1.9 2 2 2h14c1.1 0 2-.9 2-2V5c0-1.1-.9-2-2-2zM9 17H7v-7h2v7zm4 0h-2V7h2v10zm4 0h-2v-4h2v4z\"/>\n",
              "    </g>\n",
              "</svg>\n",
              "  </button>\n",
              "\n",
              "<style>\n",
              "  .colab-df-quickchart {\n",
              "      --bg-color: #E8F0FE;\n",
              "      --fill-color: #1967D2;\n",
              "      --hover-bg-color: #E2EBFA;\n",
              "      --hover-fill-color: #174EA6;\n",
              "      --disabled-fill-color: #AAA;\n",
              "      --disabled-bg-color: #DDD;\n",
              "  }\n",
              "\n",
              "  [theme=dark] .colab-df-quickchart {\n",
              "      --bg-color: #3B4455;\n",
              "      --fill-color: #D2E3FC;\n",
              "      --hover-bg-color: #434B5C;\n",
              "      --hover-fill-color: #FFFFFF;\n",
              "      --disabled-bg-color: #3B4455;\n",
              "      --disabled-fill-color: #666;\n",
              "  }\n",
              "\n",
              "  .colab-df-quickchart {\n",
              "    background-color: var(--bg-color);\n",
              "    border: none;\n",
              "    border-radius: 50%;\n",
              "    cursor: pointer;\n",
              "    display: none;\n",
              "    fill: var(--fill-color);\n",
              "    height: 32px;\n",
              "    padding: 0;\n",
              "    width: 32px;\n",
              "  }\n",
              "\n",
              "  .colab-df-quickchart:hover {\n",
              "    background-color: var(--hover-bg-color);\n",
              "    box-shadow: 0 1px 2px rgba(60, 64, 67, 0.3), 0 1px 3px 1px rgba(60, 64, 67, 0.15);\n",
              "    fill: var(--button-hover-fill-color);\n",
              "  }\n",
              "\n",
              "  .colab-df-quickchart-complete:disabled,\n",
              "  .colab-df-quickchart-complete:disabled:hover {\n",
              "    background-color: var(--disabled-bg-color);\n",
              "    fill: var(--disabled-fill-color);\n",
              "    box-shadow: none;\n",
              "  }\n",
              "\n",
              "  .colab-df-spinner {\n",
              "    border: 2px solid var(--fill-color);\n",
              "    border-color: transparent;\n",
              "    border-bottom-color: var(--fill-color);\n",
              "    animation:\n",
              "      spin 1s steps(1) infinite;\n",
              "  }\n",
              "\n",
              "  @keyframes spin {\n",
              "    0% {\n",
              "      border-color: transparent;\n",
              "      border-bottom-color: var(--fill-color);\n",
              "      border-left-color: var(--fill-color);\n",
              "    }\n",
              "    20% {\n",
              "      border-color: transparent;\n",
              "      border-left-color: var(--fill-color);\n",
              "      border-top-color: var(--fill-color);\n",
              "    }\n",
              "    30% {\n",
              "      border-color: transparent;\n",
              "      border-left-color: var(--fill-color);\n",
              "      border-top-color: var(--fill-color);\n",
              "      border-right-color: var(--fill-color);\n",
              "    }\n",
              "    40% {\n",
              "      border-color: transparent;\n",
              "      border-right-color: var(--fill-color);\n",
              "      border-top-color: var(--fill-color);\n",
              "    }\n",
              "    60% {\n",
              "      border-color: transparent;\n",
              "      border-right-color: var(--fill-color);\n",
              "    }\n",
              "    80% {\n",
              "      border-color: transparent;\n",
              "      border-right-color: var(--fill-color);\n",
              "      border-bottom-color: var(--fill-color);\n",
              "    }\n",
              "    90% {\n",
              "      border-color: transparent;\n",
              "      border-bottom-color: var(--fill-color);\n",
              "    }\n",
              "  }\n",
              "</style>\n",
              "\n",
              "  <script>\n",
              "    async function quickchart(key) {\n",
              "      const quickchartButtonEl =\n",
              "        document.querySelector('#' + key + ' button');\n",
              "      quickchartButtonEl.disabled = true;  // To prevent multiple clicks.\n",
              "      quickchartButtonEl.classList.add('colab-df-spinner');\n",
              "      try {\n",
              "        const charts = await google.colab.kernel.invokeFunction(\n",
              "            'suggestCharts', [key], {});\n",
              "      } catch (error) {\n",
              "        console.error('Error during call to suggestCharts:', error);\n",
              "      }\n",
              "      quickchartButtonEl.classList.remove('colab-df-spinner');\n",
              "      quickchartButtonEl.classList.add('colab-df-quickchart-complete');\n",
              "    }\n",
              "    (() => {\n",
              "      let quickchartButtonEl =\n",
              "        document.querySelector('#df-a897265a-6adb-45a2-93aa-0b1649874279 button');\n",
              "      quickchartButtonEl.style.display =\n",
              "        google.colab.kernel.accessAllowed ? 'block' : 'none';\n",
              "    })();\n",
              "  </script>\n",
              "</div>\n",
              "    </div>\n",
              "  </div>\n"
            ]
          },
          "metadata": {},
          "execution_count": 53
        }
      ]
    },
    {
      "cell_type": "code",
      "source": [
        "#Membuat visualisasi untuk hoax\n",
        "#Akan dilakukan drop pada entri dengan label 0/tidak hoax\n",
        "\n",
        "dfhoax = dfz[dfz['label'] != \"0\"]\n",
        "dfhoax"
      ],
      "metadata": {
        "colab": {
          "base_uri": "https://localhost:8080/",
          "height": 423
        },
        "outputId": "ec2a1f44-4b95-4a32-8d04-f7f9a6b5b314",
        "id": "TL6ubqqMB_8F"
      },
      "execution_count": null,
      "outputs": [
        {
          "output_type": "execute_result",
          "data": {
            "text/plain": [
              "      label                  judul_tokens_stemmed_normal_lemma  \\\n",
              "0         1  ['pakai', 'masker', 'sebab', 'sakit', 'legionn...   \n",
              "1         1  ['instruksi', 'gubernur', 'jateng', 'tilang', ...   \n",
              "2         1  ['foto', 'jim', 'rohn', 'jokowi', 'presiden', ...   \n",
              "3         1  ['politik', 'nyata', 'jokowi', 'hasil', 'pulan...   \n",
              "4         1  ['foto', 'kadrun', 'lihat', 'foto', 'panas', '...   \n",
              "...     ...                                                ...   \n",
              "4695      1  ['tulis', 'partai', 'komunis', 'indonesia', 'g...   \n",
              "4697      1  ['erdogan', 'duduk', 'kursi', 'tamu', 'kursi',...   \n",
              "4698      1  ['imigran', 'china', 'sengaja', 'bawa', 'virus...   \n",
              "4699      1           ['bukti', 'curang', 'jokowi', 'sembako']   \n",
              "4700      1  ['anak', 'sembunyi', 'kolong', 'meja', 'temu',...   \n",
              "\n",
              "                     narasi_tokens_stemmed_normal_lemma  \n",
              "0     ['caller', 'tapi', 'radio', 'talk', 'show', 'r...  \n",
              "1     ['ythseluruh', 'anggota', 'grup', 'sesuai', 'i...  \n",
              "2     ['jokowi', 'presiden', 'baik', 'dalam', 'sejar...  \n",
              "3     ['maaf', 'mas', 'mbak', 'politik', 'nyata', 'j...  \n",
              "4        ['kadrun', 'lihat', 'foto', 'panas', 'dingin']  \n",
              "...                                                 ...  \n",
              "4695        ['anggap', 'indonesia', 'pimpin', 'jokowi']  \n",
              "4697  ['erdogan', 'vatikan', 'jumpa', 'baba', 'pop',...  \n",
              "4698  ['imigran', 'cn', 'sengaja', 'bawa', 'virus', ...  \n",
              "4699  ['edar', 'mana', 'viral', 'video', 'tindak', '...  \n",
              "4700  ['naluri', 'anak', 'tajam', 'boooss', 'datang'...  \n",
              "\n",
              "[3850 rows x 3 columns]"
            ],
            "text/html": [
              "\n",
              "  <div id=\"df-8b420b2c-e195-47e6-a748-f46cc481c595\" class=\"colab-df-container\">\n",
              "    <div>\n",
              "<style scoped>\n",
              "    .dataframe tbody tr th:only-of-type {\n",
              "        vertical-align: middle;\n",
              "    }\n",
              "\n",
              "    .dataframe tbody tr th {\n",
              "        vertical-align: top;\n",
              "    }\n",
              "\n",
              "    .dataframe thead th {\n",
              "        text-align: right;\n",
              "    }\n",
              "</style>\n",
              "<table border=\"1\" class=\"dataframe\">\n",
              "  <thead>\n",
              "    <tr style=\"text-align: right;\">\n",
              "      <th></th>\n",
              "      <th>label</th>\n",
              "      <th>judul_tokens_stemmed_normal_lemma</th>\n",
              "      <th>narasi_tokens_stemmed_normal_lemma</th>\n",
              "    </tr>\n",
              "  </thead>\n",
              "  <tbody>\n",
              "    <tr>\n",
              "      <th>0</th>\n",
              "      <td>1</td>\n",
              "      <td>['pakai', 'masker', 'sebab', 'sakit', 'legionn...</td>\n",
              "      <td>['caller', 'tapi', 'radio', 'talk', 'show', 'r...</td>\n",
              "    </tr>\n",
              "    <tr>\n",
              "      <th>1</th>\n",
              "      <td>1</td>\n",
              "      <td>['instruksi', 'gubernur', 'jateng', 'tilang', ...</td>\n",
              "      <td>['ythseluruh', 'anggota', 'grup', 'sesuai', 'i...</td>\n",
              "    </tr>\n",
              "    <tr>\n",
              "      <th>2</th>\n",
              "      <td>1</td>\n",
              "      <td>['foto', 'jim', 'rohn', 'jokowi', 'presiden', ...</td>\n",
              "      <td>['jokowi', 'presiden', 'baik', 'dalam', 'sejar...</td>\n",
              "    </tr>\n",
              "    <tr>\n",
              "      <th>3</th>\n",
              "      <td>1</td>\n",
              "      <td>['politik', 'nyata', 'jokowi', 'hasil', 'pulan...</td>\n",
              "      <td>['maaf', 'mas', 'mbak', 'politik', 'nyata', 'j...</td>\n",
              "    </tr>\n",
              "    <tr>\n",
              "      <th>4</th>\n",
              "      <td>1</td>\n",
              "      <td>['foto', 'kadrun', 'lihat', 'foto', 'panas', '...</td>\n",
              "      <td>['kadrun', 'lihat', 'foto', 'panas', 'dingin']</td>\n",
              "    </tr>\n",
              "    <tr>\n",
              "      <th>...</th>\n",
              "      <td>...</td>\n",
              "      <td>...</td>\n",
              "      <td>...</td>\n",
              "    </tr>\n",
              "    <tr>\n",
              "      <th>4695</th>\n",
              "      <td>1</td>\n",
              "      <td>['tulis', 'partai', 'komunis', 'indonesia', 'g...</td>\n",
              "      <td>['anggap', 'indonesia', 'pimpin', 'jokowi']</td>\n",
              "    </tr>\n",
              "    <tr>\n",
              "      <th>4697</th>\n",
              "      <td>1</td>\n",
              "      <td>['erdogan', 'duduk', 'kursi', 'tamu', 'kursi',...</td>\n",
              "      <td>['erdogan', 'vatikan', 'jumpa', 'baba', 'pop',...</td>\n",
              "    </tr>\n",
              "    <tr>\n",
              "      <th>4698</th>\n",
              "      <td>1</td>\n",
              "      <td>['imigran', 'china', 'sengaja', 'bawa', 'virus...</td>\n",
              "      <td>['imigran', 'cn', 'sengaja', 'bawa', 'virus', ...</td>\n",
              "    </tr>\n",
              "    <tr>\n",
              "      <th>4699</th>\n",
              "      <td>1</td>\n",
              "      <td>['bukti', 'curang', 'jokowi', 'sembako']</td>\n",
              "      <td>['edar', 'mana', 'viral', 'video', 'tindak', '...</td>\n",
              "    </tr>\n",
              "    <tr>\n",
              "      <th>4700</th>\n",
              "      <td>1</td>\n",
              "      <td>['anak', 'sembunyi', 'kolong', 'meja', 'temu',...</td>\n",
              "      <td>['naluri', 'anak', 'tajam', 'boooss', 'datang'...</td>\n",
              "    </tr>\n",
              "  </tbody>\n",
              "</table>\n",
              "<p>3850 rows × 3 columns</p>\n",
              "</div>\n",
              "    <div class=\"colab-df-buttons\">\n",
              "\n",
              "  <div class=\"colab-df-container\">\n",
              "    <button class=\"colab-df-convert\" onclick=\"convertToInteractive('df-8b420b2c-e195-47e6-a748-f46cc481c595')\"\n",
              "            title=\"Convert this dataframe to an interactive table.\"\n",
              "            style=\"display:none;\">\n",
              "\n",
              "  <svg xmlns=\"http://www.w3.org/2000/svg\" height=\"24px\" viewBox=\"0 -960 960 960\">\n",
              "    <path d=\"M120-120v-720h720v720H120Zm60-500h600v-160H180v160Zm220 220h160v-160H400v160Zm0 220h160v-160H400v160ZM180-400h160v-160H180v160Zm440 0h160v-160H620v160ZM180-180h160v-160H180v160Zm440 0h160v-160H620v160Z\"/>\n",
              "  </svg>\n",
              "    </button>\n",
              "\n",
              "  <style>\n",
              "    .colab-df-container {\n",
              "      display:flex;\n",
              "      gap: 12px;\n",
              "    }\n",
              "\n",
              "    .colab-df-convert {\n",
              "      background-color: #E8F0FE;\n",
              "      border: none;\n",
              "      border-radius: 50%;\n",
              "      cursor: pointer;\n",
              "      display: none;\n",
              "      fill: #1967D2;\n",
              "      height: 32px;\n",
              "      padding: 0 0 0 0;\n",
              "      width: 32px;\n",
              "    }\n",
              "\n",
              "    .colab-df-convert:hover {\n",
              "      background-color: #E2EBFA;\n",
              "      box-shadow: 0px 1px 2px rgba(60, 64, 67, 0.3), 0px 1px 3px 1px rgba(60, 64, 67, 0.15);\n",
              "      fill: #174EA6;\n",
              "    }\n",
              "\n",
              "    .colab-df-buttons div {\n",
              "      margin-bottom: 4px;\n",
              "    }\n",
              "\n",
              "    [theme=dark] .colab-df-convert {\n",
              "      background-color: #3B4455;\n",
              "      fill: #D2E3FC;\n",
              "    }\n",
              "\n",
              "    [theme=dark] .colab-df-convert:hover {\n",
              "      background-color: #434B5C;\n",
              "      box-shadow: 0px 1px 3px 1px rgba(0, 0, 0, 0.15);\n",
              "      filter: drop-shadow(0px 1px 2px rgba(0, 0, 0, 0.3));\n",
              "      fill: #FFFFFF;\n",
              "    }\n",
              "  </style>\n",
              "\n",
              "    <script>\n",
              "      const buttonEl =\n",
              "        document.querySelector('#df-8b420b2c-e195-47e6-a748-f46cc481c595 button.colab-df-convert');\n",
              "      buttonEl.style.display =\n",
              "        google.colab.kernel.accessAllowed ? 'block' : 'none';\n",
              "\n",
              "      async function convertToInteractive(key) {\n",
              "        const element = document.querySelector('#df-8b420b2c-e195-47e6-a748-f46cc481c595');\n",
              "        const dataTable =\n",
              "          await google.colab.kernel.invokeFunction('convertToInteractive',\n",
              "                                                    [key], {});\n",
              "        if (!dataTable) return;\n",
              "\n",
              "        const docLinkHtml = 'Like what you see? Visit the ' +\n",
              "          '<a target=\"_blank\" href=https://colab.research.google.com/notebooks/data_table.ipynb>data table notebook</a>'\n",
              "          + ' to learn more about interactive tables.';\n",
              "        element.innerHTML = '';\n",
              "        dataTable['output_type'] = 'display_data';\n",
              "        await google.colab.output.renderOutput(dataTable, element);\n",
              "        const docLink = document.createElement('div');\n",
              "        docLink.innerHTML = docLinkHtml;\n",
              "        element.appendChild(docLink);\n",
              "      }\n",
              "    </script>\n",
              "  </div>\n",
              "\n",
              "\n",
              "<div id=\"df-fcb83e19-3742-4add-8f2c-5af4bf6713a7\">\n",
              "  <button class=\"colab-df-quickchart\" onclick=\"quickchart('df-fcb83e19-3742-4add-8f2c-5af4bf6713a7')\"\n",
              "            title=\"Suggest charts\"\n",
              "            style=\"display:none;\">\n",
              "\n",
              "<svg xmlns=\"http://www.w3.org/2000/svg\" height=\"24px\"viewBox=\"0 0 24 24\"\n",
              "     width=\"24px\">\n",
              "    <g>\n",
              "        <path d=\"M19 3H5c-1.1 0-2 .9-2 2v14c0 1.1.9 2 2 2h14c1.1 0 2-.9 2-2V5c0-1.1-.9-2-2-2zM9 17H7v-7h2v7zm4 0h-2V7h2v10zm4 0h-2v-4h2v4z\"/>\n",
              "    </g>\n",
              "</svg>\n",
              "  </button>\n",
              "\n",
              "<style>\n",
              "  .colab-df-quickchart {\n",
              "      --bg-color: #E8F0FE;\n",
              "      --fill-color: #1967D2;\n",
              "      --hover-bg-color: #E2EBFA;\n",
              "      --hover-fill-color: #174EA6;\n",
              "      --disabled-fill-color: #AAA;\n",
              "      --disabled-bg-color: #DDD;\n",
              "  }\n",
              "\n",
              "  [theme=dark] .colab-df-quickchart {\n",
              "      --bg-color: #3B4455;\n",
              "      --fill-color: #D2E3FC;\n",
              "      --hover-bg-color: #434B5C;\n",
              "      --hover-fill-color: #FFFFFF;\n",
              "      --disabled-bg-color: #3B4455;\n",
              "      --disabled-fill-color: #666;\n",
              "  }\n",
              "\n",
              "  .colab-df-quickchart {\n",
              "    background-color: var(--bg-color);\n",
              "    border: none;\n",
              "    border-radius: 50%;\n",
              "    cursor: pointer;\n",
              "    display: none;\n",
              "    fill: var(--fill-color);\n",
              "    height: 32px;\n",
              "    padding: 0;\n",
              "    width: 32px;\n",
              "  }\n",
              "\n",
              "  .colab-df-quickchart:hover {\n",
              "    background-color: var(--hover-bg-color);\n",
              "    box-shadow: 0 1px 2px rgba(60, 64, 67, 0.3), 0 1px 3px 1px rgba(60, 64, 67, 0.15);\n",
              "    fill: var(--button-hover-fill-color);\n",
              "  }\n",
              "\n",
              "  .colab-df-quickchart-complete:disabled,\n",
              "  .colab-df-quickchart-complete:disabled:hover {\n",
              "    background-color: var(--disabled-bg-color);\n",
              "    fill: var(--disabled-fill-color);\n",
              "    box-shadow: none;\n",
              "  }\n",
              "\n",
              "  .colab-df-spinner {\n",
              "    border: 2px solid var(--fill-color);\n",
              "    border-color: transparent;\n",
              "    border-bottom-color: var(--fill-color);\n",
              "    animation:\n",
              "      spin 1s steps(1) infinite;\n",
              "  }\n",
              "\n",
              "  @keyframes spin {\n",
              "    0% {\n",
              "      border-color: transparent;\n",
              "      border-bottom-color: var(--fill-color);\n",
              "      border-left-color: var(--fill-color);\n",
              "    }\n",
              "    20% {\n",
              "      border-color: transparent;\n",
              "      border-left-color: var(--fill-color);\n",
              "      border-top-color: var(--fill-color);\n",
              "    }\n",
              "    30% {\n",
              "      border-color: transparent;\n",
              "      border-left-color: var(--fill-color);\n",
              "      border-top-color: var(--fill-color);\n",
              "      border-right-color: var(--fill-color);\n",
              "    }\n",
              "    40% {\n",
              "      border-color: transparent;\n",
              "      border-right-color: var(--fill-color);\n",
              "      border-top-color: var(--fill-color);\n",
              "    }\n",
              "    60% {\n",
              "      border-color: transparent;\n",
              "      border-right-color: var(--fill-color);\n",
              "    }\n",
              "    80% {\n",
              "      border-color: transparent;\n",
              "      border-right-color: var(--fill-color);\n",
              "      border-bottom-color: var(--fill-color);\n",
              "    }\n",
              "    90% {\n",
              "      border-color: transparent;\n",
              "      border-bottom-color: var(--fill-color);\n",
              "    }\n",
              "  }\n",
              "</style>\n",
              "\n",
              "  <script>\n",
              "    async function quickchart(key) {\n",
              "      const quickchartButtonEl =\n",
              "        document.querySelector('#' + key + ' button');\n",
              "      quickchartButtonEl.disabled = true;  // To prevent multiple clicks.\n",
              "      quickchartButtonEl.classList.add('colab-df-spinner');\n",
              "      try {\n",
              "        const charts = await google.colab.kernel.invokeFunction(\n",
              "            'suggestCharts', [key], {});\n",
              "      } catch (error) {\n",
              "        console.error('Error during call to suggestCharts:', error);\n",
              "      }\n",
              "      quickchartButtonEl.classList.remove('colab-df-spinner');\n",
              "      quickchartButtonEl.classList.add('colab-df-quickchart-complete');\n",
              "    }\n",
              "    (() => {\n",
              "      let quickchartButtonEl =\n",
              "        document.querySelector('#df-fcb83e19-3742-4add-8f2c-5af4bf6713a7 button');\n",
              "      quickchartButtonEl.style.display =\n",
              "        google.colab.kernel.accessAllowed ? 'block' : 'none';\n",
              "    })();\n",
              "  </script>\n",
              "</div>\n",
              "    </div>\n",
              "  </div>\n"
            ]
          },
          "metadata": {},
          "execution_count": 60
        }
      ]
    },
    {
      "cell_type": "code",
      "source": [
        "#Akan dilakukan drop untuk kolom label agar data hanya berisi teks\n",
        "hoax=dfhoax.drop(columns=[\"label\"],axis=1)"
      ],
      "metadata": {
        "id": "O03yhCxmGd0B"
      },
      "execution_count": null,
      "outputs": []
    },
    {
      "cell_type": "code",
      "source": [
        "#Data akan disimpan dalam bentuk txt untuk kebutuhan visualisasi\n",
        "hoax.to_csv(\"hoax.txt\", index=False, encoding='utf8', header=False)"
      ],
      "metadata": {
        "id": "W6K8ndWtF2MX"
      },
      "execution_count": null,
      "outputs": []
    },
    {
      "cell_type": "code",
      "source": [
        "#Visualisasi Word Cloud dengan Voyant untuk semua hoax\n",
        "from IPython.display import Image, display\n",
        "import requests\n",
        "\n",
        "imghoax = \"https://raw.githubusercontent.com/ainagracee/VisualisasiKlasifikasi/main/visualisasi%20hoax.png\"\n",
        "judulteks1 = \"Visualisasi Voyant Word Cloud Hoax\"\n",
        "print(judulteks1)\n",
        "display(Image(requests.get(imghoax).content))"
      ],
      "metadata": {
        "colab": {
          "base_uri": "https://localhost:8080/",
          "height": 528
        },
        "id": "8WNCe0BsHVmV",
        "outputId": "d00a7694-530d-4ad9-d414-ecbd82bb3df6"
      },
      "execution_count": null,
      "outputs": [
        {
          "output_type": "stream",
          "name": "stdout",
          "text": [
            "Visualisasi Voyant Word Cloud Hoax\n"
          ]
        },
        {
          "output_type": "display_data",
          "data": {
            "image/png": "[encoded data removed]",
            "text/plain": [
              "<IPython.core.display.Image object>"
            ]
          },
          "metadata": {}
        }
      ]
    },
    {
      "cell_type": "markdown",
      "source": [
        "Dapat terlihat bahwa kata yang paling banyak muncul adalah yang paling terbesar dalam gambar, yaitu Indonesia, Orang, Jokowi, Foto, Corona, dan selebihnya dapat dilihat pada visualisasi di atas. Artinya, dari sumber data Hoax yang kita ambil melalui link https://www.mafindo.or.id/ adalah pemberitaan terbanyak atau tersering (tren) adalah kata-kata yang muncul pada visualisasi di atas."
      ],
      "metadata": {
        "id": "58jHVCnmLSNy"
      }
    },
    {
      "cell_type": "code",
      "source": [
        "#Perbandingan word cloud asli/unlabeled dengan word cloud hoax\n",
        "from IPython.display import HTML\n",
        "\n",
        "# Create HTML code to display images side by side\n",
        "compare= f\"<img src='{imgasli}' style='width: 36%; margin-right: 10px;'><img src='{imghoax}' style='width: 45%;'>\"\n",
        "\n",
        "# Display the HTML code\n",
        "display(HTML(compare))"
      ],
      "metadata": {
        "colab": {
          "base_uri": "https://localhost:8080/",
          "height": 269
        },
        "id": "RC5qNnX6ITOz",
        "outputId": "790c999b-f322-428a-dbf6-a3d426b8d6fa"
      },
      "execution_count": null,
      "outputs": [
        {
          "output_type": "display_data",
          "data": {
            "text/plain": [
              "<IPython.core.display.HTML object>"
            ],
            "text/html": [
              "<img src='https://raw.githubusercontent.com/ainagracee/VisualisasiKlasifikasi/main/visualisasi%20asli.png' style='width: 36%; margin-right: 10px;'><img src='https://raw.githubusercontent.com/ainagracee/VisualisasiKlasifikasi/main/visualisasi%20hoax.png' style='width: 45%;'>"
            ]
          },
          "metadata": {}
        }
      ]
    },
    {
      "cell_type": "markdown",
      "source": [
        "Berdasarkan perbandingan antara entry asli (ada hoax dan tidak hoax) yang berjumlah 4701 dengan entry hoax yang berjumlah 3850, bisa kita lihat word cloud terbesar adalah Indonesia. Untuk kata setelahnya, terdapat sedikit perbedaan. Untuk entry asli, 4 kata terbesar setelahnya adalah Jokowi, Orang, Foto, dan Video secara berurutan. Sementara untuk entry hoax, 4 kata terbesar setelahnya adalah Orang, Jokowi, Foto, dan Corona."
      ],
      "metadata": {
        "id": "ztbuJlRAJ8o2"
      }
    },
    {
      "cell_type": "markdown",
      "source": [
        "# Modelling Klasifikasi\n",
        "\n",
        "Model klasifikasi Hoax terbaik dengan parameter optimal (dan cross validated)\n",
        "\n",
        "Akan diuji beberapa model :"
      ],
      "metadata": {
        "id": "dHesf3fXpDdf"
      }
    },
    {
      "cell_type": "code",
      "source": [
        "#Digunakan modul gdown untuk mengambil data dari Google Drive\n",
        "!gdown 1nzuj4YZTtVbJ7-LVJXLhhMld7kEZfLAQ"
      ],
      "metadata": {
        "colab": {
          "base_uri": "https://localhost:8080/"
        },
        "id": "NxTc4mCk7xDA",
        "outputId": "6410be0d-d348-4c6c-b7a1-113826fab647"
      },
      "execution_count": null,
      "outputs": [
        {
          "output_type": "stream",
          "name": "stdout",
          "text": [
            "Downloading...\n",
            "From: https://drive.google.com/uc?id=1nzuj4YZTtVbJ7-LVJXLhhMld7kEZfLAQ\n",
            "To: /content/PreproComplete.csv\n",
            "\r  0% 0.00/5.10M [00:00<?, ?B/s]\r 21% 1.05M/5.10M [00:00<00:00, 8.85MB/s]\r100% 5.10M/5.10M [00:00<00:00, 27.7MB/s]\n"
          ]
        }
      ]
    },
    {
      "cell_type": "code",
      "source": [
        "import pandas as pd\n",
        "\n",
        "df1 = pd.read_csv('PreproComplete.csv')\n",
        "df1.head()"
      ],
      "metadata": {
        "colab": {
          "base_uri": "https://localhost:8080/",
          "height": 605
        },
        "id": "GTUve6qE8ftk",
        "outputId": "4e237bd6-a8dc-4af7-c1fa-52eff43f3794"
      },
      "execution_count": null,
      "outputs": [
        {
          "output_type": "execute_result",
          "data": {
            "text/plain": [
              "   Unnamed: 0  label                                              judul  \\\n",
              "0           0      1  pemakaian masker menyebabkan penyakit legionna...   \n",
              "1           1      1  instruksi gubernur jateng tentang penilangan b...   \n",
              "2           2      1  foto jim rohn jokowi adalah presiden terbaik d...   \n",
              "3           3      1  ini bukan politik tapi kenyataan pak jokowi be...   \n",
              "4           4      1       foto kadrun kalo lihat foto ini panas dingin   \n",
              "\n",
              "                   judul_tokens_stemmed_normal_lemma  \\\n",
              "0  ['pakai', 'masker', 'sebab', 'sakit', 'legionn...   \n",
              "1  ['instruksi', 'gubernur', 'jateng', 'tilang', ...   \n",
              "2  ['foto', 'jim', 'rohn', 'jokowi', 'presiden', ...   \n",
              "3  ['politik', 'nyata', 'jokowi', 'hasil', 'pulan...   \n",
              "4  ['foto', 'kadrun', 'lihat', 'foto', 'panas', '...   \n",
              "\n",
              "                                   TF-IDF_dict_judul  \\\n",
              "0  {'pakai': 0.8624791609265196, 'masker': 1.0640...   \n",
              "1  {'instruksi': 0.6223720562354573, 'gubernur': ...   \n",
              "2  {'foto': 0.256665257269125, 'jim': 0.735691824...   \n",
              "3  {'politik': 0.63860892554688, 'nyata': 0.48273...   \n",
              "4  {'foto': 0.8555508575637498, 'kadrun': 1.04305...   \n",
              "\n",
              "                                              narasi  \\\n",
              "0   caller to  radio talk show recently shared th...   \n",
              "1  ythseluruh anggota grup sesuai instruksi guber...   \n",
              "2  jokowi adalah presiden terbaik dlm sejarah ban...   \n",
              "3  maaf mas dan mbak ini bukan politik tapi kenya...   \n",
              "4            kadrun kalo lihat foto ini panas dingin   \n",
              "\n",
              "                  narasi_tokens_stemmed_normal_lemma  \\\n",
              "0  ['caller', 'tapi', 'radio', 'talk', 'show', 'r...   \n",
              "1  ['ythseluruh', 'anggota', 'grup', 'sesuai', 'i...   \n",
              "2  ['jokowi', 'presiden', 'baik', 'dalam', 'sejar...   \n",
              "3  ['maaf', 'mas', 'mbak', 'politik', 'nyata', 'j...   \n",
              "4     ['kadrun', 'lihat', 'foto', 'panas', 'dingin']   \n",
              "\n",
              "                                  TF-IDF_dict_narasi  \n",
              "0  {'caller': 0.09702979188080232, 'tapi': 0.1467...  \n",
              "1  {'ythseluruh': 0.49046121615706806, 'anggota':...  \n",
              "2  {'jokowi': 0.2359594187363993, 'presiden': 0.2...  \n",
              "3  {'maaf': 0.06035873627648455, 'mas': 0.0713172...  \n",
              "4  {'kadrun': 1.149496065984384, 'lihat': 0.79337...  "
            ],
            "text/html": [
              "\n",
              "  <div id=\"df-35352463-48a9-4729-81a0-ed5e283f85cf\" class=\"colab-df-container\">\n",
              "    <div>\n",
              "<style scoped>\n",
              "    .dataframe tbody tr th:only-of-type {\n",
              "        vertical-align: middle;\n",
              "    }\n",
              "\n",
              "    .dataframe tbody tr th {\n",
              "        vertical-align: top;\n",
              "    }\n",
              "\n",
              "    .dataframe thead th {\n",
              "        text-align: right;\n",
              "    }\n",
              "</style>\n",
              "<table border=\"1\" class=\"dataframe\">\n",
              "  <thead>\n",
              "    <tr style=\"text-align: right;\">\n",
              "      <th></th>\n",
              "      <th>Unnamed: 0</th>\n",
              "      <th>label</th>\n",
              "      <th>judul</th>\n",
              "      <th>judul_tokens_stemmed_normal_lemma</th>\n",
              "      <th>TF-IDF_dict_judul</th>\n",
              "      <th>narasi</th>\n",
              "      <th>narasi_tokens_stemmed_normal_lemma</th>\n",
              "      <th>TF-IDF_dict_narasi</th>\n",
              "    </tr>\n",
              "  </thead>\n",
              "  <tbody>\n",
              "    <tr>\n",
              "      <th>0</th>\n",
              "      <td>0</td>\n",
              "      <td>1</td>\n",
              "      <td>pemakaian masker menyebabkan penyakit legionna...</td>\n",
              "      <td>['pakai', 'masker', 'sebab', 'sakit', 'legionn...</td>\n",
              "      <td>{'pakai': 0.8624791609265196, 'masker': 1.0640...</td>\n",
              "      <td>caller to  radio talk show recently shared th...</td>\n",
              "      <td>['caller', 'tapi', 'radio', 'talk', 'show', 'r...</td>\n",
              "      <td>{'caller': 0.09702979188080232, 'tapi': 0.1467...</td>\n",
              "    </tr>\n",
              "    <tr>\n",
              "      <th>1</th>\n",
              "      <td>1</td>\n",
              "      <td>1</td>\n",
              "      <td>instruksi gubernur jateng tentang penilangan b...</td>\n",
              "      <td>['instruksi', 'gubernur', 'jateng', 'tilang', ...</td>\n",
              "      <td>{'instruksi': 0.6223720562354573, 'gubernur': ...</td>\n",
              "      <td>ythseluruh anggota grup sesuai instruksi guber...</td>\n",
              "      <td>['ythseluruh', 'anggota', 'grup', 'sesuai', 'i...</td>\n",
              "      <td>{'ythseluruh': 0.49046121615706806, 'anggota':...</td>\n",
              "    </tr>\n",
              "    <tr>\n",
              "      <th>2</th>\n",
              "      <td>2</td>\n",
              "      <td>1</td>\n",
              "      <td>foto jim rohn jokowi adalah presiden terbaik d...</td>\n",
              "      <td>['foto', 'jim', 'rohn', 'jokowi', 'presiden', ...</td>\n",
              "      <td>{'foto': 0.256665257269125, 'jim': 0.735691824...</td>\n",
              "      <td>jokowi adalah presiden terbaik dlm sejarah ban...</td>\n",
              "      <td>['jokowi', 'presiden', 'baik', 'dalam', 'sejar...</td>\n",
              "      <td>{'jokowi': 0.2359594187363993, 'presiden': 0.2...</td>\n",
              "    </tr>\n",
              "    <tr>\n",
              "      <th>3</th>\n",
              "      <td>3</td>\n",
              "      <td>1</td>\n",
              "      <td>ini bukan politik tapi kenyataan pak jokowi be...</td>\n",
              "      <td>['politik', 'nyata', 'jokowi', 'hasil', 'pulan...</td>\n",
              "      <td>{'politik': 0.63860892554688, 'nyata': 0.48273...</td>\n",
              "      <td>maaf mas dan mbak ini bukan politik tapi kenya...</td>\n",
              "      <td>['maaf', 'mas', 'mbak', 'politik', 'nyata', 'j...</td>\n",
              "      <td>{'maaf': 0.06035873627648455, 'mas': 0.0713172...</td>\n",
              "    </tr>\n",
              "    <tr>\n",
              "      <th>4</th>\n",
              "      <td>4</td>\n",
              "      <td>1</td>\n",
              "      <td>foto kadrun kalo lihat foto ini panas dingin</td>\n",
              "      <td>['foto', 'kadrun', 'lihat', 'foto', 'panas', '...</td>\n",
              "      <td>{'foto': 0.8555508575637498, 'kadrun': 1.04305...</td>\n",
              "      <td>kadrun kalo lihat foto ini panas dingin</td>\n",
              "      <td>['kadrun', 'lihat', 'foto', 'panas', 'dingin']</td>\n",
              "      <td>{'kadrun': 1.149496065984384, 'lihat': 0.79337...</td>\n",
              "    </tr>\n",
              "  </tbody>\n",
              "</table>\n",
              "</div>\n",
              "    <div class=\"colab-df-buttons\">\n",
              "\n",
              "  <div class=\"colab-df-container\">\n",
              "    <button class=\"colab-df-convert\" onclick=\"convertToInteractive('df-35352463-48a9-4729-81a0-ed5e283f85cf')\"\n",
              "            title=\"Convert this dataframe to an interactive table.\"\n",
              "            style=\"display:none;\">\n",
              "\n",
              "  <svg xmlns=\"http://www.w3.org/2000/svg\" height=\"24px\" viewBox=\"0 -960 960 960\">\n",
              "    <path d=\"M120-120v-720h720v720H120Zm60-500h600v-160H180v160Zm220 220h160v-160H400v160Zm0 220h160v-160H400v160ZM180-400h160v-160H180v160Zm440 0h160v-160H620v160ZM180-180h160v-160H180v160Zm440 0h160v-160H620v160Z\"/>\n",
              "  </svg>\n",
              "    </button>\n",
              "\n",
              "  <style>\n",
              "    .colab-df-container {\n",
              "      display:flex;\n",
              "      gap: 12px;\n",
              "    }\n",
              "\n",
              "    .colab-df-convert {\n",
              "      background-color: #E8F0FE;\n",
              "      border: none;\n",
              "      border-radius: 50%;\n",
              "      cursor: pointer;\n",
              "      display: none;\n",
              "      fill: #1967D2;\n",
              "      height: 32px;\n",
              "      padding: 0 0 0 0;\n",
              "      width: 32px;\n",
              "    }\n",
              "\n",
              "    .colab-df-convert:hover {\n",
              "      background-color: #E2EBFA;\n",
              "      box-shadow: 0px 1px 2px rgba(60, 64, 67, 0.3), 0px 1px 3px 1px rgba(60, 64, 67, 0.15);\n",
              "      fill: #174EA6;\n",
              "    }\n",
              "\n",
              "    .colab-df-buttons div {\n",
              "      margin-bottom: 4px;\n",
              "    }\n",
              "\n",
              "    [theme=dark] .colab-df-convert {\n",
              "      background-color: #3B4455;\n",
              "      fill: #D2E3FC;\n",
              "    }\n",
              "\n",
              "    [theme=dark] .colab-df-convert:hover {\n",
              "      background-color: #434B5C;\n",
              "      box-shadow: 0px 1px 3px 1px rgba(0, 0, 0, 0.15);\n",
              "      filter: drop-shadow(0px 1px 2px rgba(0, 0, 0, 0.3));\n",
              "      fill: #FFFFFF;\n",
              "    }\n",
              "  </style>\n",
              "\n",
              "    <script>\n",
              "      const buttonEl =\n",
              "        document.querySelector('#df-35352463-48a9-4729-81a0-ed5e283f85cf button.colab-df-convert');\n",
              "      buttonEl.style.display =\n",
              "        google.colab.kernel.accessAllowed ? 'block' : 'none';\n",
              "\n",
              "      async function convertToInteractive(key) {\n",
              "        const element = document.querySelector('#df-35352463-48a9-4729-81a0-ed5e283f85cf');\n",
              "        const dataTable =\n",
              "          await google.colab.kernel.invokeFunction('convertToInteractive',\n",
              "                                                    [key], {});\n",
              "        if (!dataTable) return;\n",
              "\n",
              "        const docLinkHtml = 'Like what you see? Visit the ' +\n",
              "          '<a target=\"_blank\" href=https://colab.research.google.com/notebooks/data_table.ipynb>data table notebook</a>'\n",
              "          + ' to learn more about interactive tables.';\n",
              "        element.innerHTML = '';\n",
              "        dataTable['output_type'] = 'display_data';\n",
              "        await google.colab.output.renderOutput(dataTable, element);\n",
              "        const docLink = document.createElement('div');\n",
              "        docLink.innerHTML = docLinkHtml;\n",
              "        element.appendChild(docLink);\n",
              "      }\n",
              "    </script>\n",
              "  </div>\n",
              "\n",
              "\n",
              "<div id=\"df-ca41c1c1-ec2b-4f9a-9aa0-b5e3fe5ce59d\">\n",
              "  <button class=\"colab-df-quickchart\" onclick=\"quickchart('df-ca41c1c1-ec2b-4f9a-9aa0-b5e3fe5ce59d')\"\n",
              "            title=\"Suggest charts\"\n",
              "            style=\"display:none;\">\n",
              "\n",
              "<svg xmlns=\"http://www.w3.org/2000/svg\" height=\"24px\"viewBox=\"0 0 24 24\"\n",
              "     width=\"24px\">\n",
              "    <g>\n",
              "        <path d=\"M19 3H5c-1.1 0-2 .9-2 2v14c0 1.1.9 2 2 2h14c1.1 0 2-.9 2-2V5c0-1.1-.9-2-2-2zM9 17H7v-7h2v7zm4 0h-2V7h2v10zm4 0h-2v-4h2v4z\"/>\n",
              "    </g>\n",
              "</svg>\n",
              "  </button>\n",
              "\n",
              "<style>\n",
              "  .colab-df-quickchart {\n",
              "      --bg-color: #E8F0FE;\n",
              "      --fill-color: #1967D2;\n",
              "      --hover-bg-color: #E2EBFA;\n",
              "      --hover-fill-color: #174EA6;\n",
              "      --disabled-fill-color: #AAA;\n",
              "      --disabled-bg-color: #DDD;\n",
              "  }\n",
              "\n",
              "  [theme=dark] .colab-df-quickchart {\n",
              "      --bg-color: #3B4455;\n",
              "      --fill-color: #D2E3FC;\n",
              "      --hover-bg-color: #434B5C;\n",
              "      --hover-fill-color: #FFFFFF;\n",
              "      --disabled-bg-color: #3B4455;\n",
              "      --disabled-fill-color: #666;\n",
              "  }\n",
              "\n",
              "  .colab-df-quickchart {\n",
              "    background-color: var(--bg-color);\n",
              "    border: none;\n",
              "    border-radius: 50%;\n",
              "    cursor: pointer;\n",
              "    display: none;\n",
              "    fill: var(--fill-color);\n",
              "    height: 32px;\n",
              "    padding: 0;\n",
              "    width: 32px;\n",
              "  }\n",
              "\n",
              "  .colab-df-quickchart:hover {\n",
              "    background-color: var(--hover-bg-color);\n",
              "    box-shadow: 0 1px 2px rgba(60, 64, 67, 0.3), 0 1px 3px 1px rgba(60, 64, 67, 0.15);\n",
              "    fill: var(--button-hover-fill-color);\n",
              "  }\n",
              "\n",
              "  .colab-df-quickchart-complete:disabled,\n",
              "  .colab-df-quickchart-complete:disabled:hover {\n",
              "    background-color: var(--disabled-bg-color);\n",
              "    fill: var(--disabled-fill-color);\n",
              "    box-shadow: none;\n",
              "  }\n",
              "\n",
              "  .colab-df-spinner {\n",
              "    border: 2px solid var(--fill-color);\n",
              "    border-color: transparent;\n",
              "    border-bottom-color: var(--fill-color);\n",
              "    animation:\n",
              "      spin 1s steps(1) infinite;\n",
              "  }\n",
              "\n",
              "  @keyframes spin {\n",
              "    0% {\n",
              "      border-color: transparent;\n",
              "      border-bottom-color: var(--fill-color);\n",
              "      border-left-color: var(--fill-color);\n",
              "    }\n",
              "    20% {\n",
              "      border-color: transparent;\n",
              "      border-left-color: var(--fill-color);\n",
              "      border-top-color: var(--fill-color);\n",
              "    }\n",
              "    30% {\n",
              "      border-color: transparent;\n",
              "      border-left-color: var(--fill-color);\n",
              "      border-top-color: var(--fill-color);\n",
              "      border-right-color: var(--fill-color);\n",
              "    }\n",
              "    40% {\n",
              "      border-color: transparent;\n",
              "      border-right-color: var(--fill-color);\n",
              "      border-top-color: var(--fill-color);\n",
              "    }\n",
              "    60% {\n",
              "      border-color: transparent;\n",
              "      border-right-color: var(--fill-color);\n",
              "    }\n",
              "    80% {\n",
              "      border-color: transparent;\n",
              "      border-right-color: var(--fill-color);\n",
              "      border-bottom-color: var(--fill-color);\n",
              "    }\n",
              "    90% {\n",
              "      border-color: transparent;\n",
              "      border-bottom-color: var(--fill-color);\n",
              "    }\n",
              "  }\n",
              "</style>\n",
              "\n",
              "  <script>\n",
              "    async function quickchart(key) {\n",
              "      const quickchartButtonEl =\n",
              "        document.querySelector('#' + key + ' button');\n",
              "      quickchartButtonEl.disabled = true;  // To prevent multiple clicks.\n",
              "      quickchartButtonEl.classList.add('colab-df-spinner');\n",
              "      try {\n",
              "        const charts = await google.colab.kernel.invokeFunction(\n",
              "            'suggestCharts', [key], {});\n",
              "      } catch (error) {\n",
              "        console.error('Error during call to suggestCharts:', error);\n",
              "      }\n",
              "      quickchartButtonEl.classList.remove('colab-df-spinner');\n",
              "      quickchartButtonEl.classList.add('colab-df-quickchart-complete');\n",
              "    }\n",
              "    (() => {\n",
              "      let quickchartButtonEl =\n",
              "        document.querySelector('#df-ca41c1c1-ec2b-4f9a-9aa0-b5e3fe5ce59d button');\n",
              "      quickchartButtonEl.style.display =\n",
              "        google.colab.kernel.accessAllowed ? 'block' : 'none';\n",
              "    })();\n",
              "  </script>\n",
              "</div>\n",
              "    </div>\n",
              "  </div>\n"
            ]
          },
          "metadata": {},
          "execution_count": 40
        }
      ]
    },
    {
      "cell_type": "markdown",
      "source": [
        "# Model SVM (Support Vector Machine)"
      ],
      "metadata": {
        "id": "6Wf00s6sauFB"
      }
    },
    {
      "cell_type": "code",
      "source": [
        "from sklearn.model_selection import train_test_split\n",
        "from sklearn.svm import SVC\n",
        "from sklearn.metrics import accuracy_score, classification_report\n",
        "from sklearn.feature_extraction.text import TfidfVectorizer\n",
        "from sklearn.preprocessing import FunctionTransformer\n",
        "import ast\n",
        "\n",
        "# ubah string\n",
        "df1['TF-IDF_dict_judul'] = df1['TF-IDF_dict_judul'].apply(ast.literal_eval)\n",
        "\n",
        "# definisikan menjadi string\n",
        "def dict_to_string(x):\n",
        "    return str(x)\n",
        "\n",
        "# mengubah\n",
        "df1['TF-IDF_dict_judul'] = df1['TF-IDF_dict_judul'].apply(dict_to_string)\n",
        "\n",
        "#TfidfVectorizer masukan ke kolom yang sudah di transformasi\n",
        "tfidf_vectorizer = TfidfVectorizer()\n",
        "X_sparse = tfidf_vectorizer.fit_transform(df1['TF-IDF_dict_judul'])\n",
        "\n",
        "# pisahkan kolom X dan Y\n",
        "y = df1['label']\n",
        "X_train, X_test, y_train, y_test = train_test_split(X_sparse, y, test_size=0.2, random_state=42)\n",
        "\n",
        "# Klasifikasi SVM\n",
        "svm_classifier = SVC(kernel='linear', C=1.0)\n",
        "\n",
        "\n",
        "svm_classifier.fit(X_train, y_train)\n",
        "\n",
        "# Prediksi di kolom Y\n",
        "y_pred = svm_classifier.predict(X_test)\n",
        "\n",
        "# Hasil predikis\n",
        "accuracy = accuracy_score(y_test, y_pred)\n",
        "print(f'Accuracy: {accuracy:.2f}')\n",
        "\n",
        "print('Classification Report:\\n', classification_report(y_test, y_pred))\n"
      ],
      "metadata": {
        "colab": {
          "base_uri": "https://localhost:8080/"
        },
        "id": "ORxFYoM5L_0f",
        "outputId": "5c6b181e-280c-4e26-f08b-726a13942540"
      },
      "execution_count": null,
      "outputs": [
        {
          "output_type": "stream",
          "name": "stdout",
          "text": [
            "Accuracy: 0.86\n",
            "Classification Report:\n",
            "               precision    recall  f1-score   support\n",
            "\n",
            "           0       0.78      0.24      0.36       164\n",
            "           1       0.86      0.99      0.92       777\n",
            "\n",
            "    accuracy                           0.86       941\n",
            "   macro avg       0.82      0.61      0.64       941\n",
            "weighted avg       0.85      0.86      0.82       941\n",
            "\n"
          ]
        }
      ]
    },
    {
      "cell_type": "markdown",
      "source": [
        "**Interpretasi**\n",
        "Hasil evaluasi model dapat diinterpretasikan sebagai berikut:\n",
        "\n",
        "### Akurasi (Accuracy): 0.86\n",
        "Akurasi mengukur sejauh mana model dapat mengklasifikasikan data dengan benar. Dalam kasus ini, akurasi model adalah 0.86, atau 86%. Ini berarti sekitar 86% dari semua prediksi yang dilakukan oleh model benar.\n",
        "\n",
        "### Laporan Klasifikasi (Classification Report):\n",
        "\n",
        "#### Kelas 0:\n",
        "- Presisi (Precision): 0.78\n",
        "  - Dari semua prediksi yang diklasifikasikan sebagai Kelas 0, sekitar 78% di antaranya benar-benar termasuk dalam Kelas 0.\n",
        "- Recall: 0.24\n",
        "  - Dari semua sampel yang sebenarnya termasuk dalam Kelas 0, hanya sekitar 24% yang berhasil diidentifikasi oleh model.\n",
        "- F1-Score: 0.36\n",
        "  - Merupakan harmonic mean dari presisi dan recall. Sebuah nilai yang mencakup keseimbangan antara kedua metrik tersebut.\n",
        "- Support: 164\n",
        "  - Jumlah total sampel dalam Kelas 0.\n",
        "\n",
        "#### Kelas 1:\n",
        "- Presisi: 0.86\n",
        "  - Dari semua prediksi yang diklasifikasikan sebagai Kelas 1, sekitar 86% di antaranya benar-benar termasuk dalam Kelas 1.\n",
        "- Recall: 0.99\n",
        "  - Dari semua sampel yang sebenarnya termasuk dalam Kelas 1, sekitar 99% yang berhasil diidentifikasi oleh model.\n",
        "- F1-Score: 0.92\n",
        "  - Nilai yang tinggi menunjukkan model yang baik dalam mengklasifikasikan Kelas 1.\n",
        "- Support: 777\n",
        "  - Jumlah total sampel dalam Kelas 1.\n",
        "\n",
        "### Kesimpulan:\n",
        "- Meskipun akurasi keseluruhan model cukup tinggi (86%), kita perlu memperhatikan evaluasi kelas secara terpisah.\n",
        "- Model memiliki kinerja yang baik dalam mengidentifikasi Kelas 1, tetapi memiliki tantangan dalam mengidentifikasi Kelas 0, seperti yang tercermin dari nilai recall yang rendah untuk Kelas 0.\n",
        "- F1-score menggabungkan presisi dan recall, memberikan gambaran keseluruhan tentang kinerja model. Dalam hal ini, F1-score secara keseluruhan cukup baik, tetapi ada perbedaan yang signifikan antara kinerja pada kedua kelas."
      ],
      "metadata": {
        "id": "sMBTB4wNNEVe"
      }
    },
    {
      "cell_type": "code",
      "source": [
        "from sklearn.model_selection import train_test_split\n",
        "from sklearn.svm import SVC\n",
        "from sklearn.metrics import accuracy_score, classification_report\n",
        "from sklearn.feature_extraction.text import TfidfVectorizer\n",
        "from sklearn.preprocessing import FunctionTransformer\n",
        "import ast\n",
        "\n",
        "# Mengubah String\n",
        "df1['TF-IDF_dict_narasi'] = df1['TF-IDF_dict_narasi'].apply(ast.literal_eval)\n",
        "\n",
        "# Definisikan Dictionary menjadi string\n",
        "def dict_to_string(x):\n",
        "    return str(x)\n",
        "\n",
        "# Kustom transformers\n",
        "df1['TF-IDF_dict_narasi'] = df1['TF-IDF_dict_narasi'].apply(dict_to_string)\n",
        "\n",
        "# Use TfidfVectorizer\n",
        "tfidf_vectorizer = TfidfVectorizer()\n",
        "X_sparse = tfidf_vectorizer.fit_transform(df1['TF-IDF_dict_narasi'])\n",
        "\n",
        "# Pisahkan kolom X dan Y\n",
        "y = df1['label']\n",
        "X_train, X_test, y_train, y_test = train_test_split(X_sparse, y, test_size=0.2, random_state=42)\n",
        "\n",
        "# inisiasi SVM\n",
        "svm_classifier = SVC(kernel='linear', C=1.0)\n",
        "\n",
        "\n",
        "svm_classifier.fit(X_train, y_train)\n",
        "\n",
        "# Prediksi\n",
        "y_pred = svm_classifier.predict(X_test)\n",
        "\n",
        "# Kesimpulan\n",
        "accuracy = accuracy_score(y_test, y_pred)\n",
        "print(f'Accuracy: {accuracy:.2f}')\n",
        "\n",
        "# Tunjukan\n",
        "print('Classification Report:\\n', classification_report(y_test, y_pred))\n"
      ],
      "metadata": {
        "colab": {
          "base_uri": "https://localhost:8080/"
        },
        "id": "TsQtmr9UNvwf",
        "outputId": "6eb6f603-ac72-4928-ab4c-a7ff624f9825"
      },
      "execution_count": null,
      "outputs": [
        {
          "output_type": "stream",
          "name": "stdout",
          "text": [
            "Accuracy: 0.83\n",
            "Classification Report:\n",
            "               precision    recall  f1-score   support\n",
            "\n",
            "           0       0.64      0.05      0.10       164\n",
            "           1       0.83      0.99      0.91       777\n",
            "\n",
            "    accuracy                           0.83       941\n",
            "   macro avg       0.74      0.52      0.50       941\n",
            "weighted avg       0.80      0.83      0.77       941\n",
            "\n"
          ]
        }
      ]
    },
    {
      "cell_type": "markdown",
      "source": [
        "**Interpretasi**\n",
        "Hasil evaluasi model dapat diinterpretasikan sebagai berikut:\n",
        "\n",
        "### Akurasi (Accuracy): 0.83\n",
        "Akurasi mengukur sejauh mana model dapat mengklasifikasikan data dengan benar. Dalam kasus ini, akurasi model adalah 0.83, atau 83%. Ini berarti sekitar 83% dari semua prediksi yang dilakukan oleh model benar.\n",
        "\n",
        "### Laporan Klasifikasi (Classification Report):\n",
        "\n",
        "#### Kelas 0:\n",
        "- Presisi (Precision): 0.64\n",
        "  - Dari semua prediksi yang diklasifikasikan sebagai Kelas 0, sekitar 64% di antaranya benar-benar termasuk dalam Kelas 0.\n",
        "- Recall: 0.05\n",
        "  - Dari semua sampel yang sebenarnya termasuk dalam Kelas 0, hanya sekitar 5% yang berhasil diidentifikasi oleh model.\n",
        "- F1-Score: 0.10\n",
        "  - Merupakan harmonic mean dari presisi dan recall. Sebuah nilai yang rendah menunjukkan model memiliki kinerja rendah dalam mengklasifikasikan Kelas 0.\n",
        "- Support: 164\n",
        "  - Jumlah total sampel dalam Kelas 0.\n",
        "\n",
        "#### Kelas 1:\n",
        "- Presisi: 0.83\n",
        "  - Dari semua prediksi yang diklasifikasikan sebagai Kelas 1, sekitar 83% di antaranya benar-benar termasuk dalam Kelas 1.\n",
        "- Recall: 0.99\n",
        "  - Dari semua sampel yang sebenarnya termasuk dalam Kelas 1, sekitar 99% yang berhasil diidentifikasi oleh model.\n",
        "- F1-Score: 0.91\n",
        "  - Nilai yang tinggi menunjukkan model yang baik dalam mengklasifikasikan Kelas 1.\n",
        "- Support: 777\n",
        "  - Jumlah total sampel dalam Kelas 1.\n",
        "\n",
        "### Kesimpulan:\n",
        "- Meskipun akurasi keseluruhan model cukup tinggi (83%), kita perlu memperhatikan evaluasi kelas secara terpisah.\n",
        "- Model memiliki kinerja yang baik dalam mengidentifikasi Kelas 1, tetapi memiliki tantangan dalam mengidentifikasi Kelas 0, seperti yang tercermin dari nilai recall yang rendah untuk Kelas 0.\n",
        "- F1-score menggabungkan presisi dan recall, memberikan gambaran keseluruhan tentang kinerja model. Dalam hal ini, F1-score secara keseluruhan adalah 0.77, yang menunjukkan performa yang cukup baik secara keseluruhan, tetapi masih diperlukan peningkatan pada identifikasi Kelas 0.\n",
        "---\n",
        "\n"
      ],
      "metadata": {
        "id": "dVd9LugQN4pf"
      }
    },
    {
      "cell_type": "markdown",
      "source": [
        "### RandomForest Model"
      ],
      "metadata": {
        "id": "Pok1mlzw7lik"
      }
    },
    {
      "cell_type": "markdown",
      "source": [
        "Judul"
      ],
      "metadata": {
        "id": "UKBG3b32RM8Y"
      }
    },
    {
      "cell_type": "code",
      "source": [
        "import pandas as pd\n",
        "from sklearn.model_selection import train_test_split\n",
        "from sklearn.ensemble import RandomForestClassifier\n",
        "from sklearn.metrics import accuracy_score, classification_report\n",
        "from sklearn.feature_extraction import DictVectorizer\n",
        "\n",
        "X = df1['TF-IDF_dict_judul']\n",
        "y = df1['label']\n",
        "\n",
        "vectorizer = DictVectorizer(sparse=True) #ubah dict menjadi matriks\n",
        "X_sparse = vectorizer.fit_transform(X)\n",
        "X_train, X_test, y_train, y_test = train_test_split(X_sparse, y, test_size=0.2, random_state=42) #bagi data untuk dilatih dan diuji\n",
        "randomforest_classifier = RandomForestClassifier(n_estimators=100, random_state=42) #inisialisasi randomforest\n",
        "\n",
        "randomforest_classifier.fit(X_train, y_train) #melatih model\n",
        "\n",
        "y_pred = randomforest_classifier.predict(X_test) #membuat prediksi dengan model\n",
        "\n",
        "akurasi = accuracy_score(y_test, y_pred) #mencari nilai akurasi model\n",
        "print(f'Akurasi: {akurasi:.2f}')\n",
        "print('Classification Report:\\n', classification_report(y_test, y_pred))"
      ],
      "metadata": {
        "id": "53mkJdb3lEcd",
        "colab": {
          "base_uri": "https://localhost:8080/"
        },
        "outputId": "2ba753a4-7bbe-4513-c865-c92e90a8ad35"
      },
      "execution_count": null,
      "outputs": [
        {
          "output_type": "stream",
          "name": "stdout",
          "text": [
            "Akurasi: 0.86\n",
            "Classification Report:\n",
            "               precision    recall  f1-score   support\n",
            "\n",
            "           0       0.76      0.32      0.45       164\n",
            "           1       0.87      0.98      0.92       777\n",
            "\n",
            "    accuracy                           0.86       941\n",
            "   macro avg       0.81      0.65      0.69       941\n",
            "weighted avg       0.85      0.86      0.84       941\n",
            "\n"
          ]
        }
      ]
    },
    {
      "cell_type": "markdown",
      "source": [
        "# Interpretasi\n",
        "\n",
        "* model randomforest memiliki akurasi sebesar 86% untuk memprediksi hoax/tidaknya judul data dari sampel.\n",
        "* Untuk data fakta memiliki presisi sebesar 76% dan untuk data hoaks memiliki presisi sebesar 87%\n",
        "* Untuk data fakta, model dapat mengidentifikasi sekitar 32% dari seluruh sampel fakta. Untuk data hoaks, model dapat mengidentifikasi sekitar 98% dari seluruh sampel data hoaks.\n",
        "\n",
        "Model ini cukup baik untuk memprediksi hasil data hoaks dengan nilai presisi dan recall yang cukup tinggi.\n",
        "\n"
      ],
      "metadata": {
        "id": "8yYS9vcMAPv_"
      }
    },
    {
      "cell_type": "markdown",
      "source": [
        "**Narasi**"
      ],
      "metadata": {
        "id": "kO9RNJrDCCrX"
      }
    },
    {
      "cell_type": "code",
      "source": [
        "import pandas as pd\n",
        "from sklearn.model_selection import train_test_split\n",
        "from sklearn.ensemble import RandomForestClassifier\n",
        "from sklearn.metrics import accuracy_score, classification_report\n",
        "from sklearn.feature_extraction import DictVectorizer\n",
        "\n",
        "X = df1['TF-IDF_dict_narasi']\n",
        "y = df1['label']\n",
        "\n",
        "vectorizer = DictVectorizer(sparse=True) #ubah dict menjadi matriks\n",
        "X_sparse = vectorizer.fit_transform(X)\n",
        "X_train, X_test, y_train, y_test = train_test_split(X_sparse, y, test_size=0.2, random_state=42) #bagi data untuk dilatih dan diuji\n",
        "randomforest_classifier = RandomForestClassifier(n_estimators=100, random_state=42) #inisialisasi randomforest\n",
        "\n",
        "randomforest_classifier.fit(X_train, y_train) #melatih model\n",
        "\n",
        "y_pred = randomforest_classifier.predict(X_test) #membuat prediksi dengan model\n",
        "\n",
        "akurasi = accuracy_score(y_test, y_pred) #mencari nilai akurasi model\n",
        "print(f'Akurasi: {akurasi:.2f}')\n",
        "print('Classification Report:\\n', classification_report(y_test, y_pred))"
      ],
      "metadata": {
        "colab": {
          "base_uri": "https://localhost:8080/"
        },
        "id": "1oYAAzu18xYu",
        "outputId": "1da56397-d6cf-41cf-9579-bf70be7454a9"
      },
      "execution_count": null,
      "outputs": [
        {
          "output_type": "stream",
          "name": "stdout",
          "text": [
            "Akurasi: 0.82\n",
            "Classification Report:\n",
            "               precision    recall  f1-score   support\n",
            "\n",
            "           0       0.42      0.05      0.09       164\n",
            "           1       0.83      0.99      0.90       777\n",
            "\n",
            "    accuracy                           0.82       941\n",
            "   macro avg       0.63      0.52      0.49       941\n",
            "weighted avg       0.76      0.82      0.76       941\n",
            "\n"
          ]
        }
      ]
    },
    {
      "cell_type": "markdown",
      "source": [
        "# Interpretasi\n",
        "* model randomforest memiliki akurasi sebesar 82% untuk memprediksi hoax/tidaknya narasi data dari sampel.\n",
        "* Untuk data fakta memiliki presisi sebesar 42% dan untuk data hoaks memiliki presisi sebesar 83%\n",
        "* Untuk data fakta, model dapat mengidentifikasi sekitar 5% dari seluruh sampel fakta. Untuk data hoaks, model dapat mengidentifikasi sekitar 99% dari seluruh sampel data hoaks.\n",
        "\n",
        "Model ini cukup baik untuk memprediksi hasil data hoaks dengan nilai presisi dan recall yang cukup tinggi."
      ],
      "metadata": {
        "id": "12bfvglbBnme"
      }
    },
    {
      "cell_type": "markdown",
      "source": [
        "# **Kesimpulan**\n",
        "\n",
        "Model klasifikasi terbaik dengan parameter optimal adalah model SVM dengan tingkat akurasi adalah 86%"
      ],
      "metadata": {
        "id": "WoHdIesuQDKd"
      }
    }
  ]
}